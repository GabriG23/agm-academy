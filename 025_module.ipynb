{
 "cells": [
  {
   "cell_type": "markdown",
   "id": "a01b76c2",
   "metadata": {},
   "source": [
    "# Esercizi 2.5° modulo\n",
    "- Le funzioni"
   ]
  },
  {
   "cell_type": "code",
   "execution_count": 2,
   "id": "de69e770",
   "metadata": {},
   "outputs": [
    {
     "name": "stdout",
     "output_type": "stream",
     "text": [
      "Dati singoli (5, 'Mario', 10, True)\n",
      "Coppie di dati {'x': 1, 'y': 2, 'z': 3}\n"
     ]
    }
   ],
   "source": [
    "def argomenti(*singoli, **coppie):\n",
    "    print('Dati singoli', singoli)\n",
    "    print('Coppie di dati', coppie)\n",
    "argomenti(5, 'Mario', 10, 2==2, x=1, y=2, z=3)"
   ]
  },
  {
   "cell_type": "code",
   "execution_count": 3,
   "id": "deaf4f33",
   "metadata": {},
   "outputs": [
    {
     "name": "stdout",
     "output_type": "stream",
     "text": [
      "a=1, b=2, c=3, d=4, e=5\n"
     ]
    }
   ],
   "source": [
    "def funz(a, b, /, c=0, *, d=0, e=0):\n",
    "    print(f\"a={a}, b={b}, c={c}, d={d}, e={e}\")\n",
    "funz(1, 2, 3, e=5, d=4)"
   ]
  },
  {
   "cell_type": "code",
   "execution_count": null,
   "id": "c503fdd4",
   "metadata": {},
   "outputs": [
    {
     "name": "stdout",
     "output_type": "stream",
     "text": [
      "Ciao a tutti!\n"
     ]
    }
   ],
   "source": [
    "def saluta():\n",
    "    print(\"Ciao a tutti!\")\n",
    "saluto_personalizzato = saluta\n",
    "saluto_personalizzato()"
   ]
  },
  {
   "cell_type": "code",
   "execution_count": 51,
   "id": "8896df4d",
   "metadata": {},
   "outputs": [],
   "source": [
    "x = 10\n",
    "\n",
    "def interno():\n",
    "    # global x\n",
    "    x = 5\n",
    "    print(x)\n",
    "    x = 2\n",
    "    def inner():\n",
    "        nonlocal x\n",
    "        x = 2\n",
    "        print(x)"
   ]
  },
  {
   "cell_type": "code",
   "execution_count": null,
   "id": "136bea99",
   "metadata": {},
   "outputs": [
    {
     "name": "stdout",
     "output_type": "stream",
     "text": [
      "Evochiamo la funzione 'somma'\n",
      "Lavoro finito per la funzione 'somma'\n",
      "8\n"
     ]
    }
   ],
   "source": [
    "def decor(funz):    # prende in ingresso una funzione, quindi somma\n",
    "    def custodia(*args, **kwargs):  #definisce una custodia\n",
    "        print(f\"Evochiamo la funzione '{funz.__name__}'\")   # stampa un messaggio prima di chiamare la funzione originale\n",
    "        risultato = funz(*args, **kwargs)   # chiama la funzione (la esegue con i suoi parametri)\n",
    "        print(f\"Lavoro finito per la funzione '{funz.__name__}'\") # stampa un messaggio\n",
    "        return risultato    # restituisce il risultato\n",
    "    return custodia # decor alla fine restituisce la funzione custodia, che va a sostituire l'originale\n",
    "\n",
    "@decor\n",
    "def somma(a, b):\n",
    "    return a + b\n",
    "\n",
    "risultato = somma(3, 5)\n",
    "print(risultato)"
   ]
  },
  {
   "cell_type": "code",
   "execution_count": null,
   "id": "637005ba",
   "metadata": {},
   "outputs": [],
   "source": [
    "def cache(funz):\n",
    "    memoria = {}\n",
    "    def custodia(n):\n",
    "        if n not in memoria:\n",
    "            memoria[n] = funz(n)\n",
    "            return memoria[n]\n",
    "        return custodia\n",
    "\n",
    "@cache\n",
    "def fact(n):\n",
    "    if n == 0:\n",
    "        return 1\n",
    "    else:\n",
    "        return n * fact(n-1)"
   ]
  },
  {
   "cell_type": "code",
   "execution_count": null,
   "id": "e2ca592f",
   "metadata": {},
   "outputs": [],
   "source": [
    "import requests\n",
    "\n",
    "# le callback sono funzioni che vengono eseguite quando un evento asincrono viene completato\n",
    "def download(url, callback):\n",
    "    risposta = risposta.get(url)\n",
    "    dati = risposta.text\n",
    "    callback(dati)\n",
    "\n",
    "def elabora(dati):\n",
    "    print(f\"Dati elaborati: {dati}\")\n",
    "    url = \"https://www.prova.com/dir\"\n",
    "    download(url, elabora)\n",
    "\n",
    "'''\n",
    "In questo modo, l'utilizzo dei callback consente di separare la logica dei dati\n",
    "dalla logica di elaborazione dei dati, migliorando la modularità del codice e la sua manutenibilità\n",
    "'''"
   ]
  },
  {
   "cell_type": "code",
   "execution_count": null,
   "id": "6912f192",
   "metadata": {},
   "outputs": [
    {
     "name": "stdout",
     "output_type": "stream",
     "text": [
      "0\n",
      "1\n",
      "2\n",
      "3\n"
     ]
    }
   ],
   "source": [
    "# generatori\n",
    "# utili per restituire sequenze di valori in modo efficiente, senza doverli\n",
    "# memorizzare tutti nella memoria del computer\n",
    "def num_int():\n",
    "    i = 0\n",
    "    while True:\n",
    "        yield i     # restituisce un valore alla volta\n",
    "        i += 1\n",
    "\n",
    "numeri = num_int()\n",
    "\n",
    "print(next(numeri)) # 0\n",
    "print(next(numeri)) # 1\n",
    "print(next(numeri)) # 2\n",
    "print(next(numeri)) # 3\n",
    "\n",
    "# per utilizzarla, si può creare un oggetto che sarà un'istanza della funzione evocabile con il metodo next()\n",
    "\n",
    "# posso usare i generatori anche nei cicli for\n",
    "for numero in num_int():\n",
    "    print(numero)\n",
    "    if numero > 10:\n",
    "        break  "
   ]
  },
  {
   "cell_type": "code",
   "execution_count": null,
   "id": "a90cc3ad",
   "metadata": {},
   "outputs": [
    {
     "name": "stdout",
     "output_type": "stream",
     "text": [
      "[4, 8, 12, 16, 20]\n"
     ]
    }
   ],
   "source": [
    "# genera una sequenza di numeri interi da 1 a 10, poi filtra solo i numeri pari\n",
    "# e quindi moltiplicherà ciascun numero per 2\n",
    "def numeri_interi():\n",
    "    i = 1\n",
    "    while i <= 10:\n",
    "        yield i\n",
    "        i += 1\n",
    "\n",
    "numeri_pari = filter(lambda x: x % 2 == 0, numeri_interi())\n",
    "risultato = map(lambda x: x * 2, numeri_pari)\n",
    "print(list(risultato)) # [4, 8, 12, 16, 20]"
   ]
  },
  {
   "cell_type": "code",
   "execution_count": 13,
   "id": "95e64930",
   "metadata": {},
   "outputs": [
    {
     "name": "stdout",
     "output_type": "stream",
     "text": [
      "Ciao\n",
      "Ciao\n",
      "Ciao\n",
      "da Mario\n",
      "da Mario\n",
      "da Mario\n"
     ]
    }
   ],
   "source": [
    "'''\n",
    "questo codice funziona chiamando da main.py, i notebook hanno un event loop già attivo\n",
    "import asyncio\n",
    "\n",
    "async def ciao():\n",
    "    print(\"Ciao\")\n",
    "    await asyncio.sleep(2)\n",
    "    print(\"da Mario\")\n",
    "\n",
    "async def esegui():\n",
    "    await asyncio.gather(ciao(), ciao(), ciao())\n",
    "\n",
    "asyncio.run(esegui())\n",
    "'''\n",
    "\n",
    "import asyncio\n",
    "\n",
    "async def ciao():\n",
    "    print(\"Ciao\")\n",
    "    await asyncio.sleep(2)\n",
    "    print(\"da Mario\")\n",
    "\n",
    "async def esegui():\n",
    "    await asyncio.gather(ciao(), ciao(), ciao())\n",
    "\n",
    "# Se sei in un notebook o un ambiente con event loop già attivo:\n",
    "await esegui()\n"
   ]
  },
  {
   "cell_type": "code",
   "execution_count": null,
   "id": "6ccc71b4",
   "metadata": {},
   "outputs": [
    {
     "name": "stdout",
     "output_type": "stream",
     "text": [
      "Inizio\n",
      "Inizio\n",
      "Inizio\n",
      "Fine\n",
      "Fine\n",
      "Fine\n",
      "Tutte le funzioni sono state eseguite\n"
     ]
    }
   ],
   "source": [
    "# è uguale a quello di prima\n",
    "import asyncio\n",
    "\n",
    "async def ciao():\n",
    "    print(\"Inizio\")\n",
    "    await asyncio.sleep(2)\n",
    "    print(\"Fine\")\n",
    "\n",
    "async def esegui():\n",
    "    await asyncio.gather(ciao(), ciao(), ciao())\n",
    "\n",
    "await esegui()\n",
    "print(\"Tutte le funzioni sono state eseguite\")"
   ]
  },
  {
   "cell_type": "code",
   "execution_count": 16,
   "id": "e9adeb75",
   "metadata": {},
   "outputs": [
    {
     "name": "stdout",
     "output_type": "stream",
     "text": [
      "Benvenuto a: indovina il numero!\n",
      "Ho pensato un numero compreso tra 1 e 10, indovina qual è?\n",
      "Niente da fare, riprova.\n",
      "Niente da fare, riprova.\n",
      "Niente da fare, riprova.\n",
      "Niente da fare, riprova.\n",
      "Niente da fare, riprova.\n",
      "Niente da fare, riprova.\n",
      "Niente da fare, riprova.\n",
      "Niente da fare, riprova.\n",
      "Niente da fare, riprova.\n",
      "Niente da fare, riprova.\n",
      "Niente da fare, riprova.\n",
      "Niente da fare, riprova.\n",
      "Niente da fare, riprova.\n",
      "Niente da fare, riprova.\n",
      "Niente da fare, riprova.\n",
      "Niente da fare, riprova.\n",
      "Niente da fare, riprova.\n",
      "Niente da fare, riprova.\n",
      "Niente da fare, riprova.\n",
      "Niente da fare, riprova.\n",
      "Niente da fare, riprova.\n",
      "Niente da fare, riprova.\n",
      "Niente da fare, riprova.\n",
      "Niente da fare, riprova.\n",
      "Incredibile! Hai indovinato.\n"
     ]
    }
   ],
   "source": [
    "import asyncio\n",
    "import random\n",
    "\n",
    "async def gioco():\n",
    "    numero = random.randint(1, 10)\n",
    "    print(\"Ho pensato un numero compreso tra 1 e 10, indovina qual è?\")\n",
    "    while True:\n",
    "        pensa = await get_pensa()\n",
    "        if pensa == numero:\n",
    "            print(\"Incredibile! Hai indovinato.\")\n",
    "            return\n",
    "        else:\n",
    "            print(\"Niente da fare, riprova.\")\n",
    "\n",
    "async def get_pensa():\n",
    "    while True:\n",
    "        pensa = await asyncio.get_event_loop().run_in_executor(None, input, \"> \")\n",
    "        if not pensa.isdigit():\n",
    "            print(\"Inserisci un numero.\")\n",
    "        else:\n",
    "            return int(pensa)\n",
    "        \n",
    "async def main():\n",
    "    print(\"Benvenuto a: indovina il numero!\")\n",
    "    task = asyncio.create_task(gioco())\n",
    "    await task\n",
    "# asyncio.run(main())\n",
    "\n",
    "await main()"
   ]
  },
  {
   "cell_type": "code",
   "execution_count": null,
   "id": "85f664a2",
   "metadata": {},
   "outputs": [],
   "source": [
    "import asyncio\n",
    "\n",
    "async def get_item(q):\n",
    "    while True:\n",
    "        try:\n",
    "            item = q.pop(0)\n",
    "            print(f\"Prendo l'oggetto {item} dalla coda\")\n",
    "            await asyncio.sleep(1)\n",
    "            yield item\n",
    "        except IndexError:\n",
    "            print(\"La coda è vuota, aspettando che venga aggiunto un altro oggetto...\")\n",
    "            await asyncio.sleep(2)\n",
    "\n",
    "async def process_item(item):\n",
    "    print(f\"Elaboro l'oggetto {item}...\")\n",
    "    await asyncio.sleep(3)\n",
    "    print(f\"L'oggetto {item} è stato elaborato con successo!\")\n",
    "\n",
    "async def main():\n",
    "    q = [\"palla\", \"libro\", \"tazza\", \"chiave\", \"telefono\"]\n",
    "    item_gen = get_item(q)\n",
    "    tasks = []\n",
    "    for i in range(len(q)):\n",
    "        task = asyncio.create_task(process_item(await item_gen.__anext__()))\n",
    "        tasks.append(task)\n",
    "        await asyncio.gather(*tasks)\n",
    "# asyncio.run(main())\n",
    "await main()\n",
    "\n",
    "# il programma simula un processo di elaborazione di una serie di elementi prelevati da una coda\n",
    "# utilizzando il modulo asyncio per creare un'operazione asincrona che consente di elaborare gli elementi in parallelo"
   ]
  },
  {
   "cell_type": "code",
   "execution_count": null,
   "id": "245f96c6",
   "metadata": {},
   "outputs": [
    {
     "name": "stdout",
     "output_type": "stream",
     "text": [
      "Prendo a\n",
      "Prendo b\n",
      "Prendo c\n",
      "Prendo d\n",
      "Prendo e\n",
      "Elaboro a\n",
      "Elaboro b\n",
      "Elaboro c\n",
      "Elaboro d\n",
      "Elaboro e\n"
     ]
    }
   ],
   "source": [
    "async def process_item(item):\n",
    "    print(f\"Elaboro {item}\")\n",
    "    await asyncio.sleep(3)\n",
    "\n",
    "async def main():\n",
    "    q = [\"a\", \"b\", \"c\", \"d\", \"e\"]\n",
    "    tasks = []\n",
    "    for item in q:\n",
    "        print(f\"Prendo {item}\")\n",
    "        task = asyncio.create_task(process_item(item))\n",
    "        tasks.append(task)\n",
    "    # attendiamo la fine di tutte le attività di elaborazione\n",
    "    await asyncio.gather(*tasks)\n",
    "# asyncio.run(main())\n",
    "await main()\n",
    "\n",
    "# abbiamo rimosso la coroutine get_item precedentemente e invece abbiamo usato un semplice ciclo\n",
    "# for per ottenere gli elementi della coda in ordine."
   ]
  },
  {
   "cell_type": "code",
   "execution_count": null,
   "id": "6c390f96",
   "metadata": {},
   "outputs": [],
   "source": [
    "import asyncio\n",
    "\n",
    "async def fetch_data(url):\n",
    "    print(f\"Scarico dati da {url}\")\n",
    "    await asyncio.sleep(1)\n",
    "    print(f\"Dati scaricati da {url}\")\n",
    "    return {\"url\": url, \"data\": {\"nome\": \"Mario\", \"cognome\": \"Rossi\"}}\n",
    "\n",
    "async def process_data(data):\n",
    "    print(f\"Processo dati da {data['url']}\")\n",
    "    await asyncio.sleep(1)  \n",
    "    print(f\"Dati processati da {data['url']}\")\n",
    "    return f\"{data['data']['nome']} {data['data']['cognome']}\"\n",
    "\n",
    "async def save_data(data):\n",
    "    print(f\"Salvo dati per {data}\")\n",
    "    await asyncio.sleep(1)\n",
    "    print(f\"Dati salvati per {data}\")\n",
    "async def esegui():\n",
    "    tasks = []\n",
    "    for url in [\"http://www.esempio1.com\", \"http://www.esempio2.com\",\"http://www.esempio3.com\"]:\n",
    "        data = await fetch_data(url)\n",
    "        processed_data = await process_data(data)\n",
    "    tasks.append(asyncio.create_task(save_data(processed_data)))\n",
    "    await asyncio.gather(*tasks)\n",
    "\n",
    "await esegui()"
   ]
  },
  {
   "cell_type": "code",
   "execution_count": null,
   "id": "b8a528af",
   "metadata": {},
   "outputs": [],
   "source": [
    "import asyncio\n",
    "\n",
    "async def download_file(url): # Simuliamo il download di un file\n",
    "    await asyncio.sleep(5)\n",
    "    print(f\"Download completato per {url}\")\n",
    "\n",
    "async def main(): # Download di due file in contemporanea\n",
    "    await asyncio.gather(download_file(\"https://esempio.com/file1\"), download_file(\"https://esempio.com/file2\"))\n",
    "# asyncio.run(main())\n",
    "await main()\n",
    "\n",
    "# per indicare che una funzione può essere eseguita in modo asincrono si usa async e await"
   ]
  },
  {
   "cell_type": "code",
   "execution_count": null,
   "id": "e81c996d",
   "metadata": {},
   "outputs": [],
   "source": [
    "# la concorrenza si riferisce all'esecuzioned di più attività in contemporanea\n",
    "# Viene implementata con i modulu concurrent.futures o multiprocessing\n",
    "'''\n",
    "import concurrent.futures\n",
    "\n",
    "def quadrato(n):\n",
    "    return n ** 2\n",
    "\n",
    "if __name__ == \"__main__\":\n",
    "    numeri = [1, 2, 3, 4, 5]\n",
    "    with concurrent.futures.ThreadPoolExecutor() as executor:\n",
    "        # Esegue il quadrato su ogni numero utilizzando thread diversi\n",
    "        risultati = executor.map(quadrato, numeri)\n",
    "        for risultato in risultati:\n",
    "            print(risultato)\n",
    "\n",
    "# il paralellismo è un tipo di concorrenza in cui le attività vengono eseguite contemporaneamente\n",
    "# su processi diversi. Viene implementato utilizzando il modulo multiprocessing\n",
    "\n",
    "import multiprocessing\n",
    "\n",
    "def quadrato(n):\n",
    "    return n ** 2\n",
    "\n",
    "if __name__ == \"__main__\":\n",
    "    numeri = [1, 2, 3, 4, 5]\n",
    "    with multiprocessing.Pool() as pool:\n",
    "        # Esegue il quadrato su ogni numero con processi diversi\n",
    "        risultati = pool.map(quadrato, numeri)\n",
    "        for risultato in risultati:\n",
    "            print(risultato)\n",
    "'''"
   ]
  },
  {
   "cell_type": "code",
   "execution_count": 5,
   "id": "9c047c10",
   "metadata": {},
   "outputs": [
    {
     "name": "stdout",
     "output_type": "stream",
     "text": [
      "1\n",
      "4\n",
      "9\n",
      "16\n",
      "25\n",
      "1\n",
      "4\n",
      "9\n",
      "16\n",
      "25\n"
     ]
    }
   ],
   "source": [
    "!python 02_module\\concorrenza.py\n",
    "!python 02_module\\parallelismo.py"
   ]
  },
  {
   "cell_type": "code",
   "execution_count": null,
   "id": "f2fb494b",
   "metadata": {},
   "outputs": [],
   "source": [
    "def lavatrice():\n",
    "    print(\"Metti i vestiti nella lavatrice...\")\n",
    "    print(\"Avvia il ciclo di lavaggio...\")\n",
    "    print(\"Trasferisci i vestiti nell'asciugatrice...\")\n",
    "    \n",
    "def asciugatrice():\n",
    "    print(\"Avvia il ciclo di asciugatura...\")\n",
    "    print(\"Riponi i vestiti nell'armadio...\")\n",
    "\n",
    "lavatrice()\n",
    "asciugatrice()"
   ]
  },
  {
   "cell_type": "code",
   "execution_count": null,
   "id": "0d611977",
   "metadata": {},
   "outputs": [],
   "source": [
    "import threading\n",
    "\n",
    "def lavatrice():\n",
    "    print(\"Metti i vestiti nella lavatrice...\")\n",
    "    print(\"Avvia il ciclo di lavaggio...\")\n",
    "def asciugatrice():\n",
    "    print(\"Metti i vestiti nell'asciugatrice...\")\n",
    "    print(\"Avvia il ciclo di asciugatura...\")\n",
    "    print(\"Riponi i vestiti nell'armadio...\")\n",
    "\n",
    "t1 = threading.Thread(target=lavatrice)\n",
    "t2 = threading.Thread(target=asciugatrice)\n",
    "t1.start()\n",
    "t2.start()\n",
    "t1.join()\n",
    "t2.join()\n",
    "\n",
    "# abbiamo usato la libreria threading per creare due thread, uno per la lavastrice e uno per l'asciugatrice"
   ]
  },
  {
   "cell_type": "markdown",
   "id": "466b35d2",
   "metadata": {},
   "source": [
    "# Esercizi"
   ]
  },
  {
   "cell_type": "code",
   "execution_count": 6,
   "id": "0e5f6424",
   "metadata": {},
   "outputs": [
    {
     "name": "stdout",
     "output_type": "stream",
     "text": [
      "L'area del cerchio di raggio 10 è uguale a 62.83185307179586\n"
     ]
    }
   ],
   "source": [
    "# 1: Scrivere una fuznione che prenda come input il raggio di un cerchio e restituisca l'area del cerchio.\n",
    "# Utilizzare il valore di pi = 3.14\n",
    "import math\n",
    "\n",
    "def area_cerchio(r = 1) -> float:\n",
    "    return 2 * r * math.pi\n",
    "\n",
    "raggio = 10\n",
    "print(f\"L'area del cerchio di raggio {raggio} è uguale a {area_cerchio(raggio)}\")\n"
   ]
  },
  {
   "cell_type": "code",
   "execution_count": 9,
   "id": "17945410",
   "metadata": {},
   "outputs": [
    {
     "name": "stdout",
     "output_type": "stream",
     "text": [
      "La somma dei numeri della lista\n",
      "\t[1, 2, 3, 4]\n",
      "è uguale a 10\n"
     ]
    }
   ],
   "source": [
    "# 2 Scrivere una funzione che prenda come input una lista di numeri e restituisca la somma dei suoi elementi\n",
    "\n",
    "def somma(lista):\n",
    "    return sum(lista)\n",
    "\n",
    "numeri = [x for x in range(1, 5)]\n",
    "print(f\"La somma dei numeri della lista\\n\\t{numeri}\\nè uguale a {somma(numeri)}\")"
   ]
  },
  {
   "cell_type": "code",
   "execution_count": 1,
   "id": "32f84fd2",
   "metadata": {},
   "outputs": [
    {
     "name": "stdout",
     "output_type": "stream",
     "text": [
      "La somma di 10 più 5 è uguale a 15.\n"
     ]
    }
   ],
   "source": [
    "# 3 Scrivere una funzione che prenda due argomenti e restituisca la loro somma\n",
    "\n",
    "def somma(a, b):\n",
    "    return a + b\n",
    "\n",
    "a = 10\n",
    "b = 5\n",
    "print(f\"La somma di {a} più {b} è uguale a {somma(a, b)}.\")\n"
   ]
  },
  {
   "cell_type": "code",
   "execution_count": 2,
   "id": "0a517920",
   "metadata": {},
   "outputs": [
    {
     "name": "stdout",
     "output_type": "stream",
     "text": [
      "Il quadrato del numero 10 è uguale a 100.\n"
     ]
    }
   ],
   "source": [
    "# 4 Definire una funzione che prenda un numero come parametro e restituisca il suo quadrato\n",
    "\n",
    "def potenza_2(num):\n",
    "    return num**2\n",
    "\n",
    "a = 10\n",
    "print(f\"Il quadrato del numero {a} è uguale a {potenza_2(a)}.\")"
   ]
  },
  {
   "cell_type": "code",
   "execution_count": 5,
   "id": "a25b9b04",
   "metadata": {},
   "outputs": [
    {
     "name": "stdout",
     "output_type": "stream",
     "text": [
      "La lunghezza della stringa: 'ciao, mi chiamo Michael'\n",
      "E' uguale a 23\n"
     ]
    }
   ],
   "source": [
    "# 5 Scrivere una funzione che prenda in input una stringa e restituisca la lunghezza\n",
    "\n",
    "def len_string(string) -> int:\n",
    "    return len(string)\n",
    "\n",
    "word = \"ciao, mi chiamo Michael\"\n",
    "print(f\"La lunghezza della stringa: '{word}'\\nE' uguale a {len_string(word)}\")"
   ]
  },
  {
   "cell_type": "code",
   "execution_count": 122,
   "id": "c90f532a",
   "metadata": {},
   "outputs": [
    {
     "name": "stdout",
     "output_type": "stream",
     "text": [
      "La lista di parole:\n",
      "\t['Mario', 'Antonio', 'Claudio', 'daniele', 'Lucio']\n",
      "In ordine alfabetico è uguale a:\n",
      "\t['Antonio', 'Claudio', 'Lucio', 'Mario', 'daniele']\n",
      "\n",
      "La lista di parole:\n",
      "\t['Mario', 'Antonio', 'Claudio', 'daniele', 'Lucio']\n",
      "In ordine alfabetico (tenendo conto di maiuscole e minuscole) è uguale a:\n",
      "\t['Antonio', 'Claudio', 'daniele', 'Lucio', 'Mario']\n"
     ]
    }
   ],
   "source": [
    "# 6 Scrivere una funzione che prenda in input una lista di parole e ne restituisca una lista di queste in ordine alfabetico\n",
    "\n",
    "def ordine_alfabetico(parole):\n",
    "    return sorted(parole)\n",
    "    # sorted ordina automaticamente le liste di parole in ordine decrescente\n",
    "\n",
    "def ordine_alfabetico_2(parole):\n",
    "    return sorted(parole, key = lambda word: word.lower())\n",
    "    # se vogliamo tenere in considerazione maiuscole e minuscolo possiamo usare una lambda\n",
    "    # che passi come chiave di ordinamento la parola convertita in minuscolo\n",
    "\n",
    "lista = ['Mario', 'Antonio', 'Claudio', 'daniele', 'Lucio']\n",
    "\n",
    "print(f\"La lista di parole:\\n\\t{lista}\\nIn ordine alfabetico è uguale a:\\n\\t{ordine_alfabetico(lista)}\\n\")\n",
    "\n",
    "print(f\"La lista di parole:\\n\\t{lista}\\nIn ordine alfabetico (tenendo conto di maiuscole e minuscole) è uguale a:\\n\\t{ordine_alfabetico_2(lista)}\")"
   ]
  },
  {
   "cell_type": "code",
   "execution_count": null,
   "id": "39775bf7",
   "metadata": {},
   "outputs": [
    {
     "name": "stdout",
     "output_type": "stream",
     "text": [
      "Lista di numeri: [1, 2, 3, 2, 2, 4, 5, 3, 4, 5, 5, 6, 7]\n",
      "Numeri pari della lista: [2, 2, 2, 4, 4, 6]\n",
      "Numeri pari distinti della lista: {2, 4, 6}\n"
     ]
    }
   ],
   "source": [
    "# 7 Scrivere una funzione che prenda in input una lista di numeri e ne restituisca una di numeri pari\n",
    "\n",
    "def lista_numeri_pari(numeri, mode = True):\n",
    "    # if mode:\n",
    "    #     return [x for x in numeri if x % 2 == 0]\n",
    "    # else:\n",
    "    #     return set(x for x in numeri if x % 2 == 0)\n",
    "    # più compatta?\n",
    "    return [x for x in numeri if x % 2 == 0] if mode else set(x for x in numeri if x % 2 == 0)\n",
    "    # se li voglio distinti posso ritornare un set([])\n",
    "\n",
    "lista = [1, 2, 3, 2, 2, 4, 5, 3, 4, 5, 5, 6, 7]\n",
    "print(f\"Lista di numeri: {lista}\\nNumeri pari della lista: {lista_numeri_pari(lista)}\\nNumeri pari distinti della lista: {lista_numeri_pari(lista, mode=False)}\")\n",
    "\n"
   ]
  },
  {
   "cell_type": "code",
   "execution_count": 14,
   "id": "466df980",
   "metadata": {},
   "outputs": [
    {
     "name": "stdout",
     "output_type": "stream",
     "text": [
      "Il doppio del numero 10 è uguale a: 20\n"
     ]
    }
   ],
   "source": [
    "# 8 Scrivere una funzione lambda che prenda in input un intero e ne restituisca il suo doppio\n",
    "\n",
    "num = 10\n",
    "\n",
    "print(f\"Il doppio del numero {num} è uguale a: {(lambda x: 2 * x)(num)}\")"
   ]
  },
  {
   "cell_type": "code",
   "execution_count": 16,
   "id": "6a5c09b3",
   "metadata": {},
   "outputs": [
    {
     "name": "stdout",
     "output_type": "stream",
     "text": [
      "La stringa ciao mondo trasformata in maiuscolo è uguale a: CIAO MONDO\n",
      "CIAO MONDO\n"
     ]
    }
   ],
   "source": [
    "# 9 Scrivere una funzione lambda che prenda in input una stringa e restituisca la stessa in maiuscolo\n",
    "\n",
    "parola = \"ciao mondo\"\n",
    "\n",
    "print(f\"La stringa {parola} trasformata in maiuscolo è uguale a: {(lambda x: x.upper())(parola)}\")\n",
    "\n",
    "# se non la si vuole mettere nel print, si può definire così e chiamarla\n",
    "func = lambda x: x.upper()\n",
    "print(func(parola))"
   ]
  },
  {
   "cell_type": "code",
   "execution_count": 17,
   "id": "724a834f",
   "metadata": {},
   "outputs": [
    {
     "name": "stdout",
     "output_type": "stream",
     "text": [
      "Il prodotto tra 10 e 4 è uguale a: 40\n"
     ]
    }
   ],
   "source": [
    "# 10 Scrivere una funzione lambda che prenda in input due numeri restituisca il loro prodotto\n",
    "\n",
    "a = 10\n",
    "b = 4\n",
    "func = lambda a, b: a * b\n",
    "print(f\"Il prodotto tra {a} e {b} è uguale a: {func(a, b)}\")"
   ]
  },
  {
   "cell_type": "code",
   "execution_count": 26,
   "id": "75231a04",
   "metadata": {},
   "outputs": [
    {
     "name": "stdout",
     "output_type": "stream",
     "text": [
      "Controlliamo se il numero inserito sia maggiore o uguale a 0\n",
      "Il fattoriale del numero -5 è: \n",
      "Errore: il numero deve essere >= 0\n"
     ]
    }
   ],
   "source": [
    "# 11 Scrivere una funzione che calcoli il fattoriale di un numero intero e applica\n",
    "# un decoratore per controllare che il numero in input sia maggiore o uguale a zero.\n",
    "\n",
    "# un decoratore è una funzione che prende un'altra funzione,\n",
    "# la modifica o arrichisce e poi la restituisce\n",
    "import functools\n",
    "import operator\n",
    "\n",
    "def check(funz):\n",
    "    def new_func(num, *args, **kwargs):\n",
    "        print(\"Controlliamo se il numero inserito sia maggiore o uguale a 0\")\n",
    "        if num < 0:\n",
    "            return \"\\nErrore: il numero deve essere maggiore o uguale a 0\"\n",
    "        print(f\"Calcoliamo il fattoriale con '{funz.__name__}'\")\n",
    "        return funz(num, *args, **kwargs)\n",
    "    return new_func\n",
    "\n",
    "@check\n",
    "def fact(num): # funzione che calcola il fattoriale\n",
    "    if num == 0:   # il fattoriale di 0 è uno\n",
    "        return 1    # uso mul di functools per moltiplicare \n",
    "    return functools.reduce(operator.mul, range(1, num + 1))\n",
    "\n",
    "numero = int(input(\"Inserisci un numero intero maggiore o uguale a 0\"))\n",
    "res = fact(numero)\n",
    "print(f\"Il fattoriale del numero {numero} è: {res}\")"
   ]
  },
  {
   "cell_type": "code",
   "execution_count": 32,
   "id": "1f65cbdb",
   "metadata": {},
   "outputs": [
    {
     "name": "stdout",
     "output_type": "stream",
     "text": [
      "Convertiamo i numeri inseriti a: 10 e b: 3 in float\n",
      "La somma dei numeri 10 e 3 convertiti in float è uguale a 13.0\n"
     ]
    }
   ],
   "source": [
    "# 12 Scrivere una funzione che restituisca la somma di due numeri e applichi un decoratore per convertire i numeri in float\n",
    "\n",
    "def convert_float(funz):\n",
    "    def new_funz(a, b, *args, **kwargs):\n",
    "        print(f\"Convertiamo i numeri inseriti a: {a} e b: {b} in float.\")\n",
    "        a = float(a)\n",
    "        b = float(b)\n",
    "        return funz(a, b, *args, **kwargs)\n",
    "    return new_funz\n",
    "\n",
    "@convert_float\n",
    "def somma(a, b):\n",
    "    return a + b\n",
    "\n",
    "a = 10\n",
    "b = 3\n",
    "print(f\"La somma dei numeri {a} e {b} convertiti in float è uguale a {somma(a, b)}\")"
   ]
  },
  {
   "cell_type": "code",
   "execution_count": 35,
   "id": "ceef4468",
   "metadata": {},
   "outputs": [
    {
     "name": "stdout",
     "output_type": "stream",
     "text": [
      "Applico il prefisso italiano (+39)\n",
      "\n",
      "Il tuo numero italiano inserito con prefisso è uguale a: +39 32753202942\n"
     ]
    }
   ],
   "source": [
    "# 13 Scrivere una funzione che restituisca una stringa e applichi un decoratore per aggiungere un prefisso alla stringa\n",
    "\n",
    "def prefisso(funz):\n",
    "    def new_funz(*args, **kwargs):\n",
    "        stringa = funz(*args, **kwargs)\n",
    "        print(\"Applico il prefisso italiano (+39)\\n\")\n",
    "        stringa = \"+39 \" + stringa\n",
    "        return stringa\n",
    "    return new_funz\n",
    "\n",
    "@prefisso\n",
    "def inserimento():\n",
    "    return str(input(\"Inserisci il tuo numero di telefono italiano\"))\n",
    "\n",
    "print(f\"Il tuo numero italiano inserito con prefisso è uguale a: {inserimento()}\")\n"
   ]
  },
  {
   "cell_type": "code",
   "execution_count": 47,
   "id": "de7f6cee",
   "metadata": {},
   "outputs": [
    {
     "name": "stdout",
     "output_type": "stream",
     "text": [
      "L'elemento 0 della lista è: 1\n",
      "\n",
      "L'elemento 1 della lista è: 2\n",
      "\n",
      "L'elemento 2 della lista è: 3\n",
      "\n",
      "L'elemento 3 della lista è: ciao\n",
      "\n",
      "L'elemento 4 della lista è: {'key': 1212}\n",
      "\n"
     ]
    }
   ],
   "source": [
    "# 14 Scrivere una funzione che applichi un callback ad ogni elemento di una lista\n",
    "\n",
    "# i callback vengono utilizzati per gestire eventi asincroni: questo è vero soprattuto in Javascript\n",
    "# in python i callback possono essere usati anche in contesti sincroni.\n",
    "\n",
    "def controllo(lista, callback):\n",
    "    for i, val in enumerate(lista):\n",
    "        callback(i, val)\n",
    "\n",
    "def stampa_dati(i, val):\n",
    "    print(f\"L'elemento {i} della lista è: {val}\\n\")\n",
    "\n",
    "lista = [1, 2, 3, 'ciao', {'key': 1212}]\n",
    "controllo(lista, stampa_dati)\n",
    "\n"
   ]
  },
  {
   "cell_type": "code",
   "execution_count": 41,
   "id": "00e7750d",
   "metadata": {},
   "outputs": [
    {
     "name": "stdout",
     "output_type": "stream",
     "text": [
      "La somma degli elementi [1, 2, 3, 4] nella lista è: 10\n"
     ]
    }
   ],
   "source": [
    "# 15 Scrivere una funzione che sommi gli elementi di una lista e applichi una funzione di callback al risultato\n",
    "\n",
    "def check_somma(lista, callback):\n",
    "    somma = sum(lista)\n",
    "    callback(lista, somma)\n",
    "\n",
    "def stampa_risultato(lista, somma):\n",
    "    return print(f\"La somma degli elementi {lista} nella lista è: {somma}\")\n",
    "\n",
    "lista = [1, 2, 3, 4]\n",
    "check_somma(lista, stampa_risultato)\n"
   ]
  },
  {
   "cell_type": "code",
   "execution_count": 50,
   "id": "b039f593",
   "metadata": {},
   "outputs": [
    {
     "name": "stdout",
     "output_type": "stream",
     "text": [
      "La lista dei numeri pari è: [2, 4, 6, 8]\n",
      "La lista dei numeri pari è: [2, 4, 6, 8]\n"
     ]
    }
   ],
   "source": [
    "# 16 Scrivere una funzione che applichi un callback ad ogni elemento di una lista e restituisca solo\n",
    "# gli elementi per cui il callback restituisce True\n",
    "\n",
    "def check_pari(lista, callback):\n",
    "    new = []\n",
    "    for num in lista:\n",
    "        if callback(num):\n",
    "            new.append(num)\n",
    "    return new\n",
    "\n",
    "def numero_pari(num):\n",
    "    return num % 2 == 0\n",
    "\n",
    "lista = [1, 2, 3, 4, 5, 6, 7, 8]\n",
    "print(f\"La lista dei numeri pari è: {check_pari(lista, numero_pari)}\")\n",
    "# oppure\n",
    "print(f\"La lista dei numeri pari è: {check_pari(lista, lambda x: x % 2 == 0)}\")\n"
   ]
  },
  {
   "cell_type": "code",
   "execution_count": 1,
   "id": "51d85568",
   "metadata": {},
   "outputs": [
    {
     "name": "stdout",
     "output_type": "stream",
     "text": [
      "Elaboro la tua richiesta di Url https://www.google.com\n",
      "Elaboro la tua richiesta di Url https://www.python.org\n",
      "Elaboro la tua richiesta di Url https://www.agmsolutions.net\n",
      "\n",
      "Completata la richiesta per https://www.google.com\n",
      "\n",
      "Completata la richiesta per https://www.python.org\n",
      "\n",
      "Completata la richiesta per https://www.agmsolutions.net\n"
     ]
    }
   ],
   "source": [
    "# 17 Scrivere un programma che effettui richieste HTTP a più URL in contemporanea, utilizzando asyncio.gather\n",
    "import asyncio\n",
    "# simile all'esercizio del processare i task\n",
    "async def richiesta_url(url):\n",
    "    print(f\"Elaboro la tua richiesta di Url {url}\") # elaboro\n",
    "    await asyncio.sleep(2)                          # attendo 2 secondi da un ipotetico server\n",
    "    print(f\"\\nCompletata la richiesta per {url}\")   # richiesta completata\n",
    "\n",
    "\n",
    "async def invia_richieste_http():\n",
    "    urls = ['https://www.google.com', 'https://www.python.org', 'https://www.agmsolutions.net'] # lista di url\n",
    "    richieste = [asyncio.create_task(richiesta_url(u)) for u in urls]\n",
    "    await asyncio.gather(*richieste)\n",
    "    # l'asterisco serve per passare più argomenti insieme e quindi tutte le richieste singole\n",
    "\n",
    "await invia_richieste_http()"
   ]
  },
  {
   "cell_type": "code",
   "execution_count": 69,
   "id": "b98d76c2",
   "metadata": {},
   "outputs": [
    {
     "name": "stdout",
     "output_type": "stream",
     "text": [
      "https://www.python.org: 200\n",
      "https://www.google.com: 200\n",
      "https://www.agmsolutions.net: 200\n"
     ]
    }
   ],
   "source": [
    "# 17 con la libreria aiohttp\n",
    "# aiohttp è una libreria per client e server http asincroni, costruita su asyncio\n",
    "# usando questa libreria possiamo costruire web app e REST APIs, e gestire richieste sincrone HTTP\n",
    "import asyncio\n",
    "import aiohttp\n",
    "\n",
    "async def richiesta_url(session, url):\n",
    "    async with session.get(url) as response: # prende l'url e crea la response\n",
    "        # print(response)\n",
    "        print(f\"{url}: {response.status}\")  \n",
    "        return await response.text()\n",
    "\n",
    "async def invia_richieste_http():\n",
    "    urls = ['https://www.google.com', 'https://www.python.org', 'https://www.agmsolutions.net']  # urls\n",
    "    async with aiohttp.ClientSession() as session: # apre la sessione di client\n",
    "        tasks = [richiesta_url(session, url) for url in urls] # crea una lista di task come prima\n",
    "        await asyncio.gather(*tasks) # fa il gather dei task\n",
    "\n",
    "await invia_richieste_http()\n"
   ]
  },
  {
   "cell_type": "code",
   "execution_count": 79,
   "id": "fa854221",
   "metadata": {},
   "outputs": [
    {
     "name": "stdout",
     "output_type": "stream",
     "text": [
      "Inizio la lettura del file in posizione 025_module\\file1.txt\n",
      "\tContenuto del file\n",
      "\t\tquesto e' il file 1\n",
      "\n",
      "\t\t1234\n",
      "Inizio la lettura del file in posizione 025_module\\file2.txt\n",
      "\tContenuto del file\n",
      "\t\tquesto e' il file 2\n",
      "\n",
      "\t\t5678\n",
      "Inizio la lettura del file in posizione 025_module\\file3.txt\n",
      "\tContenuto del file\n",
      "\t\tquesto e' il file 3\n",
      "\n",
      "\t\t9101112\n",
      "La lettura del file 025_module\\file1.txt è andata a buon fine\n",
      "La lettura del file 025_module\\file2.txt è andata a buon fine\n",
      "La lettura del file 025_module\\file3.txt è andata a buon fine\n"
     ]
    }
   ],
   "source": [
    "# 18 Scrivere un programma che effettui la lettura di file in parallelo, sempre utilizzando asyncio.gather()\n",
    "import os\n",
    "\n",
    "async def lettura_file(path):\n",
    "    print(f\"Inizio la lettura del file in posizione {path}\")\n",
    "    with open(path, 'r') as f:\n",
    "        print(\"\\tContenuto del file\")\n",
    "        for l in f.readlines():\n",
    "            print(f\"\\t\\t{l}\")\n",
    "    await asyncio.sleep(2)\n",
    "    print(f\"La lettura del file {path} è andata a buon fine\")\n",
    "\n",
    "async def leggi_file():\n",
    "    files = ['file1.txt', 'file2.txt', 'file3.txt']\n",
    "    dir = '025_module'\n",
    "    richieste_lettura = [asyncio.create_task(lettura_file(os.path.join(dir, path))) for path in files]\n",
    "\n",
    "    await asyncio.gather(*richieste_lettura)\n",
    "\n",
    "await leggi_file()"
   ]
  },
  {
   "cell_type": "code",
   "execution_count": 85,
   "id": "357aa00d",
   "metadata": {},
   "outputs": [
    {
     "name": "stdout",
     "output_type": "stream",
     "text": [
      "https://www.google.com: 200\n",
      "Il risultato è arrivato troppo tardi\n"
     ]
    }
   ],
   "source": [
    "# 19 Scrivere un programma che effettui una richiesta HTTP e che attenda un tempo massimo di cinque\n",
    "# secondi per ricevere la risposta utilizzando asyncio.wait_for()\n",
    "\n",
    "async def richiesta_lunga(session, url):\n",
    "    async with session.get(url) as response: # prende l'url e crea la response\n",
    "        print(f\"{url}: {response.status}\")  \n",
    "        await asyncio.sleep(6)  # test per verificare se attende 5 secondi\n",
    "        return await response.text()\n",
    "\n",
    "async def richiesta_http():\n",
    "    url = 'https://www.google.com'\n",
    "    async with aiohttp.ClientSession() as session: # apre la sessione di client\n",
    "        try:\n",
    "            await asyncio.wait_for(richiesta_lunga(session, url), timeout=5)\n",
    "            print(\"Richiesta effettuata entro il timeout limite\")\n",
    "        except asyncio.TimeoutError:\n",
    "            print(\"Il risultato è arrivato troppo tardi\")\n",
    "\n",
    "await richiesta_http()"
   ]
  },
  {
   "cell_type": "code",
   "execution_count": null,
   "id": "2da683c8",
   "metadata": {},
   "outputs": [
    {
     "name": "stdout",
     "output_type": "stream",
     "text": [
      "Inizio elaborazione\n",
      "Inizio elaborazione\n",
      "Inizio elaborazione\n",
      "Inizio elaborazione\n",
      "Inizio elaborazione\n",
      "Inizio elaborazione\n",
      "Inizio elaborazione\n",
      "Inizio elaborazione\n",
      "Inizio elaborazione\n",
      "Inizio elaborazione\n",
      "\tIl numero 0 è divisibile per 5\n",
      "\tIl numero 1 non è divisibile per 5\n",
      "\tIl numero 2 non è divisibile per 5\n",
      "\tIl numero 3 non è divisibile per 5\n",
      "\tIl numero 4 non è divisibile per 5\n",
      "\tIl numero 5 è divisibile per 5\n",
      "\tIl numero 6 non è divisibile per 5\n",
      "\tIl numero 7 non è divisibile per 5\n",
      "\tIl numero 8 non è divisibile per 5\n",
      "\tIl numero 9 non è divisibile per 5\n"
     ]
    }
   ],
   "source": [
    "# 20 Scrivere un programma che effettui l'elaborazione di una lista di elementi in parallelo utilizzando asyncio.gather()\n",
    "\n",
    "async def elaborazione(el):\n",
    "    print(\"Inizio elaborazione\")\n",
    "    await asyncio.sleep(1)\n",
    "    print(f\"\\tIl numero {el} è divisibile per 5\") if el % 5 == 0 else print(f\"\\tIl numero {el} non è divisibile per 5\")\n",
    "\n",
    "async def calcolo_parallelo():\n",
    "    lista = [i for i in range(10)]\n",
    "    tasks = [asyncio.create_task(elaborazione(el)) for el in lista]\n",
    "    await asyncio.gather(*tasks)\n",
    "\n",
    "await calcolo_parallelo()\n"
   ]
  },
  {
   "cell_type": "code",
   "execution_count": null,
   "id": "7d9b7837",
   "metadata": {},
   "outputs": [
    {
     "name": "stdout",
     "output_type": "stream",
     "text": [
      "Inizio generazione del 1 numero casuale\n",
      "Inizio generazione del 2 numero casuale\n",
      "Inizio generazione del 3 numero casuale\n",
      "Inizio generazione del 4 numero casuale\n",
      "Inizio generazione del 5 numero casuale\n",
      "Inizio generazione del 6 numero casuale\n",
      "Inizio generazione del 7 numero casuale\n",
      "Inizio generazione del 8 numero casuale\n",
      "Inizio generazione del 9 numero casuale\n",
      "Il numero casuale 1 generato è uguale a: 0.5386720500202157\n",
      "Il numero casuale 2 generato è uguale a: 1.8072369839184383\n",
      "Il numero casuale 3 generato è uguale a: 0.06835637072570144\n",
      "Il numero casuale 4 generato è uguale a: 1.0033122138677677\n",
      "Il numero casuale 5 generato è uguale a: 3.41422080473808\n",
      "Il numero casuale 6 generato è uguale a: 2.1118848852531134\n",
      "Il numero casuale 7 generato è uguale a: 3.6580741041343017\n",
      "Il numero casuale 8 generato è uguale a: 7.085225718407549\n",
      "Il numero casuale 9 generato è uguale a: 2.4873390252273087\n"
     ]
    }
   ],
   "source": [
    "# 21 Scrivere un programma che effettui la generazione di numeri casuali in parallelo, utilizzando asyncio.create_task()\n",
    "\n",
    "import random as r\n",
    "\n",
    "async def genera_numeri_casuali(el):\n",
    "    print(f\"Inizio generazione del {el} numero casuale\")\n",
    "    await asyncio.sleep(1)\n",
    "    print(f\"Il numero casuale {el} generato è uguale a: {el * r.random()}\") # attenzione perché random genera un numero casuale da 0 a 1\n",
    "\n",
    "async def calcolo_parallelo():\n",
    "    tasks = [asyncio.create_task(genera_numeri_casuali(el)) for el in range(1, 10)]\n",
    "    await asyncio.gather(*tasks)\n",
    "\n",
    "await calcolo_parallelo()\n"
   ]
  },
  {
   "cell_type": "code",
   "execution_count": 121,
   "id": "8083307e",
   "metadata": {},
   "outputs": [
    {
     "name": "stdout",
     "output_type": "stream",
     "text": [
      "Inserisco il messaggio ciao nella coda\n",
      "\tMessaggio inserito\n",
      "Inserisco il messaggio errore nella coda\n",
      "\tMessaggio inserito\n",
      "Inserisco il messaggio accesso negato nella coda\n",
      "\tMessaggio inserito\n",
      "Inserisco il messaggio benvenuto nella coda\n",
      "\tMessaggio inserito\n",
      "Inserisco il messaggio logout nella coda\n",
      "\tMessaggio inserito\n",
      "estrazione del messaggio\n",
      "\tIl messagio è: ciao\n",
      "estrazione del messaggio\n",
      "\tIl messagio è: errore\n",
      "estrazione del messaggio\n",
      "\tIl messagio è: accesso negato\n",
      "estrazione del messaggio\n",
      "\tIl messagio è: benvenuto\n",
      "estrazione del messaggio\n",
      "\tIl messagio è: logout\n",
      "\n",
      "Lista vuota!\n"
     ]
    }
   ],
   "source": [
    "# 22 Scrivere un programma che effettui la lettura di dati da una coda di messaggi in modo asincrono utilizzando asyncio.Queue()\n",
    "\n",
    "async def lettura_dati(queue): # consumo un elemento in coda\n",
    "    while not queue.empty():\n",
    "        print(\"estrazione del messaggio\")\n",
    "        await asyncio.sleep(1)\n",
    "        item = await queue.get()\n",
    "        print(f\"\\tIl messagio è: {item}\")\n",
    "    print(\"\\nLista vuota!\")\n",
    "\n",
    "async def gestione_coda():\n",
    "    queue = asyncio.Queue(5)\n",
    "    messaggi = ['ciao', 'errore', 'accesso negato', 'benvenuto', 'logout']\n",
    "    for mes in messaggi:\n",
    "        print(f\"Inserisco il messaggio {mes} nella coda\")\n",
    "        await asyncio.sleep(1)\n",
    "        await queue.put(mes)\n",
    "        print(\"\\tMessaggio inserito\")\n",
    "    \n",
    "    await asyncio.gather(lettura_dati(queue))\n",
    "\n",
    "await gestione_coda()\n",
    "\n"
   ]
  },
  {
   "cell_type": "code",
   "execution_count": null,
   "id": "af870935",
   "metadata": {},
   "outputs": [
    {
     "name": "stdout",
     "output_type": "stream",
     "text": [
      "<Queue maxsize=5>\n",
      "10\n"
     ]
    }
   ],
   "source": [
    "# coda: link https://superfastpython.com/asyncio-queue/\n",
    "queue = asyncio.Queue(5)    # posso decidere la dimensione con maxsize\n",
    "print(queue)\n",
    "\n",
    "try:\n",
    "    val = 10\n",
    "    queue.put_nowait(val)\n",
    "    queue.put_nowait(val)\n",
    "except asyncio.QueueFull:\n",
    "    print(\"Coda piena\")\n",
    "\n",
    "item = await queue.get()        # con attesa\n",
    "print(item)\n",
    "\n",
    "try:\n",
    "    item = queue.get_nowait()   # senza attesa\n",
    "except asyncio.QueueEmpty:\n",
    "    print(\"La coda è vuota\")\n",
    "\n",
    "item = await queue.get()\n",
    "# process the item\n",
    "queue.task_done()\n",
    "\n",
    "await queue.join() # aspetta che tutti gli oggetti siano done"
   ]
  },
  {
   "cell_type": "markdown",
   "id": "cbe05a54",
   "metadata": {},
   "source": [
    "# Domande\n",
    "23) Qual è il valore di ritorno predefinito di una funzione?\n",
    "- None\n",
    "24) Qual è la differenza tra una funzione e un metodo?\n",
    "- Una funzione è un blocco di codice che viene definito utilizzando la parola chiave def in qualunque parte del programma. Mentre il metodo è una funzione definita all'interno di una classe e può operare solo solo sui dati contenuti nella classe.\n",
    "25) Qual è il significato di un decoratore in Python?\n",
    "- Il decoratore serve per modificare le funzionalità di una funzione arricchendola. Viene definito con la chiocchiola @ prima della funzione e al suo interno ritorna una nuova funzione che aiuterà quella già definita.\n",
    "26) Cosa fa il decoratore @staticmethod?\n",
    "- Il decoratore @staticmethod, serve per definire un metodo statico all'interno di una classe. Un metodo statico è un metodo che non riceve automaticamente come primo argomento il self e quindi può essere chiamato dalla classe senza definire un'istanza.\n",
    "27) Qual è il principale vantaggio di utilizzare asyncio?\n",
    "- Asyncio è una libreria che che permette di gestire codice asincrono usando i suoi metodi async e await\n",
    "28) Come si definisce una funzione asincrona?\n",
    "- viene definita mettodo async prima del def\n",
    "29) Quale metodo viene utilizzato per eseguire una coroutine in asyncio\n",
    "- per eseguirla possiamo lanciare asyncio.run(nome_funzione_asincrona()). Se siamo in ambiente notebook questa non funzionerà perché il notebook ha già un suo gestore degli eventi quindi sarà sufficiente lanciarla con await nome_della_funzione_asincrona().\n",
    "30) Qual è la differenza principale tra le funzioni await e yield in asyncio?\n",
    "- yield viene usato con un generatore e genera valori uno alla volta, mentre await viene usato per gestire asincronia e aspetta l'esito di una operazione"
   ]
  },
  {
   "cell_type": "markdown",
   "id": "0fddb702",
   "metadata": {},
   "source": [
    "# Extra"
   ]
  },
  {
   "cell_type": "code",
   "execution_count": null,
   "id": "2688d073",
   "metadata": {},
   "outputs": [],
   "source": []
  }
 ],
 "metadata": {
  "kernelspec": {
   "display_name": "venv",
   "language": "python",
   "name": "python3"
  },
  "language_info": {
   "codemirror_mode": {
    "name": "ipython",
    "version": 3
   },
   "file_extension": ".py",
   "mimetype": "text/x-python",
   "name": "python",
   "nbconvert_exporter": "python",
   "pygments_lexer": "ipython3",
   "version": "3.13.3"
  }
 },
 "nbformat": 4,
 "nbformat_minor": 5
}
