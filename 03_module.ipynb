{
 "cells": [
  {
   "cell_type": "markdown",
   "id": "5025eec2",
   "metadata": {},
   "source": [
    "# Esercizi 3° modulo\n",
    "- Le classi, I cardini dell’OOP"
   ]
  },
  {
   "cell_type": "code",
   "execution_count": 1,
   "id": "a3cf2139",
   "metadata": {},
   "outputs": [
    {
     "name": "stdout",
     "output_type": "stream",
     "text": [
      "0\n"
     ]
    }
   ],
   "source": [
    "m = int()\n",
    "print(m)"
   ]
  },
  {
   "cell_type": "code",
   "execution_count": 3,
   "id": "80e2022a",
   "metadata": {},
   "outputs": [],
   "source": [
    "class Studente:\n",
    "    def __init__(self, nome, cognome, matricola, media):\n",
    "        self.nome = nome\n",
    "        self.cognome = cognome\n",
    "        self.matricola = matricola\n",
    "        self.media = media\n",
    "    def promosso(self):\n",
    "        return self.media >= 18\n",
    "    def stampa_dati(self):\n",
    "        print(f\"Nome: {self.nome}\")\n",
    "        print(f\"Cognome: {self.cognome}\")\n",
    "        print(f\"Matricola: {self.matricola}\")\n",
    "        print(f\"Media: {self.media}\")"
   ]
  },
  {
   "cell_type": "code",
   "execution_count": 6,
   "id": "8b67bda0",
   "metadata": {},
   "outputs": [
    {
     "name": "stdout",
     "output_type": "stream",
     "text": [
      "Luca\n",
      "2361690879728\n",
      "2361690879424\n",
      "2361690879728\n"
     ]
    }
   ],
   "source": [
    "studente1 = Studente(\"Mario\", \"Rossi\", \"001\", 20)\n",
    "studente2 = studente1\n",
    "studente1.nome = \"Luca\"\n",
    "print(studente2.nome) # Luca\n",
    "\n",
    "s1 = Studente(\"Mario\", \"Rossi\", \"1234\", 25)\n",
    "s2 = Studente(\"Luigi\", \"Bianchi\", \"5678\", 28)\n",
    "s3 = s1\n",
    "print(id(s1))\n",
    "print(id(s2))\n",
    "print(id(s3))"
   ]
  },
  {
   "cell_type": "code",
   "execution_count": 8,
   "id": "fbf8cce4",
   "metadata": {},
   "outputs": [
    {
     "name": "stdout",
     "output_type": "stream",
     "text": [
      "10\n"
     ]
    }
   ],
   "source": [
    "class Esempio():\n",
    "    def __init__(self, valore):\n",
    "        self._x = valore\n",
    "\n",
    "    @property\n",
    "    def x(self): # questo è il metodo getter decorato\n",
    "        return self._x\n",
    "    \n",
    "    @x.setter\n",
    "    def x(self, valore): # questo è il metodo setter decorato\n",
    "        self._x = valore\n",
    "\n",
    "Esempio1 = Esempio(10)\n",
    "print(Esempio1.x)\n",
    "Esempio1.x = 20"
   ]
  },
  {
   "cell_type": "code",
   "execution_count": null,
   "id": "8dd7a507",
   "metadata": {},
   "outputs": [],
   "source": [
    "class Studente:\n",
    "    def __init__(self, nome, cognome, matricola, media):\n",
    "        self.nome = nome\n",
    "        self.cognome = cognome\n",
    "        self.matricola = matricola\n",
    "        self._media = media\n",
    "\n",
    "    @property # consente di definire l'attributo media come una proprietà dell'oggetto Studente\n",
    "    def media(self):\n",
    "        return self._media\n",
    "    \n",
    "    @media.setter # definisce un metodo che viene eseguito ogni volta che si tenta di assegnare un valore all'attributo media\n",
    "    def media(self, value):\n",
    "        self._media = min(value, 30)\n",
    "\n",
    "    def promosso(self):\n",
    "        return self.media >= 18\n",
    "    \n",
    "    def stampa_dati(self):\n",
    "        print(f\"Nome: {self.nome}\")\n",
    "        print(f\"Cognome: {self.cognome}\")\n",
    "        print(f\"Matricola: {self.matricola}\")\n",
    "        print(f\"Media: {self.media}\")"
   ]
  },
  {
   "cell_type": "code",
   "execution_count": 10,
   "id": "f97e6265",
   "metadata": {},
   "outputs": [],
   "source": [
    "class Studente:\n",
    "    def __init__(self, nome, cognome, matricola, media):\n",
    "        self.nome = nome\n",
    "        self.cognome = cognome\n",
    "        self.matricola = matricola\n",
    "        self._media = media\n",
    "        self._voto = None\n",
    "\n",
    "    @property\n",
    "    def media(self):\n",
    "        return self._media\n",
    "    \n",
    "    @media.setter\n",
    "    def media(self, value):\n",
    "        self._media = min(value, 30)\n",
    "\n",
    "    @property\n",
    "    def voto(self):\n",
    "        return self._voto\n",
    "    \n",
    "    @voto.setter\n",
    "    def voto(self, value):\n",
    "        if value < 0 or value > 30:\n",
    "            raise ValueError(\"Il voto deve essere compreso tra 0 e 30\")\n",
    "        self._voto = value\n",
    "\n",
    "    def promosso(self):\n",
    "        return self.media >= 18\n",
    "    \n",
    "    def stampa_dati(self):\n",
    "        print(f\"Nome: {self.nome}\")\n",
    "        print(f\"Cognome: {self.cognome}\")\n",
    "        print(f\"Matricola: {self.matricola}\")\n",
    "        print(f\"Media: {self.media}\")\n",
    "        print(f\"Voto: {self.voto}\")"
   ]
  },
  {
   "cell_type": "code",
   "execution_count": 11,
   "id": "10f95aed",
   "metadata": {},
   "outputs": [
    {
     "name": "stdout",
     "output_type": "stream",
     "text": [
      "20\n",
      "25\n"
     ]
    },
    {
     "ename": "ValueError",
     "evalue": "Il voto deve essere compreso tra 0 e 30",
     "output_type": "error",
     "traceback": [
      "\u001b[31m---------------------------------------------------------------------------\u001b[39m",
      "\u001b[31mValueError\u001b[39m                                Traceback (most recent call last)",
      "\u001b[36mCell\u001b[39m\u001b[36m \u001b[39m\u001b[32mIn[11]\u001b[39m\u001b[32m, line 5\u001b[39m\n\u001b[32m      3\u001b[39m studente.voto = \u001b[32m25\u001b[39m\n\u001b[32m      4\u001b[39m \u001b[38;5;28mprint\u001b[39m(studente.voto) \u001b[38;5;66;03m# 25\u001b[39;00m\n\u001b[32m----> \u001b[39m\u001b[32m5\u001b[39m \u001b[43mstudente\u001b[49m\u001b[43m.\u001b[49m\u001b[43mvoto\u001b[49m = \u001b[32m35\u001b[39m \u001b[38;5;66;03m# Errore!\u001b[39;00m\n",
      "\u001b[36mCell\u001b[39m\u001b[36m \u001b[39m\u001b[32mIn[10]\u001b[39m\u001b[32m, line 24\u001b[39m, in \u001b[36mStudente.voto\u001b[39m\u001b[34m(self, value)\u001b[39m\n\u001b[32m     21\u001b[39m \u001b[38;5;129m@voto\u001b[39m.setter\n\u001b[32m     22\u001b[39m \u001b[38;5;28;01mdef\u001b[39;00m\u001b[38;5;250m \u001b[39m\u001b[34mvoto\u001b[39m(\u001b[38;5;28mself\u001b[39m, value):\n\u001b[32m     23\u001b[39m     \u001b[38;5;28;01mif\u001b[39;00m value < \u001b[32m0\u001b[39m \u001b[38;5;129;01mor\u001b[39;00m value > \u001b[32m30\u001b[39m:\n\u001b[32m---> \u001b[39m\u001b[32m24\u001b[39m         \u001b[38;5;28;01mraise\u001b[39;00m \u001b[38;5;167;01mValueError\u001b[39;00m(\u001b[33m\"\u001b[39m\u001b[33mIl voto deve essere compreso tra 0 e 30\u001b[39m\u001b[33m\"\u001b[39m)\n\u001b[32m     25\u001b[39m     \u001b[38;5;28mself\u001b[39m._voto = value\n",
      "\u001b[31mValueError\u001b[39m: Il voto deve essere compreso tra 0 e 30"
     ]
    }
   ],
   "source": [
    "studente = Studente(\"Mario\", \"Rossi\", \"12345\", 20)\n",
    "print(studente.media) # 20\n",
    "studente.voto = 25\n",
    "print(studente.voto) # 25\n",
    "studente.voto = 35 # Errore!"
   ]
  },
  {
   "cell_type": "markdown",
   "id": "32385767",
   "metadata": {},
   "source": [
    "#### esempio"
   ]
  },
  {
   "cell_type": "code",
   "execution_count": 12,
   "id": "fe2a6738",
   "metadata": {},
   "outputs": [],
   "source": [
    "class Studente():\n",
    "    def __init__(self, nome, voto_iniziale=0):\n",
    "        self.__nome = nome\n",
    "        self.__voto = voto_iniziale # stiamo memorizzando il voto iniziale nel voto della proprietà\n",
    "        # poichè voto è una proprietà, python traduce questa istruzione di assegnazione in una chiamata al metodo setter, che ha il vantaggio\n",
    "        # di validare l'input prima di memorizzare il valore nella variabile di istanza self.__voto\n",
    "\n",
    "    @property   # decoratore property, questo definisce il nome voto come proprietà qualsiasi\n",
    "    def voto(self):\n",
    "        return self.__voto\n",
    "    \n",
    "    @voto.setter    # decoratore setter\n",
    "    def voto(self, nuovo_voto):\n",
    "        try:\n",
    "            nuovo_voto = int(nuovo_voto) # convertiamo il nuovo voto in un intero\n",
    "        except (TypeError, ValueError) as e: # solleviamo un'eccezione se il nuovo voto non è un numero intero\n",
    "            raise type(e)('Nuovo voto: ' + str(nuovo_voto) + ', è un tipo non valido.')\n",
    "        if (nuovo_voto < 0) or (nuovo_voto > 100): # solleviamo un'eccezione se il nuovo voto non è compreso tra 0 e 100\n",
    "            raise ValueError('Nuovo voto: ' + str(nuovo_voto) + ', deve essere compreso tra 0 e 100.')\n",
    "        self.__voto = nuovo_voto # impostiamo il nuovo voto \n",
    "        "
   ]
  },
  {
   "cell_type": "code",
   "execution_count": null,
   "id": "a105741a",
   "metadata": {},
   "outputs": [
    {
     "name": "stdout",
     "output_type": "stream",
     "text": [
      "0\n",
      "0\n",
      "\n",
      "66\n",
      "77\n"
     ]
    }
   ],
   "source": [
    "s1= Studente('Mario Rossi')\n",
    "s2= Studente('Roby Bianchi')\n",
    "# Otteniamo i voti usando la proprietà voto e poi li visualizziamo\n",
    "print(s1.voto)\n",
    "print(s2.voto)\n",
    "print()\n",
    "# Impostiamo nuovi valori usando la proprietà voto\n",
    "s1.voto = 66\n",
    "s2.voto = 77\n",
    "print(s1.voto)\n",
    "print(s2.voto)\n",
    "'''\n",
    "Cosa succede qui? Il software client può essere scritto in un modo che sembri accedere direttamente\n",
    "alle variabili di istanza, ma come programmatore di classe, i nostri metodi decorati ottentono e impostano\n",
    "l'effettiva variabile di istanza di proprietà dell'oggetto e consentono persino la convalida degli ingressi.\n",
    "Questo approccio supporta l'incapsulamento perché il codice client non accede direttamente a una variabile di istanza.\n",
    "'''"
   ]
  },
  {
   "cell_type": "code",
   "execution_count": null,
   "id": "f5e65122",
   "metadata": {},
   "outputs": [],
   "source": [
    "class Animale:\n",
    "    def __init__(self, nome, specie):\n",
    "        self.nome = nome\n",
    "        self.specie = specie\n",
    "\n",
    "class Cane(Animale):\n",
    "    def __init__(self, nome, razza):\n",
    "        super().__init__(nome, specie=\"Cane\")\n",
    "        self.razza = razza\n",
    "\n",
    "    def abbaiare(self):\n",
    "        print(f\"{self.nome} sta abbaiando\")\n",
    "        cane1 = Cane(\"Fido\", \"Bulldog\")\n",
    "        print(f\"Il mio cane si chiama {cane1.nome} ed è di razza {cane1.razza}\")\n",
    "        cane1.abbaiare()"
   ]
  },
  {
   "cell_type": "code",
   "execution_count": null,
   "id": "83fc89b5",
   "metadata": {},
   "outputs": [],
   "source": [
    "class Animale:\n",
    "    def __init__(self, nome, specie):\n",
    "        self.nome = nome\n",
    "        self.specie = specie\n",
    "        \n",
    "class Cane(Animale):\n",
    "    def __init__(self, nome, razza):\n",
    "        super().__init__(nome, specie=\"Cane\")\n",
    "        self.razza = razza\n",
    "    def abbaiare(self):\n",
    "        print(f\"{self.nome} sta abbaiando\")\n",
    "        cane1 = Cane(\"Fido\", \"Bulldog\")\n",
    "        # Verifica se cane1 è un'istanza della classe Cane\n",
    "        if isinstance(cane1, Cane):\n",
    "            print(\"cane1 è un'istanza di Cane\")\n",
    "        # Verifica se cane1 è un'istanza della classe Animale\n",
    "        if isinstance(cane1, Animale):\n",
    "            print(\"cane1 è un'istanza di Animale\")  \n",
    "        # Verifica se Cane è una sottoclasse di Animale\n",
    "        if issubclass(Cane, Animale):\n",
    "            print(\"Cane è una sottoclasse di Animale\")\n",
    "        # Verifica se Animale è una sottoclasse di Cane\n",
    "        if issubclass(Animale, Cane):\n",
    "            print(\"Animale è una sottoclasse di Cane\")"
   ]
  },
  {
   "cell_type": "code",
   "execution_count": null,
   "id": "e2e1b6f3",
   "metadata": {},
   "outputs": [],
   "source": [
    "class Cane:\n",
    "    class Animale:\n",
    "        def __init__(self, nome):\n",
    "            self.nome = nome\n",
    "            self.specie = \"Cane\"\n",
    "            \n",
    "    def __init__(self, nome, razza):\n",
    "        self.animal = self.Animale(nome)\n",
    "        self.razza = razza\n",
    "\n",
    "    def abbaiare(self):\n",
    "        print(f\"{self.animal.nome} sta abbaiando\")\n",
    "        cane1 = Cane(\"Fido\", \"Bulldog\")\n",
    "        print(f\"Il mio cane si chiama {cane1.animal.nome} ed è di razza {cane1.razza}\")\n",
    "        cane1.abbaiare()"
   ]
  },
  {
   "cell_type": "markdown",
   "id": "a3901a1c",
   "metadata": {},
   "source": [
    "# Esercizi 1"
   ]
  },
  {
   "cell_type": "code",
   "execution_count": null,
   "id": "5b10776c",
   "metadata": {},
   "outputs": [],
   "source": []
  },
  {
   "cell_type": "markdown",
   "id": "fa50d738",
   "metadata": {},
   "source": [
    "# Domande 1"
   ]
  },
  {
   "cell_type": "markdown",
   "id": "34d84094",
   "metadata": {},
   "source": [
    "# Esercizi 2"
   ]
  },
  {
   "cell_type": "code",
   "execution_count": null,
   "id": "08978e19",
   "metadata": {},
   "outputs": [],
   "source": []
  },
  {
   "cell_type": "markdown",
   "id": "a090ac79",
   "metadata": {},
   "source": [
    "# Domande 2"
   ]
  }
 ],
 "metadata": {
  "kernelspec": {
   "display_name": "venv",
   "language": "python",
   "name": "python3"
  },
  "language_info": {
   "codemirror_mode": {
    "name": "ipython",
    "version": 3
   },
   "file_extension": ".py",
   "mimetype": "text/x-python",
   "name": "python",
   "nbconvert_exporter": "python",
   "pygments_lexer": "ipython3",
   "version": "3.13.3"
  }
 },
 "nbformat": 4,
 "nbformat_minor": 5
}
