{
 "cells": [
  {
   "cell_type": "markdown",
   "id": "5025eec2",
   "metadata": {},
   "source": [
    "# Esercizi 3° modulo\n",
    "- Le classi, I cardini dell’OOP"
   ]
  },
  {
   "cell_type": "code",
   "execution_count": 1,
   "id": "a3cf2139",
   "metadata": {},
   "outputs": [
    {
     "name": "stdout",
     "output_type": "stream",
     "text": [
      "0\n"
     ]
    }
   ],
   "source": [
    "m = int()\n",
    "print(m)"
   ]
  },
  {
   "cell_type": "code",
   "execution_count": 3,
   "id": "80e2022a",
   "metadata": {},
   "outputs": [],
   "source": [
    "class Studente:\n",
    "    def __init__(self, nome, cognome, matricola, media):\n",
    "        self.nome = nome\n",
    "        self.cognome = cognome\n",
    "        self.matricola = matricola\n",
    "        self.media = media\n",
    "    def promosso(self):\n",
    "        return self.media >= 18\n",
    "    def stampa_dati(self):\n",
    "        print(f\"Nome: {self.nome}\")\n",
    "        print(f\"Cognome: {self.cognome}\")\n",
    "        print(f\"Matricola: {self.matricola}\")\n",
    "        print(f\"Media: {self.media}\")"
   ]
  },
  {
   "cell_type": "code",
   "execution_count": 6,
   "id": "8b67bda0",
   "metadata": {},
   "outputs": [
    {
     "name": "stdout",
     "output_type": "stream",
     "text": [
      "Luca\n",
      "2361690879728\n",
      "2361690879424\n",
      "2361690879728\n"
     ]
    }
   ],
   "source": [
    "studente1 = Studente(\"Mario\", \"Rossi\", \"001\", 20)\n",
    "studente2 = studente1\n",
    "studente1.nome = \"Luca\"\n",
    "print(studente2.nome) # Luca\n",
    "\n",
    "s1 = Studente(\"Mario\", \"Rossi\", \"1234\", 25)\n",
    "s2 = Studente(\"Luigi\", \"Bianchi\", \"5678\", 28)\n",
    "s3 = s1\n",
    "print(id(s1))\n",
    "print(id(s2))\n",
    "print(id(s3))"
   ]
  },
  {
   "cell_type": "code",
   "execution_count": 8,
   "id": "fbf8cce4",
   "metadata": {},
   "outputs": [
    {
     "name": "stdout",
     "output_type": "stream",
     "text": [
      "10\n"
     ]
    }
   ],
   "source": [
    "class Esempio():\n",
    "    def __init__(self, valore):\n",
    "        self._x = valore\n",
    "\n",
    "    @property\n",
    "    def x(self): # questo è il metodo getter decorato\n",
    "        return self._x\n",
    "    \n",
    "    @x.setter\n",
    "    def x(self, valore): # questo è il metodo setter decorato\n",
    "        self._x = valore\n",
    "\n",
    "Esempio1 = Esempio(10)\n",
    "print(Esempio1.x)\n",
    "Esempio1.x = 20"
   ]
  },
  {
   "cell_type": "code",
   "execution_count": null,
   "id": "8dd7a507",
   "metadata": {},
   "outputs": [],
   "source": [
    "class Studente:\n",
    "    def __init__(self, nome, cognome, matricola, media):\n",
    "        self.nome = nome\n",
    "        self.cognome = cognome\n",
    "        self.matricola = matricola\n",
    "        self._media = media\n",
    "\n",
    "    @property # consente di definire l'attributo media come una proprietà dell'oggetto Studente\n",
    "    def media(self):\n",
    "        return self._media\n",
    "    \n",
    "    @media.setter # definisce un metodo che viene eseguito ogni volta che si tenta di assegnare un valore all'attributo media\n",
    "    def media(self, value):\n",
    "        self._media = min(value, 30)\n",
    "\n",
    "    def promosso(self):\n",
    "        return self.media >= 18\n",
    "    \n",
    "    def stampa_dati(self):\n",
    "        print(f\"Nome: {self.nome}\")\n",
    "        print(f\"Cognome: {self.cognome}\")\n",
    "        print(f\"Matricola: {self.matricola}\")\n",
    "        print(f\"Media: {self.media}\")"
   ]
  },
  {
   "cell_type": "code",
   "execution_count": 10,
   "id": "f97e6265",
   "metadata": {},
   "outputs": [],
   "source": [
    "class Studente:\n",
    "    def __init__(self, nome, cognome, matricola, media):\n",
    "        self.nome = nome\n",
    "        self.cognome = cognome\n",
    "        self.matricola = matricola\n",
    "        self._media = media\n",
    "        self._voto = None\n",
    "\n",
    "    @property\n",
    "    def media(self):\n",
    "        return self._media\n",
    "    \n",
    "    @media.setter\n",
    "    def media(self, value):\n",
    "        self._media = min(value, 30)\n",
    "\n",
    "    @property\n",
    "    def voto(self):\n",
    "        return self._voto\n",
    "    \n",
    "    @voto.setter\n",
    "    def voto(self, value):\n",
    "        if value < 0 or value > 30:\n",
    "            raise ValueError(\"Il voto deve essere compreso tra 0 e 30\")\n",
    "        self._voto = value\n",
    "\n",
    "    def promosso(self):\n",
    "        return self.media >= 18\n",
    "    \n",
    "    def stampa_dati(self):\n",
    "        print(f\"Nome: {self.nome}\")\n",
    "        print(f\"Cognome: {self.cognome}\")\n",
    "        print(f\"Matricola: {self.matricola}\")\n",
    "        print(f\"Media: {self.media}\")\n",
    "        print(f\"Voto: {self.voto}\")"
   ]
  },
  {
   "cell_type": "code",
   "execution_count": 11,
   "id": "10f95aed",
   "metadata": {},
   "outputs": [
    {
     "name": "stdout",
     "output_type": "stream",
     "text": [
      "20\n",
      "25\n"
     ]
    },
    {
     "ename": "ValueError",
     "evalue": "Il voto deve essere compreso tra 0 e 30",
     "output_type": "error",
     "traceback": [
      "\u001b[31m---------------------------------------------------------------------------\u001b[39m",
      "\u001b[31mValueError\u001b[39m                                Traceback (most recent call last)",
      "\u001b[36mCell\u001b[39m\u001b[36m \u001b[39m\u001b[32mIn[11]\u001b[39m\u001b[32m, line 5\u001b[39m\n\u001b[32m      3\u001b[39m studente.voto = \u001b[32m25\u001b[39m\n\u001b[32m      4\u001b[39m \u001b[38;5;28mprint\u001b[39m(studente.voto) \u001b[38;5;66;03m# 25\u001b[39;00m\n\u001b[32m----> \u001b[39m\u001b[32m5\u001b[39m \u001b[43mstudente\u001b[49m\u001b[43m.\u001b[49m\u001b[43mvoto\u001b[49m = \u001b[32m35\u001b[39m \u001b[38;5;66;03m# Errore!\u001b[39;00m\n",
      "\u001b[36mCell\u001b[39m\u001b[36m \u001b[39m\u001b[32mIn[10]\u001b[39m\u001b[32m, line 24\u001b[39m, in \u001b[36mStudente.voto\u001b[39m\u001b[34m(self, value)\u001b[39m\n\u001b[32m     21\u001b[39m \u001b[38;5;129m@voto\u001b[39m.setter\n\u001b[32m     22\u001b[39m \u001b[38;5;28;01mdef\u001b[39;00m\u001b[38;5;250m \u001b[39m\u001b[34mvoto\u001b[39m(\u001b[38;5;28mself\u001b[39m, value):\n\u001b[32m     23\u001b[39m     \u001b[38;5;28;01mif\u001b[39;00m value < \u001b[32m0\u001b[39m \u001b[38;5;129;01mor\u001b[39;00m value > \u001b[32m30\u001b[39m:\n\u001b[32m---> \u001b[39m\u001b[32m24\u001b[39m         \u001b[38;5;28;01mraise\u001b[39;00m \u001b[38;5;167;01mValueError\u001b[39;00m(\u001b[33m\"\u001b[39m\u001b[33mIl voto deve essere compreso tra 0 e 30\u001b[39m\u001b[33m\"\u001b[39m)\n\u001b[32m     25\u001b[39m     \u001b[38;5;28mself\u001b[39m._voto = value\n",
      "\u001b[31mValueError\u001b[39m: Il voto deve essere compreso tra 0 e 30"
     ]
    }
   ],
   "source": [
    "studente = Studente(\"Mario\", \"Rossi\", \"12345\", 20)\n",
    "print(studente.media) # 20\n",
    "studente.voto = 25\n",
    "print(studente.voto) # 25\n",
    "studente.voto = 35 # Errore!"
   ]
  },
  {
   "cell_type": "markdown",
   "id": "32385767",
   "metadata": {},
   "source": [
    "#### esempio"
   ]
  },
  {
   "cell_type": "code",
   "execution_count": 12,
   "id": "fe2a6738",
   "metadata": {},
   "outputs": [],
   "source": [
    "class Studente():\n",
    "    def __init__(self, nome, voto_iniziale=0):\n",
    "        self.__nome = nome\n",
    "        self.__voto = voto_iniziale # stiamo memorizzando il voto iniziale nel voto della proprietà\n",
    "        # poichè voto è una proprietà, python traduce questa istruzione di assegnazione in una chiamata al metodo setter, che ha il vantaggio\n",
    "        # di validare l'input prima di memorizzare il valore nella variabile di istanza self.__voto\n",
    "\n",
    "    @property   # decoratore property, questo definisce il nome voto come proprietà qualsiasi\n",
    "    def voto(self):\n",
    "        return self.__voto\n",
    "    \n",
    "    @voto.setter    # decoratore setter\n",
    "    def voto(self, nuovo_voto):\n",
    "        try:\n",
    "            nuovo_voto = int(nuovo_voto) # convertiamo il nuovo voto in un intero\n",
    "        except (TypeError, ValueError) as e: # solleviamo un'eccezione se il nuovo voto non è un numero intero\n",
    "            raise type(e)('Nuovo voto: ' + str(nuovo_voto) + ', è un tipo non valido.')\n",
    "        if (nuovo_voto < 0) or (nuovo_voto > 100): # solleviamo un'eccezione se il nuovo voto non è compreso tra 0 e 100\n",
    "            raise ValueError('Nuovo voto: ' + str(nuovo_voto) + ', deve essere compreso tra 0 e 100.')\n",
    "        self.__voto = nuovo_voto # impostiamo il nuovo voto \n",
    "        "
   ]
  },
  {
   "cell_type": "code",
   "execution_count": null,
   "id": "a105741a",
   "metadata": {},
   "outputs": [
    {
     "name": "stdout",
     "output_type": "stream",
     "text": [
      "0\n",
      "0\n",
      "\n",
      "66\n",
      "77\n"
     ]
    }
   ],
   "source": [
    "s1= Studente('Mario Rossi')\n",
    "s2= Studente('Roby Bianchi')\n",
    "# Otteniamo i voti usando la proprietà voto e poi li visualizziamo\n",
    "print(s1.voto)\n",
    "print(s2.voto)\n",
    "print()\n",
    "# Impostiamo nuovi valori usando la proprietà voto\n",
    "s1.voto = 66\n",
    "s2.voto = 77\n",
    "print(s1.voto)\n",
    "print(s2.voto)\n",
    "'''\n",
    "Cosa succede qui? Il software client può essere scritto in un modo che sembri accedere direttamente\n",
    "alle variabili di istanza, ma come programmatore di classe, i nostri metodi decorati ottentono e impostano\n",
    "l'effettiva variabile di istanza di proprietà dell'oggetto e consentono persino la convalida degli ingressi.\n",
    "Questo approccio supporta l'incapsulamento perché il codice client non accede direttamente a una variabile di istanza.\n",
    "'''"
   ]
  },
  {
   "cell_type": "code",
   "execution_count": null,
   "id": "f5e65122",
   "metadata": {},
   "outputs": [],
   "source": [
    "class Animale:\n",
    "    def __init__(self, nome, specie):\n",
    "        self.nome = nome\n",
    "        self.specie = specie\n",
    "\n",
    "class Cane(Animale):\n",
    "    def __init__(self, nome, razza):\n",
    "        super().__init__(nome, specie=\"Cane\")\n",
    "        self.razza = razza\n",
    "\n",
    "    def abbaiare(self):\n",
    "        print(f\"{self.nome} sta abbaiando\")\n",
    "        cane1 = Cane(\"Fido\", \"Bulldog\")\n",
    "        print(f\"Il mio cane si chiama {cane1.nome} ed è di razza {cane1.razza}\")\n",
    "        cane1.abbaiare()"
   ]
  },
  {
   "cell_type": "code",
   "execution_count": null,
   "id": "83fc89b5",
   "metadata": {},
   "outputs": [],
   "source": [
    "class Animale:\n",
    "    def __init__(self, nome, specie):\n",
    "        self.nome = nome\n",
    "        self.specie = specie\n",
    "        \n",
    "class Cane(Animale):\n",
    "    def __init__(self, nome, razza):\n",
    "        super().__init__(nome, specie=\"Cane\")\n",
    "        self.razza = razza\n",
    "    def abbaiare(self):\n",
    "        print(f\"{self.nome} sta abbaiando\")\n",
    "        cane1 = Cane(\"Fido\", \"Bulldog\")\n",
    "        # Verifica se cane1 è un'istanza della classe Cane\n",
    "        if isinstance(cane1, Cane):\n",
    "            print(\"cane1 è un'istanza di Cane\")\n",
    "        # Verifica se cane1 è un'istanza della classe Animale\n",
    "        if isinstance(cane1, Animale):\n",
    "            print(\"cane1 è un'istanza di Animale\")  \n",
    "        # Verifica se Cane è una sottoclasse di Animale\n",
    "        if issubclass(Cane, Animale):\n",
    "            print(\"Cane è una sottoclasse di Animale\")\n",
    "        # Verifica se Animale è una sottoclasse di Cane\n",
    "        if issubclass(Animale, Cane):\n",
    "            print(\"Animale è una sottoclasse di Cane\")"
   ]
  },
  {
   "cell_type": "code",
   "execution_count": null,
   "id": "e2e1b6f3",
   "metadata": {},
   "outputs": [],
   "source": [
    "class Cane:\n",
    "    class Animale:\n",
    "        def __init__(self, nome):\n",
    "            self.nome = nome\n",
    "            self.specie = \"Cane\"\n",
    "            \n",
    "    def __init__(self, nome, razza):\n",
    "        self.animal = self.Animale(nome)\n",
    "        self.razza = razza\n",
    "\n",
    "    def abbaiare(self):\n",
    "        print(f\"{self.animal.nome} sta abbaiando\")\n",
    "        cane1 = Cane(\"Fido\", \"Bulldog\")\n",
    "        print(f\"Il mio cane si chiama {cane1.animal.nome} ed è di razza {cane1.razza}\")\n",
    "        cane1.abbaiare()"
   ]
  },
  {
   "cell_type": "code",
   "execution_count": null,
   "id": "4697ab13",
   "metadata": {},
   "outputs": [],
   "source": [
    "class Animale:\n",
    "    def __init__(self, nome, specie):\n",
    "        self.nome = nome\n",
    "        self.specie = specie\n",
    "    def __repr__(self):\n",
    "        return f\"Animale('{self.nome}', '{self.specie}')\"\n",
    "    def __eq__(self, other):\n",
    "        return isinstance(other, Animale) and self.nome == other.nome and self.specie == other.specie\n",
    "    \n",
    "class Cane(Animale):\n",
    "    def __init__(self, nome, razza):\n",
    "        super().__init__(nome, specie=\"Cane\")\n",
    "        self.razza = razza\n",
    "        \n",
    "    def abbaiare(self):\n",
    "        print(f\"{self.nome} sta abbaiando\")"
   ]
  },
  {
   "cell_type": "code",
   "execution_count": 1,
   "id": "ff233335",
   "metadata": {},
   "outputs": [
    {
     "name": "stdout",
     "output_type": "stream",
     "text": [
      "Il rettangolo è largo=3 e alto=4\n",
      "Il rettangolo è largo=5 e alto=6\n",
      "I due rettangoli sono diversi\n",
      "12\n",
      "12\n",
      "16\n",
      "30\n",
      "Il rettangolo è largo=8 e alto=10\n"
     ]
    }
   ],
   "source": [
    "class Rettangolo:\n",
    "    def __init__(self, larghezza, altezza):\n",
    "        self.larghezza = larghezza\n",
    "        self.altezza = altezza\n",
    "\n",
    "    def __str__(self):\n",
    "        return f\"Il rettangolo è largo={self.larghezza} e alto={self.altezza}\"\n",
    "    \n",
    "    def __eq__(self, other):\n",
    "        return self.larghezza == other.larghezza and self.altezza == other.altezza\n",
    "    \n",
    "    def __lt__(self, other):\n",
    "        return self.area() < other.area()\n",
    "    \n",
    "    def __add__(self, other):\n",
    "        return Rettangolo(self.larghezza + other.larghezza, self.altezza + other.altezza)\n",
    "    \n",
    "    def area(self):\n",
    "        return self.larghezza * self.altezza\n",
    "\n",
    "    def perimetro(self):\n",
    "        return 2 * (self.larghezza + self.altezza)\n",
    "    \n",
    "# Creiamo due oggetti\n",
    "r1 = Rettangolo(3, 4)\n",
    "r2 = Rettangolo(5, 6)\n",
    "# Stampiamo le informazioni sugli oggetti creati\n",
    "print(r1)\n",
    "print(r2)\n",
    "# Confrontiamo gli oggetti\n",
    "if r1 == r2:\n",
    "    print(\"I due rettangoli sono uguali\")\n",
    "else:\n",
    "    print(\"I due rettangoli sono diversi\")\n",
    "# Ordiniamo una lista di oggetti Rettangolo in base alla loro area\n",
    "rettangoli = [r1, r2, Rettangolo(2, 8), Rettangolo(4, 3)]\n",
    "rettangoli_sorted = sorted(rettangoli)\n",
    "for r in rettangoli_sorted:\n",
    "    print(r.area())\n",
    "# Sommiamo due oggetti di tipo Rettangolo\n",
    "r3 = r1 + r2\n",
    "print(r3)\n"
   ]
  },
  {
   "cell_type": "code",
   "execution_count": 2,
   "id": "4881e29b",
   "metadata": {},
   "outputs": [
    {
     "name": "stdout",
     "output_type": "stream",
     "text": [
      "Unicorno (bianco, grande) e Unicorno (bianco, grande) sono lo stesso animale!\n",
      "Unicorno (bianco, grande) e Dragone (rosso, enorme) sono due animali diversi.\n"
     ]
    }
   ],
   "source": [
    "class AnimaleImmaginario:\n",
    "    def __init__(self, nome, colore, taglia):\n",
    "        self.nome = nome\n",
    "        self.colore = colore\n",
    "        self.taglia = taglia\n",
    "    def __eq__(self, altro):\n",
    "        return isinstance(altro, AnimaleImmaginario) and \\\n",
    "            self.nome == altro.nome and \\\n",
    "            self.colore == altro.colore and \\\n",
    "            self.taglia == altro.taglia\n",
    "    \n",
    "    def __str__(self):\n",
    "        return f\"{self.nome} ({self.colore}, {self.taglia})\"\n",
    "    \n",
    "unicorno1 = AnimaleImmaginario(\"Unicorno\", \"bianco\", \"grande\")\n",
    "unicorno2 = AnimaleImmaginario(\"Unicorno\", \"bianco\", \"grande\")\n",
    "dragone = AnimaleImmaginario(\"Dragone\", \"rosso\", \"enorme\")\n",
    "if unicorno1 == unicorno2:\n",
    "    print(f\"{unicorno1} e {unicorno2} sono lo stesso animale!\")\n",
    "else:\n",
    "    print(f\"{unicorno1} e {unicorno2} sono due animali diversi.\")\n",
    "if unicorno1 == dragone:\n",
    "    print(f\"{unicorno1} e {dragone} sono lo stesso animale!\")\n",
    "else:\n",
    "    print(f\"{unicorno1} e {dragone} sono due animali diversi.\")"
   ]
  },
  {
   "cell_type": "code",
   "execution_count": null,
   "id": "96adeeeb",
   "metadata": {},
   "outputs": [],
   "source": [
    "class Animale:\n",
    "    tipo = \"generico\" # variabile di calsse, associata alla classe, anzinche alla istanza (oggetto)\n",
    "    def __init__(self, nome, specie):\n",
    "        self.nome = nome\n",
    "        self.specie = specie\n",
    "\n",
    "    def __repr__(self):\n",
    "        return f\"Animale('{self.nome}', '{self.specie}')\"\n",
    "    def __eq__(self, other):\n",
    "        return isinstance(other, Animale) and self.nome == other.nome and self.specie == other.specie\n",
    "    @classmethod    # metodo di classe e non di istanza\n",
    "    def set_tipo(cls, tipo):\n",
    "        cls.tipo = tipo\n",
    "    @staticmethod   # metodo statico, associati alla classe\n",
    "    def descrizione():\n",
    "        return \"Gli animali sono esseri viventi appartenenti al regno animale\"\n",
    "\n",
    "class Cane(Animale):\n",
    "    tipo = \"cane\"\n",
    "    def __init__(self, nome, razza):\n",
    "        super().__init__(nome, specie=\"Cane\")\n",
    "        self.razza = razza\n",
    "    def abbaiare(self):\n",
    "        print(f\"{self.nome} sta abbaiando\")\n",
    "    def __repr__(self):\n",
    "        return f\"Cane('{self.nome}', '{self.razza}')\"\n",
    "    def __eq__(self, other):\n",
    "        return isinstance(other, Cane) and super().__eq__(other) and self.razza == other.razza\n",
    "    @classmethod\n",
    "    def set_tipo(cls, tipo):\n",
    "        cls.tipo = tipo\n",
    "    @staticmethod\n",
    "    def descrizione():\n",
    "        return \"Il cane è un animale domestico addestrato per vari scopi\"\n",
    "    \n",
    "cane1 = Cane(\"Fido\", \"Bulldog\")\n",
    "print(f\"Il mio cane si chiama {cane1.nome} ed è di razza {cane1.razza}\")\n",
    "cane1.abbaiare()\n",
    "print(Animale.tipo) # stampa \"generico\"\n",
    "print(Cane.tipo) # stampa \"cane\"\n",
    "Animale.set_tipo(\"generico\")\n",
    "Cane.set_tipo(\"cane da guardia\")\n",
    "print(Animale.tipo) # stampa \"generico\"\n",
    "print(Cane.tipo) # stampa \"cane da guardia\"\n",
    "print(Animale.descrizione()) # stampa \"Gli animali sono esseri viventi, come noi\"\n",
    "print(Cane.descrizione()) # stampa \"Il cane è un animale domestico\""
   ]
  },
  {
   "cell_type": "markdown",
   "id": "a3901a1c",
   "metadata": {},
   "source": [
    "# Esercizi 1"
   ]
  },
  {
   "cell_type": "code",
   "execution_count": 3,
   "id": "5b10776c",
   "metadata": {},
   "outputs": [
    {
     "name": "stdout",
     "output_type": "stream",
     "text": [
      "Il nome della persona è: Lorenzo. L'età della persona è 23\n",
      "Il nome della persona è: Ange. L'età della persona è 26\n"
     ]
    }
   ],
   "source": [
    "# 1 Scrivere una classe Persona con gli attributi nome ed età, e un metodo mostra che restituisce una stringa contenente il nome e l'età della persona.\n",
    "class Persona():\n",
    "    def __init__(self, nome, età):\n",
    "        self.nome = nome\n",
    "        self.età = età\n",
    "    def info(self):\n",
    "        print(f\"Il nome della persona è: {self.nome}. L'età della persona è {self.età}\")\n",
    "\n",
    "pers1 = Persona('Lorenzo', 23)\n",
    "pers2 = Persona('Ange', 26)\n",
    "pers1.info()\n",
    "pers2.info()"
   ]
  },
  {
   "cell_type": "code",
   "execution_count": 4,
   "id": "fad60898",
   "metadata": {},
   "outputs": [
    {
     "name": "stdout",
     "output_type": "stream",
     "text": [
      "L'area del rettangolo con base 5 e altezza 10 è:\n",
      "\tArea: 50\n",
      "\tPerimetro: 30\n"
     ]
    }
   ],
   "source": [
    "# 2 Scrivere una classe Rettagolo con gli attributi lunghezza e larghezza, e i metodi area e perimetro\n",
    "# che restituiscono rispettivamente l'area e il perimetro del rettangolo.\n",
    "\n",
    "class Rettangolo():\n",
    "    def __init__(self, lunghezza, larghezza):\n",
    "        self.lunghezza = lunghezza\n",
    "        self.larghezza = larghezza\n",
    "    def area(self):\n",
    "        return self.lunghezza * self.larghezza\n",
    "    def perimetro(self):\n",
    "        return self.lunghezza * 2 + self.larghezza * 2\n",
    "    def stampa(self):\n",
    "        print(f\"L'area del rettangolo con base {self.lunghezza} e altezza {self.larghezza} è:\\n\\tArea: {self.area()}\\n\\tPerimetro: {self.perimetro()}\")\n",
    "\n",
    "rett = Rettangolo(5, 10)\n",
    "rett.stampa()\n"
   ]
  },
  {
   "cell_type": "code",
   "execution_count": 6,
   "id": "e03367e9",
   "metadata": {},
   "outputs": [
    {
     "name": "stdout",
     "output_type": "stream",
     "text": [
      "Il tuo saldo attuale è di: -50€\n"
     ]
    }
   ],
   "source": [
    "# 3 Scrivere una classe Conto con l'attributo saldo e i metodi deposito e ritiro che aggiornano il saldo del conto in base all'importo depositato o prelevato.\n",
    "class Conto():\n",
    "    def __init__(self, saldo = 0):\n",
    "        self.saldo = saldo\n",
    "    def deposito(self, importo):\n",
    "        self.saldo += importo\n",
    "    def prelievo(self, importo): # ritiro\n",
    "        self.saldo -= importo\n",
    "    def saldo_attuale(self):\n",
    "        print(f\"Il tuo saldo attuale è di: {self.saldo}€\")\n",
    "\n",
    "conto = Conto(100)\n",
    "conto.deposito(50)\n",
    "conto.prelievo(100)\n",
    "conto.prelievo(100)\n",
    "conto.saldo_attuale()"
   ]
  },
  {
   "cell_type": "code",
   "execution_count": 10,
   "id": "a26d591d",
   "metadata": {},
   "outputs": [
    {
     "name": "stdout",
     "output_type": "stream",
     "text": [
      "La macchina ha queste caratteristiche: colore-bianca, modello-Skoda-204, anno-2004\n",
      "La macchina ha queste caratteristiche: colore-nera, modello-Peugeut-208, anno-2011\n"
     ]
    }
   ],
   "source": [
    "# 4 Scrivere una classe Auto con gli attributi colore, modello e anno, e un metodo descrizione che restituisce una stringa contenente la descrizione della macchina\n",
    "class Auto():\n",
    "    def __init__(self, colore, modello, anno):\n",
    "        self.colore = colore\n",
    "        self.modello = modello\n",
    "        self.anno = anno\n",
    "    def descrizione(self):\n",
    "        return f\"La macchina ha queste caratteristiche: colore-{self.colore}, modello-{self.modello}, anno-{self.anno}\"\n",
    "    \n",
    "aut1 = Auto('bianca', 'Skoda-204', 2004)\n",
    "aut2 = Auto('nera', 'Peugeut-208', 2011)\n",
    "print(aut1.descrizione())\n",
    "print(aut2.descrizione())"
   ]
  },
  {
   "cell_type": "code",
   "execution_count": 11,
   "id": "b5b116bd",
   "metadata": {},
   "outputs": [
    {
     "name": "stdout",
     "output_type": "stream",
     "text": [
      "Il cane Bobby abbaia: Woof Woof!\n",
      "Il cane Bobby cammina: zug zug!\n"
     ]
    }
   ],
   "source": [
    "# 5 Scrivere una classe Cane con l'attributo nome e i metodi baubau e cammina che rispettivamente fanno abbaiare il cane e lo fanno camminare.\n",
    "class Cane():\n",
    "    def __init__(self, nome):\n",
    "        self.nome = nome\n",
    "    def baubau(self):\n",
    "        print(f\"Il cane {self.nome} abbaia: Woof Woof!\")\n",
    "    def cammina(self):\n",
    "        print(f\"Il cane {self.nome} cammina: zug zug!\")\n",
    "cane = Cane('Bobby')\n",
    "cane.baubau()\n",
    "cane.cammina()"
   ]
  },
  {
   "cell_type": "code",
   "execution_count": null,
   "id": "d52de4bf",
   "metadata": {},
   "outputs": [
    {
     "name": "stdout",
     "output_type": "stream",
     "text": [
      "L'area del quadrato di lato 3 è: 9\n"
     ]
    }
   ],
   "source": [
    "# 6 Definire una classe Quadrato con gli attributi larghezza e altezza e un metodo area che calcoli l'area visualizzandola su schermo.\n",
    "# uguale a quello del rettangolo, non ha senso mettere altezza e larghezza ad un quadrato\n",
    "class Quadrato():\n",
    "    def __init__(self, lato): \n",
    "        self.lato = lato\n",
    "    def area(self):\n",
    "        return self.lato**2\n",
    "quadrato = Quadrato(3)\n",
    "print(f\"L'area del quadrato di lato {quadrato.lato} è: {quadrato.area()}\")"
   ]
  },
  {
   "cell_type": "code",
   "execution_count": 16,
   "id": "9c182b59",
   "metadata": {},
   "outputs": [
    {
     "name": "stdout",
     "output_type": "stream",
     "text": [
      "Jimmy è vecchio? --> No\n",
      "Giovas è vecchio? --> Si\n",
      "L'età inserita è minore di 0\n"
     ]
    }
   ],
   "source": [
    "# 7 Definire una classe Persona con gli attributi nome ed età, e un metodo è_vecchio che restituisce True se la persona ha più di 60 anni, altrimenti False.\n",
    "class Persona():\n",
    "    def __init__(self, nome, età):\n",
    "        self.nome = nome\n",
    "        try:\n",
    "            if età > 0:\n",
    "                self.età = età\n",
    "            else:\n",
    "                raise ValueError(\"L'età inserita è minore di 0\")\n",
    "        except ValueError as e:\n",
    "            print(e)\n",
    "    def è_vecchio(self):\n",
    "        return True if self.età > 60 else False\n",
    "\n",
    "persona1 = Persona('Jimmy', 25)\n",
    "print(f\"{persona1.nome} è vecchio? --> {'Si' if persona1.è_vecchio() else 'No'}\")\n",
    "persona2 = Persona('Giovas', 65)\n",
    "print(f\"{persona2.nome} è vecchio? --> {'Si' if persona2.è_vecchio() else 'No'}\")\n",
    "persona = Persona('Jimmyos', -2)"
   ]
  },
  {
   "cell_type": "code",
   "execution_count": null,
   "id": "e7d23994",
   "metadata": {},
   "outputs": [],
   "source": [
    "# 8 Definire una classe ContoBancario con l'attributo saldo e due metodi deposita e preleva che aggiungono o sottraggono una certa quantità dal saldo del conto.\n",
    "\n",
    "# Uguale al 3"
   ]
  },
  {
   "cell_type": "code",
   "execution_count": 22,
   "id": "a1d456dd",
   "metadata": {},
   "outputs": [
    {
     "name": "stdout",
     "output_type": "stream",
     "text": [
      "Il punto si trova nella coordinata (x: 5, y: -5)\n",
      "La distanza dall'origine (x: 0, y: 0) è: 7.0710678118654755\n"
     ]
    }
   ],
   "source": [
    "# 9 Definire una classe Punto con gli attributi x e y e un metodo distanza_dall_origine che calcola la distanza del punto dall'origine (0, 0).\n",
    "import math\n",
    "\n",
    "class Punto():\n",
    "    def __init__(self, x, y):\n",
    "        self.x = x\n",
    "        self.y = y\n",
    "    def distanza_origine(self):\n",
    "        return math.sqrt(self.x**2 + self.y**2)\n",
    "\n",
    "punto = Punto(5, -5)\n",
    "print(f\"Il punto si trova nella coordinata (x: {punto.x}, y: {punto.y})\\nLa distanza dall'origine (x: 0, y: 0) è: {punto.distanza_origine()}\")"
   ]
  },
  {
   "cell_type": "code",
   "execution_count": null,
   "id": "83bf3d6d",
   "metadata": {},
   "outputs": [
    {
     "name": "stdout",
     "output_type": "stream",
     "text": [
      "FiatPunto è nuova (km < 1000)? --> No\n",
      "Fiat500-E è nuova (km < 1000)? --> Si\n"
     ]
    }
   ],
   "source": [
    "# 10 Definire una classe Auto con gli attributi marca, modello, anno e chilometraggio, e un metodo è_nuova che restituisce True se l'auto ha meno di 1000 km, altrimenti False.\n",
    "class Auto():\n",
    "    def __init__(self, marca, modello, anno, km):\n",
    "        self.marca = marca\n",
    "        self.modello = modello\n",
    "        self.anno = anno\n",
    "        self.km = km\n",
    "    def è_nuova(self) -> bool:\n",
    "        return True if self.km < 1000 else False\n",
    "\n",
    "auto = Auto('Fiat', 'Punto', '1998', 10000)\n",
    "print(f\"{auto.marca + auto.modello} è nuova (km < 1000)? --> {'Si' if auto.è_nuova() else 'No'}\")\n",
    "auto = Auto('Fiat', '500-E', '2023', 500)\n",
    "print(f\"{auto.marca + auto.modello} è nuova (km < 1000)? --> {'Si' if auto.è_nuova() else 'No'}\")\n",
    "\n"
   ]
  },
  {
   "cell_type": "code",
   "execution_count": 27,
   "id": "aa78b055",
   "metadata": {},
   "outputs": [
    {
     "name": "stdout",
     "output_type": "stream",
     "text": [
      "Nome: Gabriele, Cognome: Greco\n"
     ]
    }
   ],
   "source": [
    "# 11 Creare una classe Persona con gli attributi nome e cognome. Definire il costruttore per inizializzare gli attributi con i valori passati come argomenti.\n",
    "# qui dice di usare esplicitamente il costruttore\n",
    "class Persona:\n",
    "    def __init__(self, nome, cognome):\n",
    "        self.nome = nome\n",
    "        self.cognome = cognome\n",
    "\n",
    "p1 = Persona(\"Gabriele\", \"Greco\")\n",
    "print(f\"Nome: {p1.nome}, Cognome: {p1.cognome}\")\n"
   ]
  },
  {
   "cell_type": "code",
   "execution_count": 29,
   "id": "d85484a8",
   "metadata": {},
   "outputs": [
    {
     "name": "stdout",
     "output_type": "stream",
     "text": [
      "Il cane ha nome: Bob, età: 10 ed è di razza Rotweiller\n"
     ]
    }
   ],
   "source": [
    "# 12 Creare una classe Cane con gli attributi nome, razza e età. Definire il costruttore per inizializzare gli attributi con i valori passati come argomenti.\n",
    "class Cane():\n",
    "    def __init__(self, nome, razza, età):\n",
    "        self.nome = nome\n",
    "        self.razza = razza\n",
    "        self.età = età\n",
    "\n",
    "cane = Cane('Bob', 'Rotweiller', 10)\n",
    "print(f\"Il cane ha nome: {cane.nome}, età: {cane.età} ed è di razza {cane.razza}\")"
   ]
  },
  {
   "cell_type": "code",
   "execution_count": null,
   "id": "95533bdd",
   "metadata": {},
   "outputs": [
    {
     "name": "stdout",
     "output_type": "stream",
     "text": [
      "Coordinate primo punto 5 5\n",
      "Coordinate secondo punto 0 0\n"
     ]
    }
   ],
   "source": [
    "# 13 Creare una classe Punto con gli attributi x e y. Definire il costruttore per inizializzare gli attributi\n",
    "# con i valori passati come argomenti, con valori predefiniti di zero se gli argomenti non vengono passati.\n",
    "class Punto():\n",
    "    def __init__(self, x = 0, y = 0):\n",
    "        self.x = x\n",
    "        self.y = y\n",
    "punto = Punto(5, 5)\n",
    "punto_zero = Punto()\n",
    "print(f\"Coordinate primo punto {punto.x} {punto.y}\")\n",
    "print(f\"Coordinate secondo punto {punto_zero.x} {punto_zero.y}\")"
   ]
  },
  {
   "cell_type": "code",
   "execution_count": null,
   "id": "bcc5bdd0",
   "metadata": {},
   "outputs": [
    {
     "name": "stdout",
     "output_type": "stream",
     "text": [
      "Nome del primo frutto fragola\n",
      "Nome del secondo frutto sconosciuto\n"
     ]
    }
   ],
   "source": [
    "# 14 Creare una classe Frutto con l'attributo nome. Definire il costruttore per inizializzare l'attributo\n",
    "# con il valore passato come argomento, con valore predefinito di sconosciuto se l'argomento non viene passato.\n",
    "class Frutto():\n",
    "    def __init__(self, nome = 'sconosciuto'):\n",
    "        self.nome = nome\n",
    "\n",
    "frutto = Frutto('fragola')\n",
    "frutto_sconosciuto = Frutto()\n",
    "print(f\"Nome del primo frutto: {frutto.nome}\")\n",
    "print(f\"Nome del secondo frutto: {frutto_sconosciuto.nome}\")\n"
   ]
  },
  {
   "cell_type": "code",
   "execution_count": 32,
   "id": "f9d3be9f",
   "metadata": {},
   "outputs": [
    {
     "name": "stdout",
     "output_type": "stream",
     "text": [
      "Titolo del libro: harry potter, autore: JK rowling, anno di pubblicazione: 2000\n",
      "Titolo del libro: , autore: , anno di pubblicazione: 0\n"
     ]
    }
   ],
   "source": [
    "# 15 Crea una classe Libro con gli attributi titolo, autore e anno. Definire il costruttore per inizializzare\n",
    "# gli attributi con i valori passati come argomenti, con valori predefiniti di stringhe vuote e zero se gli argomenti non vengono passati.\n",
    "\n",
    "class Libro():\n",
    "    def __init__(self, titolo = '', autore = '', anno = 0):\n",
    "        self.titolo = titolo\n",
    "        self.autore = autore\n",
    "        self.anno = anno\n",
    "    def stampa(self):\n",
    "        print(f\"Titolo del libro: {self.titolo}, autore: {self.autore}, anno di pubblicazione: {self.anno}\")\n",
    "\n",
    "libro = Libro(\"harry potter\", \"JK rowling\", 2000)\n",
    "libro2 = Libro()\n",
    "libro.stampa()\n",
    "libro2.stampa()"
   ]
  },
  {
   "cell_type": "code",
   "execution_count": 36,
   "id": "6a9eaf0b",
   "metadata": {},
   "outputs": [
    {
     "name": "stdout",
     "output_type": "stream",
     "text": [
      "Il numero è: 5 8i\n"
     ]
    }
   ],
   "source": [
    "# 16 Creare una classe NumeroComplesso con gli attributi parte_reale e parte_immaginaria. Definire il metodo magico add per sommare due numeri complessi.\n",
    "class NumeroComplesso():\n",
    "    def __init__(self, reale, immaginaria):\n",
    "        self.reale = reale\n",
    "        self.immaginaria = immaginaria\n",
    "    \n",
    "    def __add__(self, other):\n",
    "        return NumeroComplesso(self.reale + other.reale, self.immaginaria + other.immaginaria)\n",
    "    \n",
    "    def stampa(self):\n",
    "        print(f\"Il numero è: {self.reale} {self.immaginaria}i\")\n",
    "\n",
    "num1 = NumeroComplesso(2, 4)\n",
    "num2 = NumeroComplesso(3, 4)\n",
    "num = num1 + num2\n",
    "num.stampa()\n",
    "    "
   ]
  },
  {
   "cell_type": "code",
   "execution_count": 38,
   "id": "fe465ce1",
   "metadata": {},
   "outputs": [
    {
     "name": "stdout",
     "output_type": "stream",
     "text": [
      "Il numero è 4, 0\n"
     ]
    }
   ],
   "source": [
    "# 17 Creare una classe Punto con gli attributi x e y. Definire il metodo magico str per rappresentare l'oggetto come una stringa \"x,y\".\n",
    "class Punto():\n",
    "    def __init__(self, x = 0, y = 0):\n",
    "        self.x = x\n",
    "        self.y = y\n",
    "    def __str__(self):\n",
    "        return f\"{self.x}, {self.y}\"\n",
    "    \n",
    "punto = Punto(4)\n",
    "print(f\"Il numero è {str(punto)}\")"
   ]
  },
  {
   "cell_type": "code",
   "execution_count": 41,
   "id": "d3279738",
   "metadata": {},
   "outputs": [
    {
     "name": "stdout",
     "output_type": "stream",
     "text": [
      "I prodotti mozzarella - 3 e mozzarella - 4 non sono uguali\n",
      "\n",
      "I prodotti mozzarella - 3 e mozzarella - 3 sono uguali\n",
      "\n"
     ]
    }
   ],
   "source": [
    "# 18 Creare una classe Prodotto con gli attributi nome e prezzo. Definire il metodo magico eq per confrontare due prodotti in base al nome e al prezzo.\n",
    "class Prodotto():\n",
    "    def __init__(self, nome, prezzo):\n",
    "        self.nome = nome\n",
    "        self.prezzo = prezzo\n",
    "    def __eq__(self, other):\n",
    "        return True if (self.nome == other.nome and self.prezzo == other.prezzo) else False\n",
    "    def __str__(self):\n",
    "        return f\"{self.nome} - {self.prezzo}\"\n",
    "\n",
    "\n",
    "prodotto1 = Prodotto('mozzarella', 3)\n",
    "prodotto2 = Prodotto('mozzarella', 4)\n",
    "prodotto3 = Prodotto('mozzarella', 3)\n",
    "print(f\"I prodotti {str(prodotto1)} e {str(prodotto2)} sono uguali\\n\") if prodotto1 == prodotto2 else print(f\"I prodotti {str(prodotto1)} e {str(prodotto2)} non sono uguali\\n\")\n",
    "print(f\"I prodotti {str(prodotto1)} e {str(prodotto3)} sono uguali\\n\") if prodotto1 == prodotto3 else print(f\"I prodotti {str(prodotto1)} e {str(prodotto3)} non sono uguali\\n\")"
   ]
  },
  {
   "cell_type": "code",
   "execution_count": 42,
   "id": "d74a8aad",
   "metadata": {},
   "outputs": [
    {
     "name": "stdout",
     "output_type": "stream",
     "text": [
      "Lunghezza del nome del cane Spike = 5 lettere\n"
     ]
    }
   ],
   "source": [
    "# 19 Creare una classe Cane con l'attributo nome. Definire il metodo magico len per restituire la lunghezza del nome del cane.\n",
    "class Cane():\n",
    "    def __init__(self, nome):\n",
    "        self.nome = nome\n",
    "    def __len__(self):\n",
    "        return len(self.nome)\n",
    "cane = Cane(\"Spike\")\n",
    "print(f\"Lunghezza del nome del cane {cane.nome} = {len(cane)} lettere\")"
   ]
  },
  {
   "cell_type": "code",
   "execution_count": 48,
   "id": "ab5ea898",
   "metadata": {},
   "outputs": [
    {
     "name": "stdout",
     "output_type": "stream",
     "text": [
      "L'elemento 0-esimo della lista è: 0\n",
      "L'elemento 1-esimo della lista è: 1\n",
      "L'elemento 2-esimo della lista è: 2\n",
      "L'elemento 3-esimo della lista è: 3\n"
     ]
    }
   ],
   "source": [
    "# 20 Creare una classe ListaIntelligente con l'attributo lista. Definire il metodo magico getitem per accedere agli elementi della lista tramite l'indice.\n",
    "class ListaIngelligence():\n",
    "    def __init__(self, lista = []):\n",
    "        self.lista = lista\n",
    "    def __getitem__(self, indice):\n",
    "        return self.lista[indice]\n",
    "    \n",
    "lista = [i for i in range(4)]\n",
    "for index in range(len(lista)):\n",
    "    print(f\"L'elemento {index}-esimo della lista è: {lista.__getitem__(index)}\")"
   ]
  },
  {
   "cell_type": "markdown",
   "id": "fa50d738",
   "metadata": {},
   "source": [
    "# Domande 1\n",
    "21) Qual è la differenza tra un metodo di classe e un metodo di istanza?\n",
    "- Un metodo di classe viene dichiarato con un decoratore sopra il metodo con la dicitura @classmethod e posso usarlo per operare a livello di classe, quindi potrò accedere ai parametri di class con il parametro cls del metodo. Mentre quando creo un oggetto con la classe definito quello viene definito istanza, quindi quando chiamo i metodi di istanza sono validi per quella classe. Esempio, ho due oggetti della stessa classe, i metodi di istanza sono specifici per quell'oggetto, i metodi di classe sono solo per la classe.\n",
    "22) Come si può impedire la modifica di un attributo in una classe?\n",
    "- Per impedire la modifica ci sono vari trick, quello più comune è il name mangling, ovvero quando aggiungo un doppio underscore prima di un attributo. Così facendo se scrivo classe.attributo, non mi darà accesso all'attributo. Questo ovviamente vale solo per non commettere errori, in realtà posso comunque accedervi se scrivessi __NomeDellaClasse__.__attributo\n",
    "23) Cosa significa il termine \"ereditarietà\" nella programmazione ad oggetti?\n",
    "- Nella OOP l'ereditarietà serve a riutilizzare del codice del codice già scritto, posso appunto 'ereditare' le istanze ed i metodi di una classe, aggiungendo altre funzioni su di essa, ed evitando quindi di riscriverla.\n",
    "24) Come si definisce una classe che eredita da una classe base in Python?\n",
    "- dopo aver definito una classe, per esempio class Prova(), per ereditarla quando andrò a creare una nuova classe basterà aggiungerla tra i parametri durante la creazione: def Sottoclasse(Prova)\n",
    "25) Qual è il metodo magico per rappresentare una classe come una stringa?\n",
    "- il metodo è __str__, una volta definito posso chiamare l'istanza della classe con str(classe)\n",
    "26) Come si definisce il costruttore di una classe in Python?\n",
    "- il costruttore viene definito con il metodo magico __init__ che viene chiamato quando l'istanza viene creata\n",
    "27) Qual è il decoratore utilizzato per creare una proprietà in una classe?\n",
    "- Il decoratore è @property\n",
    "28) Cosa significa il termine \"incapsulamento\" nella programmazione ad oggetti?\n",
    "- indica la proprietà degli oggetti di incorporare al loro interno sia gli attributi che i metodi\n",
    "29) Qual è il metodo magico utilizzato per eseguire operazioni aritmetiche tra oggetti di una classe?\n",
    "- dipende da quale operazione devo effettuare, per l'addizione di due oggetti classe posso utilizzare __add__\n",
    "30) Come si definisce un metodo di classe in Python?\n",
    "- viene definisco con il decoratore @classmethod\n"
   ]
  },
  {
   "cell_type": "markdown",
   "id": "9a8c6bf1",
   "metadata": {},
   "source": [
    "# Parte 2 I cardini dell'OOP"
   ]
  },
  {
   "cell_type": "code",
   "execution_count": 49,
   "id": "816ab919",
   "metadata": {},
   "outputs": [
    {
     "name": "stdout",
     "output_type": "stream",
     "text": [
      "Gli interessi totali del mutuo sono: 40765.04 euro\n"
     ]
    }
   ],
   "source": [
    "def interessi_mutuo(importo_mutuo, tasso_int_annuo, durata):\n",
    "    # Calcoliamo il tasso di interesse mensile\n",
    "    tasso_int_mensile = tasso_int_annuo / 12 / 100\n",
    "    # Calcolo del numero di rate\n",
    "    numero_rate = len(range(durata * 12))\n",
    "    # Calcoliamo la rata mensile\n",
    "    rata_mensile = (importo_mutuo * tasso_int_mensile) / (1 - (1 +\n",
    "    tasso_int_mensile)**(-numero_rate))\n",
    "    # Calcoliamo gli interessi totali\n",
    "    interessi_totali = rata_mensile * numero_rate - importo_mutuo\n",
    "    return interessi_totali\n",
    "# Esempio di utilizzo\n",
    "importo_mutuo = 150000\n",
    "tasso_int_annuo = 2.5\n",
    "durata = 20\n",
    "interessi_totali = interessi_mutuo(importo_mutuo, tasso_int_annuo, durata)\n",
    "print(f\"Gli interessi totali del mutuo sono: {interessi_totali:.2f} euro\")"
   ]
  },
  {
   "cell_type": "code",
   "execution_count": 50,
   "id": "9444e2d5",
   "metadata": {},
   "outputs": [
    {
     "name": "stdout",
     "output_type": "stream",
     "text": [
      "55\n",
      "45\n",
      "65\n",
      "55\n"
     ]
    }
   ],
   "source": [
    "class Prova():\n",
    "    def __init__(self, nome, cognome, età):\n",
    "        self.nome = nome\n",
    "        self.cognome = cognome\n",
    "        self.età = età\n",
    "\n",
    "Uno = Prova('Mario', 'Rossi', 55)\n",
    "Due = Prova('Roberta', 'Bianchi', 45)\n",
    "\n",
    "# from Prova import * # <- Da non utilizzare se il listato è unico\n",
    "Uno = Prova('Mario', 'Rossi', 55)\n",
    "Due = Prova('Roberta', 'Bianchi', 45)\n",
    "# Otteniamo direttamente i valori della variabile età\n",
    "print(Uno.età)\n",
    "print(Due.età)\n",
    "# Cambiamo direttamente la variabile età\n",
    "Uno.età = 65\n",
    "Due.età = 55\n",
    "# Otteniamo l’età aggiornata per visulaizzarla ancora\n",
    "print(Uno.età)\n",
    "print(Due.età)"
   ]
  },
  {
   "cell_type": "code",
   "execution_count": 54,
   "id": "f2b7315e",
   "metadata": {},
   "outputs": [
    {
     "name": "stdout",
     "output_type": "stream",
     "text": [
      "OK. Mario è stato aggiunto al gruppo La mia squadra\n",
      "OK. Gianni è stato aggiunto al gruppo La mia squadra\n",
      "OK. Dino è stato aggiunto al gruppo La mia squadra\n",
      "OK. Alfio è stato aggiunto al gruppo La mia squadra\n",
      "OK. Claudio è stato aggiunto al gruppo La mia squadra\n",
      "Spiacente, ma non possiamo aggiungere Paolo al gruppo La mia squadra.\n",
      "Questo gruppo ha già il massimo di 5 persone.\n"
     ]
    }
   ],
   "source": [
    "class Gruppo:\n",
    "    def __init__(self, nomeGruppo, limitePersone):\n",
    "        self.nomeGruppo = nomeGruppo\n",
    "        self.limitePersone = limitePersone\n",
    "        self.listaPersone = []\n",
    "\n",
    "    def aggPersona(self, nome):     # Controlliamo che ci sia spazio sufficiente\n",
    "        if len(self.listaPersone) < self.limitePersone:\n",
    "            self.listaPersone.append(nome)\n",
    "            print('OK. ' + nome + ' è stato aggiunto al gruppo ' + self.nomeGruppo)\n",
    "        else:   \n",
    "            print('Spiacente, ma non possiamo aggiungere ' + nome + ' al gruppo ' + self.nomeGruppo + '.')\n",
    "            print('Questo gruppo ha già il massimo di', self.limitePersone, 'persone.')\n",
    "    def rapportoPersone(self):\n",
    "        print('\\nEcco le', len(self.listaPersone), 'persone nel gruppo', self.nomeGruppo + ':')\n",
    "        for nome in self.listaPersone:\n",
    "            print('- ' + nome)\n",
    "# Creiamo una squadra di calcetto\n",
    "calcetto = Gruppo(\"La mia squadra\", 5)\n",
    "# Aggiungiamo alcuni membri, uno è di troppo\n",
    "calcetto.aggPersona(\"Mario\")\n",
    "calcetto.aggPersona(\"Gianni\")\n",
    "calcetto.aggPersona(\"Dino\")\n",
    "calcetto.aggPersona(\"Alfio\")\n",
    "calcetto.aggPersona(\"Claudio\")\n",
    "calcetto.aggPersona(\"Paolo\") # rifiutato"
   ]
  },
  {
   "cell_type": "code",
   "execution_count": 55,
   "id": "957264c8",
   "metadata": {},
   "outputs": [],
   "source": [
    "class Prova():\n",
    "    def __init__(self, nome, cognome, età):\n",
    "        self.nome = nome\n",
    "        self.cognome = cognome\n",
    "        self.età = età\n",
    "    # Consentiamo al chiamante di recuperare l’età\n",
    "    def getEtà(self):\n",
    "        return self.età\n",
    "    # Consentiamo al chiamante di impostare l’età\n",
    "    def setEtà(self, età):\n",
    "        self.età = età"
   ]
  },
  {
   "cell_type": "code",
   "execution_count": 56,
   "id": "3bb848fd",
   "metadata": {},
   "outputs": [
    {
     "name": "stdout",
     "output_type": "stream",
     "text": [
      "55\n",
      "45\n",
      "65\n",
      "55\n"
     ]
    }
   ],
   "source": [
    "Uno = Prova('Mario', 'Rossi', 55)\n",
    "Due = Prova('Roberta', 'Bianchi', 45)\n",
    "# Ottieniamo l’età usando getter\n",
    "print(Uno.getEtà())\n",
    "print(Due.getEtà())\n",
    "# Cambiamo l’età usando setter\n",
    "Uno.setEtà(65)\n",
    "Due.setEtà(55)\n",
    "# Ottieniamo l’età e la visualizziamo\n",
    "print(Uno.getEtà())\n",
    "print(Due.getEtà())"
   ]
  },
  {
   "cell_type": "code",
   "execution_count": null,
   "id": "fbc4bbb4",
   "metadata": {},
   "outputs": [],
   "source": [
    "class Privata():\n",
    "    def __init__(self, segreto = 0, datiPrivati = 0):\n",
    "        self.segreto = segreto\n",
    "        self.__datiPrivati = datiPrivati\n",
    "    def getSegreto(self):\n",
    "        return self.segreto\n",
    "    def setSegreto(self, segreto):\n",
    "        self.segreto = segreto\n",
    "# esempio sbagliato, va corretto\n",
    "# utentiDatiPr = Privata.__datiPrivati # restituirà un errore!\n",
    "# err = Privata.segreto\n",
    "# utentiDatipr = Privata._Privata__datiPrivati\n",
    "# studente = Privata()\n",
    "# print(studente.__datiPrivati)\n",
    "# print"
   ]
  },
  {
   "cell_type": "code",
   "execution_count": null,
   "id": "02b0a866",
   "metadata": {},
   "outputs": [],
   "source": [
    "class Personaggio:\n",
    "    def __init__(self, nome, punti_vita, attacco, difesa):\n",
    "        self.nome = nome\n",
    "        self.punti_vita = punti_vita\n",
    "        self.attacco = attacco\n",
    "        self.difesa = difesa\n",
    "    def attacca(self, nemico):\n",
    "        danno = self.attacco - nemico.difesa\n",
    "        if danno > 0:\n",
    "            nemico.punti_vita -= danno\n",
    "            print(f\"{self.nome} attacca {nemico.nome} causando {danno} punti danno!\")\n",
    "        else:\n",
    "            print(f\"{self.nome} attacca {nemico.nome} ma non causa alcun danno!\")\n",
    "    def muore(self):\n",
    "        print(f\"{self.nome} è morto!\")\n",
    "\n",
    "class Protagonista(Personaggio):\n",
    "    def __init__(self, nome, punti_vita, attacco, difesa, livello):\n",
    "        super().__init__(nome, punti_vita, attacco, difesa)\n",
    "        self.livello = livello\n",
    "        self.livello += 1\n",
    "        self.punti_vita += 10\n",
    "        self.attacco += 5\n",
    "        self.difesa += 5\n",
    "        print(f\"{self.nome} è salito al livello {self.livello}!\")\n",
    "\n",
    "class Nemico(Personaggio):\n",
    "    def __init__(self, nome, punti_vita, attacco, difesa, esperienza):\n",
    "        super().__init__(nome, punti_vita, attacco, difesa)\n",
    "        self.esperienza = esperienza\n",
    "    def muore(self):\n",
    "        super().muore()\n",
    "        print(f\"{self.nome} ti ha lasciato {self.esperienza} punti esperienza!\")\n",
    "\n",
    "class Alleato(Personaggio):\n",
    "    def __init__(self, nome, punti_vita, attacco, difesa, buff):\n",
    "        super().__init__(nome, punti_vita, attacco, difesa)\n",
    "        self.buff = buff\n",
    "    def usa_buff(self):\n",
    "        print(f\"{self.nome} usa il suo buff e aumenta l'attacco di {self.buff} punti!\")\n",
    "        self.attacco += self.buff\n",
    "\n",
    "class Guerriero(Personaggio):\n",
    "    def __init__(self, nome, punti_vita, attacco, difesa, arma):\n",
    "        super().__init__(nome, punti_vita, attacco, difesa)\n",
    "        self.arma = arma"
   ]
  },
  {
   "cell_type": "code",
   "execution_count": null,
   "id": "71db8207",
   "metadata": {},
   "outputs": [],
   "source": [
    "# con override dei metodi\n",
    "class Guerriero(Personaggio):\n",
    "    def __init__(self, nome, punti_vita, attacco, difesa, arma):\n",
    "        super().__init__(nome, punti_vita, attacco, difesa)\n",
    "        self.arma = arma\n",
    "    def attacca(self, nemico):\n",
    "    # Sovrascrive il metodo attacca della classe base\n",
    "        print(f\"{self.nome} attacca {nemico.nome} con {self.arma}!\")\n",
    "        danni = self.attacco - nemico.difesa\n",
    "        if danni > 0:\n",
    "            nemico.subisci_danni(danni)"
   ]
  },
  {
   "cell_type": "code",
   "execution_count": 1,
   "id": "6f4feb6c",
   "metadata": {},
   "outputs": [],
   "source": [
    "class Personaggio:\n",
    "    def __init__(self, nome, punti_vita, attacco, difesa):\n",
    "        self.nome = nome\n",
    "        self.punti_vita = punti_vita\n",
    "        self.attacco = attacco\n",
    "        self.difesa = difesa\n",
    "    def attacca(self, nemico):\n",
    "        print(f\"{self.nome} attacca {nemico.nome}!\")\n",
    "        danni = self.attacco - nemico.difesa\n",
    "        if danni > 0:\n",
    "            nemico.subisci_danni(danni)\n",
    "            print(f\"{nemico.nome} subisce {danni} danni!\")\n",
    "        else:\n",
    "            print(\"Il nemico è troppo forte e non subisce danni.\")\n",
    "    def subisci_danni(self, danni):\n",
    "        self.punti_vita -= danni\n",
    "        if self.punti_vita <= 0:\n",
    "            print(f\"{self.nome} è stato sconfitto!\")\n",
    "        else:\n",
    "            print(f\"{self.nome} ha ancora {self.punti_vita} PV.\")\n",
    "    def attacca(self, nemico):\n",
    "        danno = self.attacco - nemico.difesa\n",
    "        if danno > 0:\n",
    "            nemico.punti_vita -= danno\n",
    "            print(f\"{self.nome} attacca {nemico.nome} causando {danno} punti danno!\")\n",
    "        else:\n",
    "            print(f\"{self.nome} attacca {nemico.nome} ma non causa alcun danno!\")\n",
    "    def muore(self):\n",
    "        print(f\"{self.nome} è morto!\")\n",
    "\n",
    "class Protagonista(Personaggio):\n",
    "    def __init__(self, nome, punti_vita, attacco, difesa, livello):\n",
    "        super().__init__(nome, punti_vita, attacco, difesa)\n",
    "        self.livello = livello\n",
    "    def aumenta_livello(self):\n",
    "        self.livello += 1\n",
    "        self.punti_vita += 10\n",
    "        self.attacco += 5\n",
    "        self.difesa += 5\n",
    "        print(f\"{self.nome} è salito al livello {self.livello}!\")\n",
    "class Nemico(Personaggio):\n",
    "    def __init__(self, nome, punti_vita, attacco, difesa, esperienza):\n",
    "        super().__init__(nome, punti_vita, attacco, difesa)\n",
    "        self.esperienza = esperienza\n",
    "    def muore(self):\n",
    "        super().muore()\n",
    "        print(f\"{self.nome} ti ha lasciato {self.esperienza} punti esperienza!\")\n",
    "class Alleato(Personaggio):\n",
    "    def __init__(self, nome, punti_vita, attacco, difesa, buff):\n",
    "        super().__init__(nome, punti_vita, attacco, difesa)\n",
    "        self.buff = buff\n",
    "    def usa_buff(self):\n",
    "        print(f\"{self.nome} usa il suo buff e aumenta l'attacco di {self.buff} punti!\")\n",
    "        self.attacco += self.buff\n",
    "class Guerriero(Personaggio):\n",
    "    def __init__(self, nome, punti_vita, attacco, difesa, arma):\n",
    "        super().__init__(nome, punti_vita, attacco, difesa)\n",
    "        self.arma = arma\n",
    "    def attacca(self, nemico):\n",
    "        # Sovrascrive il metodo attacca della classe base\n",
    "        print(f\"{self.nome} attacca {nemico.nome} con {self.arma}!\")\n",
    "        danni = self.attacco - nemico.difesa\n",
    "        if danni > 0:\n",
    "            nemico.subisci_danni(danni)\n",
    "            print(f\"{nemico.nome} subisce {danni} danni!\")\n",
    "        else:\n",
    "            print(\"Il nemico è troppo forte e non subisce danni.\")\n",
    "    def subisci_danni(self, danni):\n",
    "        self.punti_vita -= danni\n",
    "        print(f\"{self.nome} subisce {danni} danni!\")\n",
    "        if self.punti_vita <= 0:\n",
    "            print(f\"{self.nome} è stato sconfitto!\")"
   ]
  },
  {
   "cell_type": "code",
   "execution_count": 2,
   "id": "d6f693a4",
   "metadata": {},
   "outputs": [
    {
     "name": "stdout",
     "output_type": "stream",
     "text": [
      "Mario: PV=100, ATT=10, DEF=5\n",
      "Gianni: PV=120, ATT=15, DEF=7, ARMA=Spada\n",
      "Gianni attacca Mario con Spada!\n",
      "Mario ha ancora 90 PV.\n",
      "Mario subisce 10 danni!\n",
      "Mario: PV=90\n"
     ]
    }
   ],
   "source": [
    "# Creiamo un personaggio e un guerriero\n",
    "p1 = Personaggio(\"Mario\", 100, 10, 5)\n",
    "g1 = Guerriero(\"Gianni\", 120, 15, 7, \"Spada\")\n",
    "# Mostriamo le caratteristiche dei personaggi\n",
    "print(f\"{p1.nome}: PV={p1.punti_vita}, ATT={p1.attacco}, DEF={p1.difesa}\")\n",
    "print(f\"{g1.nome}: PV={g1.punti_vita}, ATT={g1.attacco}, DEF={g1.difesa}, ARMA={g1.arma}\")\n",
    "# Il guerriero attacca il personaggio\n",
    "g1.attacca(p1)\n",
    "# Mostriamo il risultato dell'attacco\n",
    "print(f\"{p1.nome}: PV={p1.punti_vita}\")"
   ]
  },
  {
   "cell_type": "code",
   "execution_count": null,
   "id": "034742b5",
   "metadata": {},
   "outputs": [],
   "source": [
    "from abc import ABC, abstractmethod\n",
    "class PersonaggioBase(ABC):\n",
    "    def __init__(self, nome, punti_vita, attacco, difesa):\n",
    "        self.nome = nome\n",
    "        self.punti_vita = punti_vita\n",
    "        self.attacco = attacco\n",
    "        self.difesa = difesa\n",
    "    @abstractmethod\n",
    "    def attacca(self, nemico):\n",
    "        pass\n",
    "    @abstractmethod\n",
    "    def subisci_danni(self, danni):\n",
    "        pass"
   ]
  },
  {
   "cell_type": "code",
   "execution_count": null,
   "id": "e6c45648",
   "metadata": {},
   "outputs": [],
   "source": [
    "class Protagonista(PersonaggioBase):\n",
    "    def __init__(self, nome, punti_vita, attacco, difesa, livello):\n",
    "        super().__init__(nome, punti_vita, attacco, difesa)\n",
    "        self.livello = livello\n",
    "    def aumenta_livello(self):\n",
    "        self.livello += 1\n",
    "        self.punti_vita += 10\n",
    "        self.attacco += 5\n",
    "        self.difesa += 5\n",
    "        print(f\"{self.nome} è salito al livello {self.livello}!\")\n",
    "\n",
    "    def attacca(self, nemico):\n",
    "        danno = self.attacco - nemico.difesa\n",
    "        if danno > 0:\n",
    "            nemico.punti_vita -= danno\n",
    "            print(f\"{self.nome} attacca {nemico.nome} causando {danno} punti danno!\")\n",
    "        else:\n",
    "            print(f\"{self.nome} attacca {nemico.nome} ma non causa alcun danno!\")\n",
    "    def subisci_danni(self, danni):\n",
    "        self.punti_vita -= danni\n",
    "        if self.punti_vita <= 0:\n",
    "            print(f\"{self.nome} è stato sconfitto!\")\n",
    "        else:\n",
    "            print(f\"{self.nome} ha ancora {self.punti_vita} PV.\")"
   ]
  },
  {
   "cell_type": "code",
   "execution_count": 3,
   "id": "362ad6da",
   "metadata": {},
   "outputs": [
    {
     "name": "stdout",
     "output_type": "stream",
     "text": [
      "L'automobile Alfa Romeo Giuilietta dispone di una potenza di 120 CV.\n",
      "L'automobile Alfa Romeo Giulia dispone di una potenza di 160 CV.\n"
     ]
    }
   ],
   "source": [
    "class Motore:\n",
    "    def __init__(self, cilindrata, potenza):\n",
    "        self.cilindrata = cilindrata\n",
    "        self.potenza = potenza\n",
    "class Automobile:\n",
    "    def __init__(self, marca, modello, motore):\n",
    "        self.marca = marca\n",
    "        self.modello = modello\n",
    "        self.motore = motore\n",
    "    def apricofano(self):\n",
    "        print(\"L'automobile\", self.marca, self.modello, \"dispone di una potenza di\",\n",
    "        self.motore.potenza, \"CV.\")\n",
    "\n",
    "motore_auto = Motore(1600, 120)\n",
    "auto = Automobile(\"Alfa Romeo\", \"Giuilietta\", motore_auto)\n",
    "motore_auto = Motore(2000, 160)\n",
    "auto2 = Automobile(\"Alfa Romeo\", \"Giulia\", motore_auto)\n",
    "auto.apricofano()\n",
    "auto2.apricofano()"
   ]
  },
  {
   "cell_type": "code",
   "execution_count": null,
   "id": "5fed2ef7",
   "metadata": {},
   "outputs": [],
   "source": [
    "class Combattente(Guerriero, Nemico):\n",
    "    def __init__(self, nome, punti_vita, attacco, difesa, arma, esperienza):\n",
    "        Guerriero.__init__(self, nome, punti_vita, attacco, difesa, arma)\n",
    "        Nemico.__init__(self, nome, punti_vita, attacco, difesa, esperienza)"
   ]
  },
  {
   "cell_type": "markdown",
   "id": "34d84094",
   "metadata": {},
   "source": [
    "# Esercizi 2"
   ]
  },
  {
   "cell_type": "code",
   "execution_count": null,
   "id": "08978e19",
   "metadata": {},
   "outputs": [
    {
     "name": "stdout",
     "output_type": "stream",
     "text": [
      "Drew\n",
      "Mirko\n",
      "Errore: nome non disponibile\n",
      "Clark\n",
      "Bob\n"
     ]
    }
   ],
   "source": [
    "# 1 Creare una classe chiamata Persona che abbia un metodo set_nome e un metodo get_nome, rispettivamente per impostare e recuperare il nome della persona.\n",
    "# Incapsulare l'attributo nome per garantire che non sia accessibile dall'esterno della classe.\n",
    "class Persona():\n",
    "    def __init__(self, nome):\n",
    "        self.__nome = nome\n",
    "    # getter\n",
    "    def get_nome(self):\n",
    "        return self.__nome\n",
    "    # setter\n",
    "    def set_nome(self, new_nome):\n",
    "        self.__nome = new_nome\n",
    "\n",
    "persona = Persona('Drew')\n",
    "print(persona.get_nome())\n",
    "persona.set_nome('Mirko')\n",
    "print(persona.get_nome())\n",
    "try:\n",
    "    print(persona.__nome)\n",
    "except:\n",
    "    print(\"Errore: nome non disponibile\")\n",
    "\n",
    "# Seconda versione\n",
    "\n",
    "class Persona2:\n",
    "    def __init__(self, nome):\n",
    "        self.__nome = nome # attributo privato\n",
    "    @property   # decido io come impostare persona\n",
    "    def nome(self):\n",
    "        return self.__nome\n",
    "    @nome.setter\n",
    "    def nome(self, new_nome):\n",
    "        self.__nome = new_nome\n",
    "\n",
    "persona = Persona2('Clark')\n",
    "print(persona.nome)\n",
    "persona.nome = 'Bob'\n",
    "print(persona.nome)\n"
   ]
  },
  {
   "cell_type": "code",
   "execution_count": null,
   "id": "08b8567d",
   "metadata": {},
   "outputs": [
    {
     "name": "stdout",
     "output_type": "stream",
     "text": [
      "Operazione non accettata: il tuo saldo dopo il prelievo sarà negativo\n",
      "Deposito effettuato, nuovo Saldo: 50\n"
     ]
    }
   ],
   "source": [
    "# 2 Creare una classe ContoInBanca che incapsuli un attributo saldo e abbia metodi per depositare e prelevare denaro dal conto. Dovremmo anche assicurarci che il saldo non possa essere negativo.\n",
    "class ContoInBanca():\n",
    "    def __init__(self, saldo = 0):\n",
    "        try:\n",
    "            if saldo >= 0:\n",
    "                self.__saldo = saldo\n",
    "            else:\n",
    "                raise ValueError(\"Il saldo iniziale non può essere negativo\")\n",
    "        except ValueError as ve:\n",
    "            print(ve)\n",
    "            \n",
    "    def depositare(self, quantità):\n",
    "        self.__saldo += quantità\n",
    "\n",
    "    def prelievo(self, quantità):\n",
    "        try:\n",
    "            if self.__saldo - quantità > 0:\n",
    "                self.__saldo -= quantità\n",
    "                print(f\"Deposito effettuato, nuovo Saldo: {self.__saldo}\")\n",
    "            else:\n",
    "                raise ValueError(\"Operazione non accettata: il tuo saldo dopo il prelievo sarà negativo\")\n",
    "        except ValueError as ve:\n",
    "            print(ve)\n",
    "\n",
    "conto = ContoInBanca()\n",
    "conto.depositare(100)\n",
    "conto.prelievo(200)\n",
    "conto.prelievo(50)"
   ]
  },
  {
   "cell_type": "code",
   "execution_count": 12,
   "id": "7b3896b5",
   "metadata": {},
   "outputs": [
    {
     "name": "stdout",
     "output_type": "stream",
     "text": [
      "Password errata, accesso negato\n",
      "Accesso garantito, benvenuto\n"
     ]
    }
   ],
   "source": [
    "# 3 Creare una classe ControlloPassword che incapsuli una password e abbia un metodo per controllare se quella inserita sia corretta.\n",
    "# Incapsulare l'attributo password per garantire che non sia accessibile dall'esterno della classe.\n",
    "class ControlloPassword():\n",
    "    def __init__(self, password):\n",
    "        self.__password = password\n",
    "\n",
    "    def login(self, password_check):\n",
    "        try:\n",
    "            if self.__password != str(password_check):\n",
    "                raise PermissionError(\"Password errata, accesso negato\")\n",
    "            else:\n",
    "                print(\"Accesso garantito, benvenuto\")\n",
    "        except PermissionError as pe:\n",
    "            print(pe)\n",
    "\n",
    "utente = ControlloPassword('password1234')\n",
    "utente.login('password4567')\n",
    "utente.login('password1234')\n"
   ]
  },
  {
   "cell_type": "code",
   "execution_count": 4,
   "id": "b9b1bf7c",
   "metadata": {},
   "outputs": [
    {
     "name": "stdout",
     "output_type": "stream",
     "text": [
      "La lista voti è: []\n",
      "La lista voti è: [30]\n",
      "La lista voti è: [30, 27]\n",
      "La lista voti è: [30]\n",
      "Voto non esistente\n"
     ]
    }
   ],
   "source": [
    "# 4 Creare una classe Studenti che incapsuli un attributo nome e un attributo voti corrispondente a una lista di essi.\n",
    "# Inserire dei metodi per aggiungere e rimuovere voti dalla lista. Incapsulare gli attributi nome e voti per garantire che non siano accessibili dall'esterno della classe.\n",
    "\n",
    "class Studenti():\n",
    "    def __init__(self, nome, voti=[]):\n",
    "        self.__nome = nome\n",
    "        self.__voti = voti\n",
    "        self.stampa()\n",
    "\n",
    "    def rimuovi_voto(self, voto):\n",
    "        try:\n",
    "            if voto in self.__voti:\n",
    "                self.__voti.remove(voto)\n",
    "                self.stampa()\n",
    "            else:\n",
    "                raise ValueError(\"Voto non esistente\")\n",
    "        except ValueError as ve:\n",
    "            print(ve)\n",
    "\n",
    "    def aggiungi_voti(self, voto):\n",
    "        self.__voti.append(voto)\n",
    "        self.stampa()\n",
    "\n",
    "    def stampa(self):\n",
    "        print(f\"La lista voti è: {self.__voti}\")\n",
    "        \n",
    "\n",
    "studente = Studenti('Filippo')\n",
    "studente.aggiungi_voti(30)\n",
    "studente.aggiungi_voti(27)\n",
    "studente.rimuovi_voto(27)\n",
    "studente.rimuovi_voto(27)\n",
    "\n"
   ]
  },
  {
   "cell_type": "code",
   "execution_count": 6,
   "id": "e2a100d5",
   "metadata": {},
   "outputs": [
    {
     "name": "stdout",
     "output_type": "stream",
     "text": [
      "La base e/o l'altezza non posso essere negativi\n",
      "La base e/o l'altezza non posso essere negativi\n",
      "L'area del rettangolo è : 12\n",
      "Il perimetri del rettangolo è : 14\n"
     ]
    }
   ],
   "source": [
    "# 5 Creare una classe Rettangolo che incapsuli due attributi: lunghezza e altezza. Aggiungere dei metodi per calcolare l'area e il perimetro del rettangolo.\n",
    "# Incapsulare gli attributi larghezza e altezza per garantire che non siano accessibili dall'esterno della classe.\n",
    "class Rettangolo():\n",
    "    def __init__(self, base = 0, altezza = 0):\n",
    "        try:    \n",
    "            if base < 0 or altezza < 0:\n",
    "                raise ValueError(\"La base e/o l'altezza non posso essere negativi\")\n",
    "            else:\n",
    "                self.__base = base\n",
    "                self.__altezza = altezza\n",
    "        except ValueError as e:\n",
    "            print(e)\n",
    "    def perimetro(self):\n",
    "        return self.__base * 2 + self.__altezza * 2\n",
    "    def area(self):\n",
    "        return self.__base * self.__altezza\n",
    "\n",
    "rettangolo = Rettangolo(-3, 4)\n",
    "rettangolo = Rettangolo(-3, -5)\n",
    "rettangolo = Rettangolo(3, 4)\n",
    "print(f\"L'area del rettangolo è : {rettangolo.area()}\")\n",
    "print(f\"Il perimetri del rettangolo è : {rettangolo.perimetro()}\")"
   ]
  },
  {
   "cell_type": "code",
   "execution_count": 8,
   "id": "67f9a9cf",
   "metadata": {},
   "outputs": [
    {
     "name": "stdout",
     "output_type": "stream",
     "text": [
      "Lo stipendio è: 1500\n",
      "Lo stipendio è stato incrementato.\n",
      "Lo stipendio è: 1700\n"
     ]
    }
   ],
   "source": [
    "# 6 Creare una classe Impiegati che incapsuli due attributi: nome e stipendio. Aggiungere un metodo per aumentare lo stipendio di un certo valore.\n",
    "# Incapsulare gli attributi nome e stipendio per garantire che non siano accessibili dall'esterno della classe. \n",
    "# Inoltre, aggiungere un metodo getStipendio che restituisca l’ammontare dello stipendio.\n",
    "class Impiegati():\n",
    "    def __init__(self, nome, stipendio = 0):\n",
    "        self.__nome = nome\n",
    "        self.__stipendio = stipendio\n",
    "    \n",
    "    def aumento(self, valore):\n",
    "        self.__stipendio += abs(valore)\n",
    "        print(\"Lo stipendio è stato incrementato.\")\n",
    "\n",
    "    def getStipendio(self):\n",
    "        return self.__stipendio\n",
    "    \n",
    "impiegato = Impiegati('Camillo', 1500)\n",
    "print(f\"Lo stipendio è: {impiegato.getStipendio()}\")\n",
    "impiegato.aumento(200)\n",
    "print(f\"Lo stipendio è: {impiegato.getStipendio()}\")"
   ]
  },
  {
   "cell_type": "code",
   "execution_count": 9,
   "id": "060e5c35",
   "metadata": {},
   "outputs": [
    {
     "name": "stdout",
     "output_type": "stream",
     "text": [
      "L'auto ha queste caratteristiche:\n",
      "\tMarca: BMW\n",
      "\tModello: super_veloce\n",
      "\tAnno: 2000\n",
      "2000\n",
      "L'auto ha queste caratteristiche:\n",
      "\tMarca: BMW\n",
      "\tModello: super_veloce\n",
      "\tAnno: 2025\n"
     ]
    }
   ],
   "source": [
    "# 7 Creare una classe chiamata Veicolo con gli attributi marca, modello e anno di produzione. Incapsulare gli attributi marca e modello\n",
    "# per garantire che non siano accessibili dall'esterno della classe e creare dei metodi getter e setter per l'attributo anno di produzione.\n",
    "# Inoltre, aggiungere un metodo per stampare le informazioni del veicolo.\n",
    "class Veicolo():\n",
    "    def __init__(self, marca, modello, anno):\n",
    "        self.__marca = marca\n",
    "        self.__modello = modello\n",
    "        self.__anno = anno\n",
    "    @property\n",
    "    def anno(self):\n",
    "        return self.__anno\n",
    "    \n",
    "    @anno.setter\n",
    "    def anno(self, new_anno):\n",
    "        self.__anno = new_anno\n",
    "\n",
    "    def stampa(self):\n",
    "        print(f\"L'auto ha queste caratteristiche:\\n\\tMarca: {self.__marca}\\n\\tModello: {self.__modello}\\n\\tAnno: {self.__anno}\")\n",
    "\n",
    "auto = Veicolo(\"BMW\", 'super_veloce', 2000)\n",
    "auto.stampa()\n",
    "print(auto.anno) # getter\n",
    "auto.anno = 2025\n",
    "auto.stampa()"
   ]
  },
  {
   "cell_type": "code",
   "execution_count": 1,
   "id": "56a2a60c",
   "metadata": {},
   "outputs": [
    {
     "name": "stdout",
     "output_type": "stream",
     "text": [
      "Figura: 0\n",
      "Tipo di figure: Quadrato\n",
      "Area: 16.00\n",
      "Perimetro: 16.00\n",
      "\n",
      "Figura: 1\n",
      "Tipo di figure: Cerchio\n",
      "Area: 78.54\n",
      "Perimetro: 31.42\n",
      "\n",
      "Figura: 2\n",
      "Tipo di figure: Quadrato\n",
      "Area: 9.00\n",
      "Perimetro: 12.00\n",
      "\n",
      "Figura: 3\n",
      "Tipo di figure: Cerchio\n",
      "Area: 28.27\n",
      "Perimetro: 18.85\n",
      "\n"
     ]
    }
   ],
   "source": [
    "# 8 Scrivere una classe Figura che abbia due metodi: area() e perimetro(). Creare due sottoclassi Quadrato e Cerchio,\n",
    "# entrambe con i propri metodi area() e perimetro(). Usare il polimorfismo per calcolare l'area e il perimetro di una lista di figure contenente istanze di entrambe le sottoclassi.\n",
    "import math\n",
    "\n",
    "class Figura():\n",
    "    def area(self):\n",
    "        print(\"Calcolo area in corso - non implementato\")\n",
    "\n",
    "    def perimetro(self):\n",
    "        print(\"Calcolo perimetro in corso - non implementato\")\n",
    "        \n",
    "class Quadrato(Figura):\n",
    "    def __init__(self, lato):\n",
    "        self.lato = lato\n",
    "    \n",
    "    def area(self):\n",
    "        return self.lato ** 2\n",
    "\n",
    "    def perimetro(self):\n",
    "        return self.lato * 4\n",
    "\n",
    "class Cerchio(Figura):\n",
    "    def __init__(self, raggio):\n",
    "        self.raggio = raggio\n",
    "\n",
    "    def area(self):\n",
    "        return math.pi * self.raggio ** 2\n",
    "\n",
    "    def perimetro(self):\n",
    "        return 2 * math.pi * self.raggio\n",
    "    \n",
    "\n",
    "lista_figure = [Quadrato(4), Cerchio(5), Quadrato(3), Cerchio(3)]\n",
    "\n",
    "for index, figura in enumerate(lista_figure):\n",
    "    print(f\"Figura: {index}\")\n",
    "    print(f\"Tipo di figure: {type(figura).__name__}\")\n",
    "    print(f\"Area: {figura.area():.2f}\")\n",
    "    print(f\"Perimetro: {figura.perimetro():.2f}\\n\")"
   ]
  },
  {
   "cell_type": "code",
   "execution_count": 8,
   "id": "0eea1f16",
   "metadata": {},
   "outputs": [
    {
     "name": "stdout",
     "output_type": "stream",
     "text": [
      "Animale scelto: Gatto\n",
      "Verso dell'animale: Miao Miao\n"
     ]
    }
   ],
   "source": [
    "# 9 Scrivere una classe Animale con un metodo verso(). Creare due sottoclassi Gatto e Cane, entrambe con il proprio metodo verso().\n",
    "# Usare il polimorfismo per fare emettere a un'istanza di Animale un verso casuale dal Gatto o dal Cane.\n",
    "import random\n",
    "\n",
    "class Animale():\n",
    "    def verso(self):\n",
    "        print(\"Verso dell'animale - non implementato\")\n",
    "\n",
    "class Gatto(Animale):\n",
    "    def verso(self):\n",
    "        return \"Miao Miao\"\n",
    "\n",
    "class Cane(Animale):\n",
    "    def verso(self):\n",
    "        return \"Bau Bau\"\n",
    "\n",
    "animali = [Gatto(), Cane()]    \n",
    "animale_casuale = random.choice(animali)\n",
    "print(f\"Animale scelto: {type(animale_casuale).__name__}\")\n",
    "print(f\"Verso dell'animale: {animale_casuale.verso()}\")\n"
   ]
  },
  {
   "cell_type": "code",
   "execution_count": 10,
   "id": "1e61e2d4",
   "metadata": {},
   "outputs": [
    {
     "name": "stdout",
     "output_type": "stream",
     "text": [
      "Miao Miao\n",
      "Bau Bau\n"
     ]
    }
   ],
   "source": [
    "# 10 Creare una classe Animale che abbia un metodo parla e due sottoclassi, Cane e Gatto, che dovranno sovrascrivere il metodo parla con comportamenti diversi.\n",
    "\n",
    "class Animale():\n",
    "    def parla(self):\n",
    "        print(\"L'animale parla - non implementato\")\n",
    "\n",
    "class Gatto(Animale):\n",
    "    def parla(self):\n",
    "        return \"Miao Miao\"\n",
    "\n",
    "class Cane(Animale):\n",
    "    def parla(self):\n",
    "        return \"Bau Bau\"\n",
    "\n",
    "animali = [Gatto(), Cane()]\n",
    "for a in animali:\n",
    "    print(a.parla())\n"
   ]
  },
  {
   "cell_type": "code",
   "execution_count": 12,
   "id": "78a74e58",
   "metadata": {},
   "outputs": [
    {
     "name": "stdout",
     "output_type": "stream",
     "text": [
      "Iterabile numero: 0\n",
      "1\n",
      "2\n",
      "2\n",
      "3\n",
      "3\n",
      "ciao\n",
      "Iterabile numero: 1\n",
      "1\n",
      "2\n",
      "3\n",
      "Mirko\n",
      "Iterabile numero: 2\n",
      "1\n",
      "2\n",
      "3\n",
      "Iterabile numero: 3\n",
      "ciao\n",
      "numero\n"
     ]
    }
   ],
   "source": [
    "# 11 Creare una funzione che accetta un parametro di tipo Iterable e poi stampa ogni elemento su schermo.\n",
    "def stampa_iterabile(iterable):\n",
    "    for element in iterable:\n",
    "        print(element)\n",
    "\n",
    "iterabili = [[1, 2, 2, 3, 3, 'ciao'],\n",
    "             (1, 2, 3, 'Mirko'),\n",
    "             {1, 2, 3},\n",
    "             {'ciao': 'saluto', 'numero': 23}]\n",
    "for i, ele in enumerate(iterabili):\n",
    "    print(f\"Iterabile numero: {i}\")\n",
    "    stampa_iterabile(ele)\n"
   ]
  },
  {
   "cell_type": "code",
   "execution_count": 13,
   "id": "fe5ba877",
   "metadata": {},
   "outputs": [
    {
     "name": "stdout",
     "output_type": "stream",
     "text": [
      "L'automobile si sta muovendo - velocemente -\n",
      "La bici si sta muovendo - lentamente -\n"
     ]
    }
   ],
   "source": [
    "# 12 Creare una classe Veicolo con un metodo muovi e due sottoclassi, Automobile e Bicicletta, che sovrascriveranno il metodo muovi con comportamenti diversi.\n",
    "class Veicolo():\n",
    "    def muovi(self):\n",
    "        print(\"non implementato\")\n",
    "    \n",
    "class Automobile(Veicolo):\n",
    "    def muovi(self):\n",
    "        print(\"L'automobile si sta muovendo - velocemente -\")\n",
    "\n",
    "class Bicicletta(Veicolo):\n",
    "    def muovi(self):\n",
    "        print(\"La bici si sta muovendo - lentamente -\")\n",
    "    \n",
    "veicoli = [Automobile(), Bicicletta()]\n",
    "for v in veicoli:\n",
    "    v.muovi()"
   ]
  },
  {
   "cell_type": "code",
   "execution_count": 15,
   "id": "f26259d3",
   "metadata": {},
   "outputs": [
    {
     "name": "stdout",
     "output_type": "stream",
     "text": [
      "La persona: Uomo\n",
      "Saluta in modo vigoroso\n",
      "La persona: Donna\n",
      "Saluta dolcemente\n"
     ]
    }
   ],
   "source": [
    "# 13 Creare di una classe Persona con un metodo saluta e due sottoclassi, Uomo e Donna, che sovrascrivono il metodo saluta con comportamenti diversi.\n",
    "class Persona():\n",
    "    def saluta(self):\n",
    "        print(\"ciao ciao - non implementato\")\n",
    "\n",
    "class Uomo(Persona):\n",
    "    def saluta(self):\n",
    "        print(\"Saluta in modo vigoroso\")\n",
    "\n",
    "class Donna(Persona):\n",
    "    def saluta(self):\n",
    "        print(\"Saluta dolcemente\")\n",
    "\n",
    "persone = [Uomo(), Donna()]\n",
    "for p in persone:\n",
    "    print(f\"La persona: {type(p).__name__}\")\n",
    "    p.saluta()"
   ]
  },
  {
   "cell_type": "code",
   "execution_count": 17,
   "id": "304cc9d1",
   "metadata": {},
   "outputs": [
    {
     "name": "stdout",
     "output_type": "stream",
     "text": [
      "ciao\n",
      "Sto studiando\n"
     ]
    }
   ],
   "source": [
    "# 14 Creare una classe Persona con un metodo saluta che stampi Ciao. Creare poi una classe Studente che erediti da Persona,\n",
    "# con un metodo studia che stampi Sto studiando. Infine, creare un oggetto di tipo Studente e chiamare i suoi metodi saluta e studia.\n",
    "class Persona():\n",
    "    def saluta(self):\n",
    "        print(\"ciao\")\n",
    "\n",
    "class Studente(Persona):\n",
    "    def studia(self):\n",
    "        print(\"Sto studiando\")\n",
    "\n",
    "studente = Studente()\n",
    "studente.saluta()\n",
    "studente.studia()"
   ]
  },
  {
   "cell_type": "code",
   "execution_count": 24,
   "id": "dd901540",
   "metadata": {},
   "outputs": [
    {
     "name": "stdout",
     "output_type": "stream",
     "text": [
      "Beep Beep\n",
      "Velocità: 100\n",
      "Velocità: 110\n"
     ]
    }
   ],
   "source": [
    "# 15 Creare una classe Veicolo con un attributo velocità e un metodo accelera che aumenti la velocità di 10 km/h.\n",
    "# Creare poi una classe Auto che erediti dalla classe Veicolo e che abbia un attributo marca e un metodo suona_clacson\n",
    "# che stampi Beep beep! a video. Infine, creare un oggetto di tipo Auto, accelerare di 20 km/h e chiamare il suo metodo suona_clacson.\n",
    "class Veicolo():\n",
    "    def __init__(self, velocità = 0):\n",
    "        self.velocità = velocità\n",
    "    def accelera(self):\n",
    "        self.velocità += 10\n",
    "\n",
    "class Auto(Veicolo):\n",
    "    def __init__(self, velocità, marca):\n",
    "        super().__init__(velocità)\n",
    "        self.marca = marca\n",
    "    def suona_clacson(self):\n",
    "        print(\"Beep Beep\")\n",
    "    def stampa_velocità(self):\n",
    "        print(f\"Velocità: {self.velocità}\")\n",
    "\n",
    "auto = Auto(100, 'BMW')\n",
    "auto.suona_clacson()\n",
    "auto.stampa_velocità()\n",
    "auto.accelera()\n",
    "auto.stampa_velocità()\n"
   ]
  },
  {
   "cell_type": "code",
   "execution_count": 25,
   "id": "550f6c7d",
   "metadata": {},
   "outputs": [
    {
     "name": "stdout",
     "output_type": "stream",
     "text": [
      "Mi muovo\n",
      "Bau Bau\n"
     ]
    }
   ],
   "source": [
    "# 16 Creare una classe Animale con un metodo muovi che stampa \"Mi muovo\". Creare poi una classe Cane che eredita dalla classe Animale\n",
    "# e che ha un metodo abbaiare che mostri \"Bau bau!\" su schermo. Infine, creare un oggetto di tipo Cane e chiama i suoi metodi muovi e abbaiare.\n",
    "class Animale():\n",
    "    def muovi(self):\n",
    "        print(\"Mi muovo\")\n",
    "class Cane(Animale):\n",
    "    def abbaiare(self):\n",
    "        print(\"Bau Bau\")\n",
    "\n",
    "cane = Cane()\n",
    "cane.muovi()\n",
    "cane.abbaiare()"
   ]
  },
  {
   "cell_type": "code",
   "execution_count": 27,
   "id": "8af01794",
   "metadata": {},
   "outputs": [
    {
     "name": "stdout",
     "output_type": "stream",
     "text": [
      "Il cane sta corrento\n",
      "Il gatto sta saltando\n"
     ]
    }
   ],
   "source": [
    "# 17 Creare una classe Animale con un metodo muovi che stampa \"L'animale si sta muovendo\". Creare due sottoclassi di Animale, Cane e Gatto,\n",
    "# che sovrascrivono il metodo muovi in modo che stampino rispettivamente \"Il cane sta correndo\" e \"Il gatto sta saltando\".\n",
    "class Animale():\n",
    "    def muovi(self):\n",
    "        print(\"L'animale si sta muovendo\")\n",
    "\n",
    "class Cane(Animale):\n",
    "    def muovi(self):\n",
    "        print(\"Il cane sta corrento\")\n",
    "\n",
    "class Gatto(Animale):\n",
    "    def muovi(self):\n",
    "        print(\"Il gatto sta saltando\")\n",
    "\n",
    "animali = [Cane(), Gatto()]\n",
    "for a in animali:\n",
    "    a.muovi()"
   ]
  },
  {
   "cell_type": "code",
   "execution_count": 28,
   "id": "f7afbc58",
   "metadata": {},
   "outputs": [
    {
     "name": "stdout",
     "output_type": "stream",
     "text": [
      "L'auto si sta muovendo a 120 km/h\n",
      "La bicicletta si sta muovendo a 25 km/h\n"
     ]
    }
   ],
   "source": [
    "# 18 Creare una classe Veicolo con un attributo velocita e un metodo muovi che stampa \"Il veicolo si sta muovendo a {velocita} km/h\".\n",
    "# Creare due sottoclassi di Veicolo, Auto e Bicicletta, che sovrascrivono l'attributo velocita in modo che sia rispettivamente 120 km/h e 25 km/h,\n",
    "# e sovrascrivono il metodo muovi in modo che stampino rispettivamente \"L'auto si sta muovendo a 120 km/h\" e \"La bicicletta si sta muovendo a 25 km/h\".\n",
    "class Veicolo():\n",
    "    def __init__(self, velocità):\n",
    "        self.velocità = velocità\n",
    "    def muovi(self):\n",
    "        print(f\"Il veicolo si sta muovendo a {self.velocità} km/h\")\n",
    "\n",
    "class Auto(Veicolo):\n",
    "    def __init__(self):\n",
    "        self.velocità = 120\n",
    "    def muovi(self):\n",
    "        print(f\"L'auto si sta muovendo a {self.velocità} km/h\")\n",
    "\n",
    "class Bicicletta(Veicolo):\n",
    "    def __init__(self):\n",
    "        self.velocità = 25\n",
    "    def muovi(self):\n",
    "        print(f\"La bicicletta si sta muovendo a {self.velocità} km/h\")\n",
    "\n",
    "veicoli = [Auto(), Bicicletta()]\n",
    "for v in veicoli:\n",
    "    v.muovi()"
   ]
  },
  {
   "cell_type": "code",
   "execution_count": 30,
   "id": "d1c1acd5",
   "metadata": {},
   "outputs": [
    {
     "name": "stdout",
     "output_type": "stream",
     "text": [
      "Figura: 0\n",
      "Tipo di figure: Quadrato\n",
      "Area: 16.00\n",
      "Figura: 1\n",
      "Tipo di figure: Cerchio\n",
      "Area: 78.54\n"
     ]
    }
   ],
   "source": [
    "# 19 Creare una classe Forma con un metodo area che restituisca la sua area. Creare due sottoclassi di Forma, Quadrato e Cerchio,\n",
    "# che sovrascrivono il metodo area in modo che calcoli e restituisca l'area del quadrato e del cerchio.\n",
    "import math\n",
    "\n",
    "class Forma():\n",
    "    def area(self):\n",
    "        print(\"L'area è - non implementato\")\n",
    "\n",
    "class Quadrato(Forma):\n",
    "    def __init__(self, lato):\n",
    "        self.lato = lato\n",
    "    \n",
    "    def area(self):\n",
    "        return self.lato ** 2\n",
    "\n",
    "class Cerchio(Forma):\n",
    "    def __init__(self, raggio):\n",
    "        self.raggio = raggio\n",
    "\n",
    "    def area(self):\n",
    "        return math.pi * self.raggio ** 2\n",
    "    \n",
    "\n",
    "lista_figure = [Quadrato(4), Cerchio(5)]\n",
    "\n",
    "for index, figura in enumerate(lista_figure):\n",
    "    print(f\"Figura: {index}\")\n",
    "    print(f\"Tipo di figure: {type(figura).__name__}\")\n",
    "    print(f\"Area: {figura.area():.2f}\")\n",
    "    "
   ]
  },
  {
   "cell_type": "code",
   "execution_count": 32,
   "id": "fc0e5fc5",
   "metadata": {},
   "outputs": [
    {
     "name": "stdout",
     "output_type": "stream",
     "text": [
      "Miao\n",
      "Bau\n",
      "Sono un pappagallo, non un cane! Parlo, non abbaio!\n"
     ]
    }
   ],
   "source": [
    "# 20 Creare una classe Animale con un metodo verso che stampa \"Non so fare nessun verso\". Creare due sottoclassi di Animale, Gatto e Cane, per sovrascrivere il metodo verso\n",
    "# in modo che stampi rispettivamente \"Miao!\" e \"Bau!\" quando chiamati. Creare una terza sottoclasse di Animale, Pappagallo, che estende la classe Cane e sovrascrive \n",
    "# il metodo verso in modo che visualizzi sul nostro schermo \"Sono un pappagallo, non un cane! Parlo, non abbaio!\" quando viene chiamato.\n",
    "class Animale():\n",
    "    def verso(self):\n",
    "        print(\"Non so fare nessun verso\")\n",
    "class Gatto(Animale):\n",
    "    def verso(self):\n",
    "        print(\"Miao\")\n",
    "class Cane(Animale):\n",
    "    def verso(self):\n",
    "        print(\"Bau\")\n",
    "class Pappagallo(Cane):\n",
    "    def verso(self):\n",
    "        print(\"Sono un pappagallo, non un cane! Parlo, non abbaio!\")\n",
    "\n",
    "animali = [Gatto(), Cane(), Pappagallo()]\n",
    "\n",
    "for i in animali:\n",
    "    i.verso()\n",
    "    "
   ]
  },
  {
   "cell_type": "markdown",
   "id": "a090ac79",
   "metadata": {},
   "source": [
    "# Domande 2\n",
    "21) Qual è lo scopo dell'incapsulamento?\n",
    "- lo scopo principale è quello di nascondere lo stato degli attributi di una classe e di permettere quindi la modifica solo tramite metodi controllati come il getter o setter\n",
    "22) Qual è lo scopo del polimorfismo?\n",
    "- lo scopo principale è quello di poter trattare classi diversi nello stesso modo se hanno metodi con lo stesso comportamento, questo inoltre permette di introdurre nuovi classi senza modificare codice.\n",
    "23) Qual è la differenza tra l'ereditarietà singola e multipla?\n",
    "- In quella singola una classe eredita una sola classe base mentre in quella multipla eredità più classi\n",
    "24) Cosa significa \"overriding\" in Python?\n",
    "- Significa sovrascrivere un metodo da una classe ereditata, fornendo una nuova implementazione nella sottoclasse\n",
    "25) Cosa significa \"overloading\" in Python?\n",
    "- vuol dire avere più metodi con lo stesso nome ma parametri diversi. Python non lo supporta di default, ma si può ottenere usando il costrutto *args quando si ricevono diversi parametri\n",
    "26) Cosa sono gli attributi di istanza?\n",
    "- sono quelli che appartengono al singolo oggetto di istanza, quindi più oggetti hanno i propri attributi\n",
    "27) Cosa sono gli attributi di classe?\n",
    "- sono quelli della classe e quindi condivisi con tutte le istanze nate da quella classe \n",
    "28) Qual è lo scopo del metodo __init__ in Python?\n",
    "- lo scopo è di costruttore dell'istanza di una classe e quindi viene chiamato automaticamente quando si crea un oggetto\n",
    "29) Qual è lo scopo del metodo __str__ in Python?\n",
    "- indica come appare un oggetto quando viene stampato con print()\n",
    "30) Come si chiama il processo di creazione di una nuova classe a partire da una classe esistente?\n",
    "- questo processo si chiama ereditarietà. Avendo un classe Classe1, posso ereditarla e quindi avere la definizione dei suoi attributi e metodi in un'altra dichiarandola come Classe2(Classe1)."
   ]
  }
 ],
 "metadata": {
  "kernelspec": {
   "display_name": "venv",
   "language": "python",
   "name": "python3"
  },
  "language_info": {
   "codemirror_mode": {
    "name": "ipython",
    "version": 3
   },
   "file_extension": ".py",
   "mimetype": "text/x-python",
   "name": "python",
   "nbconvert_exporter": "python",
   "pygments_lexer": "ipython3",
   "version": "3.13.3"
  }
 },
 "nbformat": 4,
 "nbformat_minor": 5
}
