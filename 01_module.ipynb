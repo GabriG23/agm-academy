{
 "cells": [
  {
   "cell_type": "markdown",
   "id": "058c1ec9",
   "metadata": {},
   "source": [
    "### Esercizi 1° modulo\n",
    "- Introduzione, Le prime basi"
   ]
  },
  {
   "cell_type": "code",
   "execution_count": 19,
   "id": "ca0dd0d7",
   "metadata": {},
   "outputs": [
    {
     "name": "stdout",
     "output_type": "stream",
     "text": [
      "ciao\n"
     ]
    }
   ],
   "source": [
    "print(\"ciao\")"
   ]
  },
  {
   "cell_type": "code",
   "execution_count": null,
   "id": "5eb4bdcc",
   "metadata": {},
   "outputs": [
    {
     "name": "stdout",
     "output_type": "stream",
     "text": [
      "1\n",
      "2\n",
      "3\n",
      "4\n",
      "5\n",
      "6\n",
      "7\n",
      "8\n",
      "9\n",
      "10\n"
     ]
    }
   ],
   "source": [
    "# Esercizio 1 Completare il listato che visualizza i numeri da 1 a 10:\n",
    "for i in range (1, 11):\n",
    "    print(i)"
   ]
  },
  {
   "cell_type": "code",
   "execution_count": null,
   "id": "eb1b48b9",
   "metadata": {},
   "outputs": [
    {
     "name": "stdout",
     "output_type": "stream",
     "text": [
      "<class 'int'>\n"
     ]
    }
   ],
   "source": [
    "# Dichiarare una variabile x e assegnarle il valore 10. Verificare il tipo di dato di x utilizzando l’istruzione apposita.\n",
    "x = 10\n",
    "print(type(x))"
   ]
  },
  {
   "cell_type": "code",
   "execution_count": null,
   "id": "722b4885",
   "metadata": {},
   "outputs": [
    {
     "name": "stdout",
     "output_type": "stream",
     "text": [
      "Somma dei numeri da 1 a 10:\n",
      "55\n"
     ]
    }
   ],
   "source": [
    "# Esercizio 3 Scrivere un programma che sommi i numeri da 1 a 10 (1+2+3+4+5...).\n",
    "x = 0\n",
    "for i in range (1, 11):\n",
    "    x = x + i\n",
    "print(f\"Somma dei numeri da 1 a 10:\\n{x}\")"
   ]
  },
  {
   "cell_type": "code",
   "execution_count": 23,
   "id": "c904aa53",
   "metadata": {},
   "outputs": [
    {
     "name": "stdout",
     "output_type": "stream",
     "text": [
      "Il numero 3 è dispari\n",
      "Il numero 1 è dispari\n",
      "Il numero 9 è dispari\n",
      "Il numero 6 è pari\n",
      "Il numero 2 è pari\n"
     ]
    }
   ],
   "source": [
    "# Esercizio 4 Scrivere un programma che distingua se un numero è pari o dispari.\n",
    "import random as r\n",
    "\n",
    "for i in range(5):\n",
    "    x = r.randint(1, 10)\n",
    "    if x % 2 == 0:\n",
    "        print(f\"Il numero {x} è pari\")\n",
    "    else:\n",
    "        print(f\"Il numero {x} è dispari\")"
   ]
  },
  {
   "cell_type": "code",
   "execution_count": null,
   "id": "5502c633",
   "metadata": {},
   "outputs": [
    {
     "name": "stdout",
     "output_type": "stream",
     "text": [
      "La media dei voti è 26.4\n",
      "La media dei voti è 26.4\n"
     ]
    }
   ],
   "source": [
    "#  Esercizio 5 Scrivere un listato che calcoli la media dei voti di un esame.\n",
    "voti = [30, 18, 27, 23, 34]\n",
    "media = sum(voti) / len(voti)\n",
    "print(f\"La media dei voti è {media}\")\n",
    "\n",
    "# con numpy\n",
    "import numpy as np\n",
    "print(f\"La media dei voti è {np.mean(voti)}\")\n",
    "\n",
    "# sum() ha come parametri sum(iterable, start=0) quindi volendo posso decidere un valore iniziale di somma\n",
    "# Posso usare anche reduce() per sommare?\n",
    "# si ma lo fa in modo diverso, lui applica una funzione cumulativa ad un iterabile riducendolo ad un solo elemento\n",
    "# è più flessibile perché posso decidere mentre lo fa se voglio magari moltiplicare o dividere gli elementi\n"
   ]
  },
  {
   "cell_type": "code",
   "execution_count": 25,
   "id": "d27ee6b7",
   "metadata": {},
   "outputs": [
    {
     "name": "stdout",
     "output_type": "stream",
     "text": [
      "La lista è in ordine crescente: [1, 2, 3, 4, 5]\n",
      "La lista è in ordine crescente: [1, 2, 3, 4, 5]\n",
      "La lista è in ordine crescente: [1, 2, 3, 4, 5]\n"
     ]
    }
   ],
   "source": [
    "# Esercizio 6  Scrivere un listato che verifichi se una lista è ordinata in ordine crescente.\n",
    "\n",
    "# versione inefficiente\n",
    "l1 = [1, 2, 3, 4, 5]\n",
    "\n",
    "check = 1\n",
    "for i in range(len(l1) - 1):\n",
    "    if l1[i] < l1[i+1]:\n",
    "        continue\n",
    "    else:\n",
    "        check = 0\n",
    "        break\n",
    "\n",
    "if check == 1:\n",
    "    print(f\"La lista è in ordine crescente: {l1}\")\n",
    "else:\n",
    "    print(f\"La lista non è in ordine crescente: {l1}\")\n",
    "\n",
    "# versione 2\n",
    "# sorted(iterable, *, key=None, reverse=False)\n",
    "# sorted restituisce una nuova lista ordinata di elementi di un iterabile\n",
    "# key posso decidere il criterio per esempio lunghezza, reverse l'ordine\n",
    "# Sorted (scritto in C) utilizza un Timsort ovvero una combinazione di Insertion Sort per le liste piccole (complessità O(N) nel caso migliore oppure O(N^2) in quello medio e peggiore)\n",
    "# e mergesorte per le liste grandi (complessità O(N Log N))\n",
    "if l1 == sorted(l1):\n",
    "    print(f\"La lista è in ordine crescente: {l1}\")\n",
    "else:\n",
    "    print(f\"La lista non è in ordine crescente: {l1}\")\n",
    "\n",
    "# versione 3\n",
    "# all() restituisce True se tutti gli elementi di un iterabili sono veri, altrimenti restituisce False\n",
    "if all(l1[i] <= l1[i + 1] for i in range(len(l1) - 1)):\n",
    "    print(f\"La lista è in ordine crescente: {l1}\")\n",
    "else:\n",
    "    print(f\"La lista non è in ordine crescente: {l1}\")"
   ]
  },
  {
   "cell_type": "code",
   "execution_count": 27,
   "id": "a32c41a0",
   "metadata": {},
   "outputs": [
    {
     "name": "stdout",
     "output_type": "stream",
     "text": [
      "La somma di x + y è: 30\n",
      "Somma dei due numeri 30\n"
     ]
    }
   ],
   "source": [
    "# Esercizio 7 Scrivere un programma che assegna il valore 10 ad una variabile x e il valore 20 ad una variabile\n",
    "# y, quindi calcola la somma di x e y e la visualizzi a video.\n",
    "\n",
    "x = 10\n",
    "y = 20\n",
    "z = x + y\n",
    "print(f\"La somma di x + y è: {z}\")\n",
    "\n",
    "# versione 2\n",
    "\n",
    "def sum(x = 0, y = 0):\n",
    "    return x + y\n",
    "\n",
    "print(f\"Somma dei due numeri {sum(x, y)}\")"
   ]
  },
  {
   "cell_type": "code",
   "execution_count": 1,
   "id": "1eb01363",
   "metadata": {},
   "outputs": [
    {
     "name": "stdout",
     "output_type": "stream",
     "text": [
      "L'area del quadrato di lato 10 è 100\n"
     ]
    }
   ],
   "source": [
    "# Esercizio 8 Scrivere un programma che calcoli l'area di un quadrato dato il valore del lato.\n",
    "lato = 10\n",
    "\n",
    "def area_quadrato(l):\n",
    "    return l**2\n",
    "\n",
    "print(f\"L'area del quadrato di lato {lato} è {area_quadrato(lato)}\")"
   ]
  },
  {
   "cell_type": "code",
   "execution_count": 33,
   "id": "2ff45610",
   "metadata": {},
   "outputs": [
    {
     "name": "stdout",
     "output_type": "stream",
     "text": [
      "Conversione da 18 gradi Celcius a 64.4 gradi Fahrenheit\n",
      "Conversione da 18 gradi Celcius in 64.4 gradi Fahrenheit\n"
     ]
    }
   ],
   "source": [
    "# Esercizio 9 Scrivere un programma che converta i gradi Celsius in gradi Fahrenheit. Utilizzare una costante\n",
    "# per rappresentare il fattore di conversione.\n",
    "# formula = C * 1.8 + 32\n",
    "FACTOR1 = float(1.8)\n",
    "FACTOR2 = int(32)\n",
    "gradi_c = 18\n",
    "gradi_f = gradi_c * FACTOR1 + FACTOR2\n",
    "print(f\"Conversione da {gradi_c} gradi Celcius a {gradi_f} gradi Fahrenheit\")\n",
    "\n",
    "# version 2\n",
    "def conversione_C_F(gradi_c, factor1 = 1.8, factor2 = 32):\n",
    "    return gradi_c * factor1 + factor2\n",
    "\n",
    "print(f\"Conversione da {gradi_c} gradi Celcius in {conversione_C_F(gradi_c)} gradi Fahrenheit\") \n"
   ]
  },
  {
   "cell_type": "code",
   "execution_count": null,
   "id": "0de129d5",
   "metadata": {},
   "outputs": [
    {
     "name": "stdout",
     "output_type": "stream",
     "text": [
      " oaic\n",
      " oaic\n"
     ]
    }
   ],
   "source": [
    "stringa = \"ciao\"\n",
    "def inversione():\n",
    "    return \"\".join(reversed(stringa))\n",
    "\n",
    "print(\"\", inversione())\n",
    "print(\"\", inversione())"
   ]
  },
  {
   "cell_type": "code",
   "execution_count": 9,
   "id": "76996cdc",
   "metadata": {},
   "outputs": [
    {
     "name": "stdout",
     "output_type": "stream",
     "text": [
      "La stringa - ciao - al contrario si legge: oaic\n",
      "ciao\n"
     ]
    }
   ],
   "source": [
    "stringa = \"ciao\"\n",
    "\n",
    "def Inversione():\n",
    "    stringa_inv = (\"\".join(reversed(stringa)))\n",
    "    return stringa_inv\n",
    "\n",
    "print('La stringa - ciao - al contrario si legge:',Inversione())\n",
    "print(stringa)"
   ]
  },
  {
   "cell_type": "code",
   "execution_count": null,
   "id": "7437b3db",
   "metadata": {},
   "outputs": [],
   "source": []
  },
  {
   "cell_type": "code",
   "execution_count": 34,
   "id": "a37e28c9",
   "metadata": {},
   "outputs": [
    {
     "name": "stdout",
     "output_type": "stream",
     "text": [
      "L'area del rettangolo di base 10 e altezza 2 è 20\n"
     ]
    }
   ],
   "source": [
    "# Esercizi 10 Scrivere un programma che calcoli l'area di un rettangolo dati la base e l'altezza. Assegnare i\n",
    "# valori della base e dell’altezza a delle variabili.\n",
    "\n",
    "base = 10\n",
    "altezza = 2\n",
    "def area_rettangolo(b, l):\n",
    "    return b * l\n",
    "\n",
    "print(f\"L'area del rettangolo di base {base} e altezza {altezza} è {area_rettangolo(base, altezza)}\")"
   ]
  },
  {
   "cell_type": "code",
   "execution_count": null,
   "id": "3f53e14b",
   "metadata": {},
   "outputs": [
    {
     "name": "stdout",
     "output_type": "stream",
     "text": [
      "La somma dei numeri pari della lista [1, 2, 3, 2, 5, 4] è: 8\n"
     ]
    }
   ],
   "source": [
    "# Esercizio 11 Scrivere una funzione che prenda in input una lista di numeri interi e restituisca la somma dei\n",
    "# numeri pari. Potete completare la struttura del codice in basso oppure riscriverlo da zero:\n",
    "\n",
    "def somma(lista):\n",
    "    somma = 0\n",
    "    for i in range(len(lista)):\n",
    "        if lista[i] % 2 == 0:\n",
    "            somma += lista[i]\n",
    "    return somma\n",
    "\n",
    "lista = [1, 2, 3, 2, 5, 4]\n",
    "print(f\"La somma dei numeri pari della lista {lista} è: {somma(lista)}\")\n",
    "\n",
    "\n",
    "# versione 2\n",
    "def somma_2(lista):\n",
    "    return sum(i for i in lista if x % 2 == 0)\n",
    "# range va evitata se possiamo\n",
    "# sum() è più veloce del loop manuale\n",
    "# qui dentro sum() somma tutti gli elementi che riceve\n",
    "# quel for annidato è un generator expression che genera ad uno a uno gli elementi da sommare\n"
   ]
  },
  {
   "cell_type": "code",
   "execution_count": null,
   "id": "4f8f8d33",
   "metadata": {},
   "outputs": [
    {
     "name": "stdout",
     "output_type": "stream",
     "text": [
      "Stringa in ordine invertito 1: odnoM oaiC\n",
      "Stringa in ordine invertito 2: odnoM oaiC\n",
      "Stringa in ordine invertito 3: odnoM oaiC\n"
     ]
    }
   ],
   "source": [
    "# Esercizio 12 Scrivere una funzione che prenda in input una stringa e la restituisca con le lettere in ordine invertito.\n",
    "def ordine_invertito(text):\n",
    "    inverso = ''\n",
    "    for char in text:\n",
    "        inverso = char + inverso\n",
    "    return inverso\n",
    "\n",
    "# versione 2 con slicing, meglio\n",
    "def ordine_invertito_2(text):\n",
    "    return text[::-1] # questo parte da -1 ovvero dal fondo ed inizia dalla prima stringa e finisce all'ultima\n",
    "# per capire lo slice prendiamo sequenza[inizio:fine:passo]\n",
    "# quando inizio e fine sono vuoti considera tutta la stringa\n",
    "\n",
    "def ordine_invertito_3(text):\n",
    "    return ''.join(reversed(text))\n",
    "    # funzione che ti permette di invertire una stringa, all'interno fa un'operazione di slicing come abbiamo fatto nella seconda funzione\n",
    "\n",
    "text = \"Ciao Mondo\"\n",
    "print(f\"Stringa in ordine invertito 1: {ordine_invertito(text)}\")\n",
    "print(f\"Stringa in ordine invertito 2: {ordine_invertito_2(text)}\")\n",
    "print(f\"Stringa in ordine invertito 3: {ordine_invertito_3(text)}\")\n"
   ]
  },
  {
   "cell_type": "code",
   "execution_count": null,
   "id": "8b39eee4",
   "metadata": {},
   "outputs": [
    {
     "name": "stdout",
     "output_type": "stream",
     "text": [
      "Lista originale di stringhe: ['ape', 'cane', 'elefante', 'bue', 'gatto', 'lucertola', 'bue']\n",
      "Lista di stringhe con lunghezza maggiore di 5: ['elefante', 'lucertola']\n",
      "Lista di stringhe con lunghezza maggiore di 5: ['elefante', 'lucertola']\n"
     ]
    }
   ],
   "source": [
    "# Esercizio 13  Scrivere una funzione che prenda in input una lista di stringhe e restituisca una lista contenente solo quelle che hanno una lunghezza maggiore di 5 caratteri.\n",
    "lista_stringhe = ['ape', 'cane', 'elefante', 'bue', 'gatto', 'lucertola', 'bue']\n",
    "\n",
    "def remove_len_5(text):\n",
    "    final = []\n",
    "    for s in text:\n",
    "        if len(s) > 5:\n",
    "            final.append(s)\n",
    "    return final\n",
    "             \n",
    "print(f\"Lista originale di stringhe: {lista_stringhe}\")\n",
    "print(f\"Lista di stringhe con lunghezza maggiore di 5: {remove_len_5(lista_stringhe)}\") \n",
    "\n",
    "# version ottimizzata compatta\n",
    "def remove_len_5_2(text):\n",
    "    return [s for s in text if len(s) > 5]\n",
    "\n",
    "print(f\"Lista di stringhe con lunghezza maggiore di 5: {remove_len_5_2(lista_stringhe)}\") \n"
   ]
  },
  {
   "cell_type": "code",
   "execution_count": null,
   "id": "4e3eef08",
   "metadata": {},
   "outputs": [
    {
     "name": "stdout",
     "output_type": "stream",
     "text": [
      "Lista di numeri: [-1, 2, 6, 3, 1231, 199, 21, -12312]\n",
      "Lista ordinata: [-12312, -1, 2, 3, 6, 21, 199, 1231]\n",
      "Il numero più grande è : 1231\n",
      "Il numero più grande è : 1231\n"
     ]
    }
   ],
   "source": [
    "# Esercizio 14 Scrivere una funzione che prenda in input una lista di numeri interi e che restituisca quello più grande.\n",
    "# max è una funzione per trovare il massimo in una sequenza di valori\n",
    "# posso passargli un iterabili o una serie di valori e decidere con key quale funzione usare per il confronto\n",
    "\n",
    "numeri = [-1, 2, 6, 3, 1231, 199, 21, -12312]\n",
    "\n",
    "def return_max(numeri):\n",
    "    return max(numeri, default='lista vuota')\n",
    "\n",
    "print(f\"Lista di numeri: {numeri}\")\n",
    "print(f\"Lista ordinata: {sorted(numeri)}\")\n",
    "print(f\"Il numero più grande è : {return_max(numeri)}\")\n",
    "\n",
    "def return_max_versione_senza_librerie(numeri):\n",
    "    j = 0\n",
    "    for i in numeri:\n",
    "        if j == 0:\n",
    "            max = i\n",
    "            j += 1\n",
    "        else:\n",
    "            if i > max:\n",
    "                max = i\n",
    "\n",
    "    return max\n",
    "\n",
    "print(f\"Il numero più grande è : {return_max_versione_senza_librerie(numeri)}\")\n"
   ]
  },
  {
   "cell_type": "code",
   "execution_count": null,
   "id": "646d3cf9",
   "metadata": {},
   "outputs": [
    {
     "name": "stdout",
     "output_type": "stream",
     "text": [
      "La prola più grande è: parola_più_lunga\n",
      "La prola più grande è: parola_più_lunga\n"
     ]
    }
   ],
   "source": [
    "# Esercizio 15 Scrivere una funzione che prenda in input una lista di parole e che restituisca quella più lunga.\n",
    "\n",
    "def longest_string(stringhe):\n",
    "    if not stringhe:\n",
    "        return None\n",
    "    return max(stringhe, key=len)\n",
    "\n",
    "# senza librerie\n",
    "def longest_string_2(stringhe):\n",
    "    old_len = -1\n",
    "    for s in stringhe:\n",
    "        if len(s) > old_len:\n",
    "            old_len = len(s)\n",
    "            lunghissima = s\n",
    "    return lunghissima\n",
    "\n",
    "text = ['ciao', \"isola\", \"parola_più_lunga\"]\n",
    "print(f\"La prola più grande è: {longest_string(text)}\")\n",
    "print(f\"La prola più grande è: {longest_string_2(text)}\")"
   ]
  },
  {
   "cell_type": "code",
   "execution_count": 83,
   "id": "ce536cfc",
   "metadata": {},
   "outputs": [
    {
     "name": "stdout",
     "output_type": "stream",
     "text": [
      "Il numero è: 3.14\n",
      "Il suo valore in stringa è: 3.14\n"
     ]
    }
   ],
   "source": [
    "# Esercizio 16 Scrivere una funzione che prenda in input un numero intero e restituisca il suo valore come stringa.\n",
    "\n",
    "def conversione_in_stringa(num):\n",
    "    return str(num)\n",
    "\n",
    "numero = 3.14\n",
    "\n",
    "print(f\"Il numero è: {numero}\")\n",
    "print(f\"Il suo valore in stringa è: {conversione_in_stringa(numero)}\")\n"
   ]
  },
  {
   "cell_type": "code",
   "execution_count": null,
   "id": "ab939d87",
   "metadata": {},
   "outputs": [
    {
     "name": "stdout",
     "output_type": "stream",
     "text": [
      "La parola è: 88\n",
      "La parola convertita in numero è: 88\n"
     ]
    }
   ],
   "source": [
    "# Esercizio 17 Scrivere una funzione che prenda in input una stringa rappresentante un numero intero e restituisca il valore intero corrispondente.\n",
    "\n",
    "def conversione_in_intero(word):\n",
    "    return int(word)\n",
    "\n",
    "parola = \"88\" \n",
    "\n",
    "print(f\"La stringa è: {parola}\")\n",
    "print(f\"La stringa convertita in numero è: {conversione_in_intero(parola)}\")\n"
   ]
  },
  {
   "cell_type": "code",
   "execution_count": 87,
   "id": "941e2665",
   "metadata": {},
   "outputs": [
    {
     "name": "stdout",
     "output_type": "stream",
     "text": [
      "Numeri stringa: ['22', '23', '99', '-1', '-24']\n",
      "Lista di numeri interi: [22, 23, 99, -1, -24]\n"
     ]
    }
   ],
   "source": [
    "# Esercizio 18 Scrivere una funzione che prenda in input una lista di numeri come stringhe e restituisca una lista di numeri interi.\n",
    "\n",
    "def numbers_converter(nums):\n",
    "    return [int(n) for n in nums]\n",
    "\n",
    "numeri = [\"22\", \"23\", \"99\", \"-1\", \"-24\"]\n",
    "print(f\"Numeri stringa: {numeri}\")\n",
    "print(f\"Lista di numeri interi: {numbers_converter(numeri)}\")"
   ]
  },
  {
   "cell_type": "code",
   "execution_count": 88,
   "id": "b5441c2a",
   "metadata": {},
   "outputs": [
    {
     "name": "stdout",
     "output_type": "stream",
     "text": [
      "Lista di numeri interi: [22, 23, 99, -1, -24]\n",
      "Lista di stringhe di numeri interi: ['22', '23', '99', '-1', '-24']\n"
     ]
    }
   ],
   "source": [
    "# Esercizio 19 Scrivere una funzione che prenda in input una lista di numeri interi e restituisca una lista di stringhe che rappresentano i numeri interi.\n",
    "\n",
    "def strings_converter(words):\n",
    "    return [str(w) for w in words]\n",
    "\n",
    "numeri = [22, 23, 99, -1, -24]\n",
    "print(f\"Lista di numeri interi: {numeri}\")\n",
    "print(f\"Lista di stringhe di numeri interi: {strings_converter(numeri)}\")"
   ]
  },
  {
   "cell_type": "code",
   "execution_count": null,
   "id": "072260b8",
   "metadata": {},
   "outputs": [
    {
     "name": "stdout",
     "output_type": "stream",
     "text": [
      "Numero: 234322\n",
      "Lista dei numeri interi presenti nel numero: [2, 3, 4, 3, 2, 2]\n"
     ]
    }
   ],
   "source": [
    "# Esercizio 20 Scrivere una funzione che prenda in input un numero intero e restituisca una lista contenente le sue cifre come numeri interi.\n",
    "\n",
    "def number_splitter(num):\n",
    "    if num < 10:\n",
    "        return [num]\n",
    "    split = []\n",
    "    while num != 0:\n",
    "        split.append(num % 10)\n",
    "        num = int(num/10)\n",
    "    return split[::-1]\n",
    "\n",
    "numero = 234322\n",
    "print(f\"Numero: {numero}\")\n",
    "print(f\"Lista dei numeri interi presenti nel numero: {number_splitter(numero)}\")\n",
    "\n",
    "\n",
    "# versione 2\n",
    "\n",
    "def number_splitter_2(num):\n",
    "    return [int(s) for s in str(num)]\n",
    "\n",
    "# ha senso, converte il numero in stringa, e poi itera sui caratteri\n",
    "# convertendoli in interi ottenendo le singole cifre\n",
    " "
   ]
  },
  {
   "cell_type": "code",
   "execution_count": 3,
   "id": "de66f860",
   "metadata": {},
   "outputs": [
    {
     "name": "stdout",
     "output_type": "stream",
     "text": [
      "L'area del quadrato di lato 10 è 100\n",
      "\n",
      "Conversione da 45 gradi Celcius in 113.0 gradi Fahrenheit\n",
      "\n",
      "L'area del rettangolo di base 10 e altezza 20 è 200\n",
      "\n",
      "Stringa in ordine invertito: odnoM oaiC\n",
      "\n",
      "Lista originale di stringhe: ['ape', 'cane', 'elefante', 'bue', 'gatto', 'lucertola', 'bue']\n",
      "Lista di stringhe con lunghezza maggiore di 5: ['elefante', 'lucertola']\n",
      "\n",
      "Lista di numeri: [-1, 2, 6, 3, 1231, 199, 21, -12312]\n",
      "Lista ordinata: [-12312, -1, 2, 3, 6, 21, 199, 1231]\n",
      "Il numero più grande è : 1231\n",
      "\n",
      "La prola più grande è: lucertola\n",
      "\n",
      "Numero convertito in stringa: 23128\n",
      "Stringa convertita in numer: 888\n",
      "\n",
      "Numeri stringa: ['22', '23', '99', '-1', '-24']\n",
      "Lista di numeri interi: [22, 23, 99, -1, -24]\n",
      "\n",
      "Lista di numeri interi: [-1, 2, 6, 3, 1231, 199, 21, -12312]\n",
      "Lista di stringhe di numeri interi: ['-1', '2', '6', '3', '1231', '199', '21', '-12312']\n",
      "\n",
      "Numero: 23128\n",
      "Lista dei numeri interi presenti nel numero: [2, 3, 1, 2, 8]\n",
      "\n"
     ]
    }
   ],
   "source": [
    "!python 01_module\\main.py"
   ]
  },
  {
   "cell_type": "markdown",
   "id": "ca37421e",
   "metadata": {},
   "source": [
    "# Domande teoria\n",
    "21) Qual è la differenza tra una costante e una variabile?\n",
    "22) Qual è la sintassi per dichiarare una variabile?\n",
    "23) Qual è la sintassi per dichiarare una costante?\n",
    "24) Qual è il tipo di dato che rappresenta un insieme di valori univoci e immutabili?\n",
    "25) Qual è il tipo di dato che rappresenta un insieme di valori modificabili e indicizzati tramite chiavi?\n",
    "26) Qual è il tipo di dato che rappresenta un valore booleano?\n",
    "27) Quale costrutto viene utilizzato per iterare su una sequenza di valori?\n",
    "28) Come si può interrompere un ciclo while?\n",
    "29) Qual è l'operatore di assegnazione in Python?\n",
    "30) Cosa fa la funzione str() in Python?"
   ]
  },
  {
   "cell_type": "markdown",
   "id": "1b6fe450",
   "metadata": {},
   "source": [
    "### Risposte\n",
    "21) una variabile è variabile e quindi appunto nel corso dell'esecuzione cambia valore, mentre una costante rimane così per tutto il programma. \n",
    "22) una variabile può essere dichiarata semplicemente scrivendo il suo nome ed usando l'operatore uguale per assegnarle un valore oppure semplicemente lasciandola vuota. Python dedurrà automaticamente il valore in base al valore usato, oppure il programmatore può forzare il tipo della variabili usando le classi interne int o float come in questo esempio: `valore = float(3.14)`.\n",
    "23) una costante può essere dichiarata usando tutte le lettere maiuscole e quindi per esempio come `CONST_PI = 3.14`. In realtà il valore di una costante in python può variare, questa convenzione di dichiarazione vale solo per il programmatore. Per avere delle costanti vere e proprio possiamo usare dei contenitori immutabili.\n",
    "24) Un insieme di valori univoci e immutabili viene rappresentato dalle tuple, dichiarate con le parentesi tonde `()`.\n",
    "25) il dato che rappresenta un insieme di valori modificabili con chiavi è il dict, indicato tra parentesi graffe `{}`\n",
    "26) il dato che rappresenta il tipo è chiamato `bool` e può avere due valori: `True` o `False`. Inoltre il valore False può essere anche rappresentato con il NoneType `None`, oppure semplicemente dal numero `0`, o da stringa vuota e tendenzialmente dai contenitori vuoti `() [] {}`.\n",
    "27) per iterare su una sequenza di valori possiamo utilizzare il costrutto `for` oppure `while`, la differenza è che il while itera indefinitivamente su una condizione ed esce dal ciclo quando essa è False oppure in altri modi, mentre il for cicla su di un iteratore e quindi internamente termina quando non ci sono più elementi sollevando un'eccezione che fa terminare il ciclo a più alto livello.\n",
    "28) Un ciclo while può essere interroto in vari modi: se la sua condizione di controllo diventa `False`, se utilizzo l'istruzione `break` per forzare l'uscita dal ciclo oppure con l'istruzione `exit()` che forza la chiusura del programma. Se sono dentro una funzione posso anche usare un classico `return`, oppure anche utilizzando il costrutto `try/except` sollevando un'eccezione.\n",
    "29) L'operatore di assegnazione è l'uguale `=,` che può essere composto ad altri come per esempio `+=` o `-=` per sommare o sottrare 1.\n",
    "30) `str()` trasforma un numero intero o in virgola mobile, ma anche liste in una stringa. Tra i parametri posso scegliere anche l'encoding e quindi decidere il formato di output se in utf-8 (default), oppure ascii, latin-1 ..."
   ]
  },
  {
   "cell_type": "markdown",
   "id": "64784031",
   "metadata": {},
   "source": [
    "# Extra"
   ]
  },
  {
   "cell_type": "code",
   "execution_count": null,
   "id": "1a02be00",
   "metadata": {},
   "outputs": [],
   "source": [
    "import math\n",
    "import datetime\n",
    "import os\n",
    "import sys\n",
    "import random\n",
    "import re\n",
    "import json\n",
    "import csv\n",
    "import socket\n",
    "import requests\n",
    "import sqlite3\n",
    "import time\n",
    "import pickle\n",
    "import unittest\n",
    "import logging\n",
    "\n",
    "# da provare\n",
    "# altre\n",
    "\n",
    "import argparse\n",
    "import array\n",
    "import calendar\n",
    "import gc\n",
    "import http\n"
   ]
  },
  {
   "cell_type": "code",
   "execution_count": null,
   "id": "47e98d50",
   "metadata": {},
   "outputs": [
    {
     "name": "stdout",
     "output_type": "stream",
     "text": [
      "Stringa in utf-8: b'Caff\\xe8'\n",
      "Lista in latin-1: Caffè\n"
     ]
    }
   ],
   "source": [
    "# differenza di encoding\n",
    "variabile = b'Caff\\xe8'\n",
    "print(f\"Stringa in utf-8: {str(variabile)}\")\n",
    "print(f\"Lista in latin-1: {str(variabile, encoding='latin-1')}\")"
   ]
  },
  {
   "cell_type": "code",
   "execution_count": null,
   "id": "686aa0cc",
   "metadata": {},
   "outputs": [
    {
     "name": "stdout",
     "output_type": "stream",
     "text": [
      "3.14\n",
      "4.140000000000001\n"
     ]
    }
   ],
   "source": [
    "# le costanti non sono costanti\n",
    "CONST_PI = 3.14\n",
    "print(CONST_PI)\n",
    "CONST_PI += 1\n",
    "print(CONST_PI) # attenti all'overflow "
   ]
  },
  {
   "cell_type": "code",
   "execution_count": 54,
   "id": "320534ec",
   "metadata": {},
   "outputs": [
    {
     "name": "stdout",
     "output_type": "stream",
     "text": [
      "Oggetti raccolti dal GC: 8\n"
     ]
    }
   ],
   "source": [
    "# garbage collector\n",
    "import gc\n",
    "\n",
    "class Nodo:\n",
    "    def __init__(self, nome):\n",
    "        self.nome = nome\n",
    "        self.altro = None\n",
    "\n",
    "a = Nodo(\"A\")\n",
    "b = Nodo(\"B\")\n",
    "\n",
    "a.altro = b\n",
    "b.altro = a  # Ciclo di riferimento\n",
    "\n",
    "# Rimuoviamo tutti i riferimenti espliciti\n",
    "del a\n",
    "del b\n",
    "\n",
    "# A questo punto, nessun oggetto punta più a Nodo(\"A\") o Nodo(\"B\")\n",
    "# Ma entrambi si puntano a vicenda ⇒ ciclo ⇒ non deallocati automaticamente\n",
    "\n",
    "# Forziamo il garbage collector\n",
    "collezionati = gc.collect()\n",
    "print(f\"Oggetti raccolti dal GC: {collezionati}\")\n"
   ]
  }
 ],
 "metadata": {
  "kernelspec": {
   "display_name": "venv",
   "language": "python",
   "name": "python3"
  },
  "language_info": {
   "codemirror_mode": {
    "name": "ipython",
    "version": 3
   },
   "file_extension": ".py",
   "mimetype": "text/x-python",
   "name": "python",
   "nbconvert_exporter": "python",
   "pygments_lexer": "ipython3",
   "version": "3.13.3"
  }
 },
 "nbformat": 4,
 "nbformat_minor": 5
}
