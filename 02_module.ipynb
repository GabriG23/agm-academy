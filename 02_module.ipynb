{
 "cells": [
  {
   "cell_type": "markdown",
   "id": "547cbbaa",
   "metadata": {},
   "source": [
    "### Esercizi 2° modulo\n",
    "- L’espressione in Python, Le funzioni"
   ]
  },
  {
   "cell_type": "code",
   "execution_count": null,
   "id": "4b89edfc",
   "metadata": {},
   "outputs": [],
   "source": []
  }
 ],
 "metadata": {
  "language_info": {
   "name": "python"
  }
 },
 "nbformat": 4,
 "nbformat_minor": 5
}
