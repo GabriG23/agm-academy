{
 "cells": [
  {
   "cell_type": "markdown",
   "id": "547cbbaa",
   "metadata": {},
   "source": [
    "### Esercizi 2° modulo\n",
    "- L’espressione in Python, Le funzioni"
   ]
  },
  {
   "cell_type": "code",
   "execution_count": 4,
   "id": "4b89edfc",
   "metadata": {},
   "outputs": [
    {
     "name": "stdout",
     "output_type": "stream",
     "text": [
      "Questo è un esempio di sequenze di escape:\n",
      "\t- Backspace: uno due \n",
      "\t Ritorno a capo: tre \f quattro \n",
      "\t- Avanzamento riga: cinque \n",
      " sette rno a capo:sei \n",
      "\t- Tabulazione orizzontale: otto \t\t\n",
      "\t- Tabulazione verticale: nove \u000b dieci\n"
     ]
    }
   ],
   "source": [
    "stringa = \"Questo è un esempio di sequenze di escape:\\n\\t- Backspace: uno \\b due \\n\\t Ritorno a capo: tre \\f quattro \\n\\t- Avanzamento riga: cinque \\n\\t- Ritorno a capo:sei \\r sette \\n\\t- Tabulazione orizzontale: otto \\t\\t\\n\\t- Tabulazione verticale: nove \\v dieci\"\n",
    "print(stringa)"
   ]
  },
  {
   "cell_type": "code",
   "execution_count": 5,
   "id": "d05359ab",
   "metadata": {},
   "outputs": [
    {
     "name": "stdout",
     "output_type": "stream",
     "text": [
      "La radice quadrata di 1.0 è 1.0.\n",
      "Programma terminato!\n"
     ]
    }
   ],
   "source": [
    "import math\n",
    "while True:\n",
    "    try:\n",
    "        numero = float(input(\"Inserisci un numero positivo: \")) \n",
    "        radice_quadrata = math.sqrt(numero)\n",
    "    except ValueError:\n",
    "        print(\"Devi inserire un numero positivo!\")\n",
    "    except Exception as e:\n",
    "        print(f\"Si è verificato un errore: {e}\")\n",
    "    else:\n",
    "        print(f\"La radice quadrata di {numero} è {radice_quadrata}.\")\n",
    "        break\n",
    "    finally:\n",
    "        print(\"Programma terminato!\")"
   ]
  },
  {
   "cell_type": "code",
   "execution_count": 9,
   "id": "e82ca094",
   "metadata": {},
   "outputs": [
    {
     "name": "stdout",
     "output_type": "stream",
     "text": [
      "Il numero deve essere positivo!\n"
     ]
    }
   ],
   "source": [
    "import math\n",
    "\n",
    "def radice_quadrata(numero):\n",
    "    if numero < 0:\n",
    "        raise ValueError(\"Il numero deve essere positivo!\")\n",
    "    return math.sqrt(numero)\n",
    "\n",
    "numero = float(input(\"Inserisci un numero positivo: \"))\n",
    "try:\n",
    "    radice = radice_quadrata(numero)\n",
    "    print(f\"La radice quadrata di {numero} è {radice}\")\n",
    "except ValueError as e:\n",
    "    print(e)"
   ]
  },
  {
   "cell_type": "code",
   "execution_count": null,
   "id": "87deecc7",
   "metadata": {},
   "outputs": [],
   "source": [
    "f = open(\"percorso_del_file.txt\", \"r\")\n",
    "while True:\n",
    "    riga = f.readline()\n",
    "    if not riga:\n",
    "        break\n",
    "    print(riga)\n",
    "f.close()"
   ]
  },
  {
   "cell_type": "code",
   "execution_count": 10,
   "id": "1e75167b",
   "metadata": {},
   "outputs": [
    {
     "name": "stdout",
     "output_type": "stream",
     "text": [
      "Nome del file: prova.txt\n",
      "Modalità di apertura:  wb\n",
      "Controlliamo se il file è chiuso False\n",
      "Chiudiamo il file di prova\n",
      "Il nostro file di prova adesso è chiuso\n",
      "Controlliamo se il file è stato chiuso False\n"
     ]
    }
   ],
   "source": [
    "import time\n",
    "\n",
    "esempio = open(\"prova.txt\", \"wb\")\n",
    "print(\"Nome del file:\", esempio.name)\n",
    "print(\"Modalità di apertura: \", esempio.mode)\n",
    "print(\"Controlliamo se il file è chiuso\", esempio.closed)\n",
    "time.sleep(1)\n",
    "print(\"Chiudiamo il file di prova\")\n",
    "esempio.close()\n",
    "print(\"Il nostro file di prova adesso è chiuso\")\n",
    "time.sleep(1.5)\n",
    "# controlliamo se il file è stato chiuso prima di accedervi\n",
    "with open(\"prova.txt\", \"r\") as f:\n",
    "    print(\"Controlliamo se il file è stato chiuso\", f.closed)   "
   ]
  },
  {
   "cell_type": "code",
   "execution_count": null,
   "id": "7b069cda",
   "metadata": {},
   "outputs": [],
   "source": [
    "import os\n",
    "# Visualizzazione della directory corrente\n",
    "print(\"Cartella corrente:\", os.getcwd())\n",
    "# Elenco dei file nella directory corrente\n",
    "print(\"Vediamo i file nella cartella:\", os.listdir())\n",
    "# Cambio della directory corrente\n",
    "os.chdir('C:\\\\')\n",
    "print(\"Cambiamo il percorso della directory:\", os.getcwd())\n",
    "# Creazione di una nuova directory\n",
    "os.mkdir('Prova')\n",
    "print(\"Ecco l’elenco dei file in Prova:\", os.listdir('Prova'))\n",
    "# Ridenominazione di una directory\n",
    "os.rename(\"Prova\", \"Altronome\")\n",
    "# Rimozione di una directory vuota\n",
    "os.rmdir(\"Altronome\")"
   ]
  }
 ],
 "metadata": {
  "kernelspec": {
   "display_name": "venv",
   "language": "python",
   "name": "python3"
  },
  "language_info": {
   "codemirror_mode": {
    "name": "ipython",
    "version": 3
   },
   "file_extension": ".py",
   "mimetype": "text/x-python",
   "name": "python",
   "nbconvert_exporter": "python",
   "pygments_lexer": "ipython3",
   "version": "3.13.3"
  }
 },
 "nbformat": 4,
 "nbformat_minor": 5
}
