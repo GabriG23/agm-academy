{
 "cells": [
  {
   "cell_type": "markdown",
   "id": "547cbbaa",
   "metadata": {},
   "source": [
    "# Esercizi 2° modulo\n",
    "- L’espressione in Python, Le funzioni"
   ]
  },
  {
   "cell_type": "markdown",
   "id": "6c752de1",
   "metadata": {},
   "source": [
    "### Codice Modulo"
   ]
  },
  {
   "cell_type": "code",
   "execution_count": 4,
   "id": "4b89edfc",
   "metadata": {},
   "outputs": [
    {
     "name": "stdout",
     "output_type": "stream",
     "text": [
      "Questo è un esempio di sequenze di escape:\n",
      "\t- Backspace: uno due \n",
      "\t Ritorno a capo: tre \f quattro \n",
      "\t- Avanzamento riga: cinque \n",
      " sette rno a capo:sei \n",
      "\t- Tabulazione orizzontale: otto \t\t\n",
      "\t- Tabulazione verticale: nove \u000b dieci\n"
     ]
    }
   ],
   "source": [
    "stringa = \"Questo è un esempio di sequenze di escape:\\n\\t- Backspace: uno \\b due \\n\\t Ritorno a capo: tre \\f quattro \\n\\t- Avanzamento riga: cinque \\n\\t- Ritorno a capo:sei \\r sette \\n\\t- Tabulazione orizzontale: otto \\t\\t\\n\\t- Tabulazione verticale: nove \\v dieci\"\n",
    "print(stringa)"
   ]
  },
  {
   "cell_type": "code",
   "execution_count": 5,
   "id": "d05359ab",
   "metadata": {},
   "outputs": [
    {
     "name": "stdout",
     "output_type": "stream",
     "text": [
      "La radice quadrata di 1.0 è 1.0.\n",
      "Programma terminato!\n"
     ]
    }
   ],
   "source": [
    "import math\n",
    "while True:\n",
    "    try:\n",
    "        numero = float(input(\"Inserisci un numero positivo: \")) \n",
    "        radice_quadrata = math.sqrt(numero)\n",
    "    except ValueError:\n",
    "        print(\"Devi inserire un numero positivo!\")\n",
    "    except Exception as e:\n",
    "        print(f\"Si è verificato un errore: {e}\")\n",
    "    else:\n",
    "        print(f\"La radice quadrata di {numero} è {radice_quadrata}.\")\n",
    "        break\n",
    "    finally:\n",
    "        print(\"Programma terminato!\")"
   ]
  },
  {
   "cell_type": "code",
   "execution_count": 9,
   "id": "e82ca094",
   "metadata": {},
   "outputs": [
    {
     "name": "stdout",
     "output_type": "stream",
     "text": [
      "Il numero deve essere positivo!\n"
     ]
    }
   ],
   "source": [
    "import math\n",
    "\n",
    "def radice_quadrata(numero):\n",
    "    if numero < 0:\n",
    "        raise ValueError(\"Il numero deve essere positivo!\")\n",
    "    return math.sqrt(numero)\n",
    "\n",
    "numero = float(input(\"Inserisci un numero positivo: \"))\n",
    "try:\n",
    "    radice = radice_quadrata(numero)\n",
    "    print(f\"La radice quadrata di {numero} è {radice}\")\n",
    "except ValueError as e:\n",
    "    print(e)"
   ]
  },
  {
   "cell_type": "code",
   "execution_count": null,
   "id": "87deecc7",
   "metadata": {},
   "outputs": [],
   "source": [
    "f = open(\"percorso_del_file.txt\", \"r\")\n",
    "while True:\n",
    "    riga = f.readline()\n",
    "    if not riga:\n",
    "        break\n",
    "    print(riga)\n",
    "f.close()"
   ]
  },
  {
   "cell_type": "code",
   "execution_count": 10,
   "id": "1e75167b",
   "metadata": {},
   "outputs": [
    {
     "name": "stdout",
     "output_type": "stream",
     "text": [
      "Nome del file: prova.txt\n",
      "Modalità di apertura:  wb\n",
      "Controlliamo se il file è chiuso False\n",
      "Chiudiamo il file di prova\n",
      "Il nostro file di prova adesso è chiuso\n",
      "Controlliamo se il file è stato chiuso False\n"
     ]
    }
   ],
   "source": [
    "import time\n",
    "\n",
    "esempio = open(\"prova.txt\", \"wb\")\n",
    "print(\"Nome del file:\", esempio.name)\n",
    "print(\"Modalità di apertura: \", esempio.mode)\n",
    "print(\"Controlliamo se il file è chiuso\", esempio.closed)\n",
    "time.sleep(1)\n",
    "print(\"Chiudiamo il file di prova\")\n",
    "esempio.close()\n",
    "print(\"Il nostro file di prova adesso è chiuso\")\n",
    "time.sleep(1.5)\n",
    "# controlliamo se il file è stato chiuso prima di accedervi\n",
    "with open(\"prova.txt\", \"r\") as f:\n",
    "    print(\"Controlliamo se il file è stato chiuso\", f.closed)   "
   ]
  },
  {
   "cell_type": "code",
   "execution_count": 72,
   "id": "7b069cda",
   "metadata": {},
   "outputs": [
    {
     "name": "stdout",
     "output_type": "stream",
     "text": [
      "Cartella corrente: c:\\Users\\gabriele.greco\\OneDrive - AGM Solutions\\Documenti\\GitHub\\agm-academy\n",
      "Vediamo i file nella cartella: ['.git', '.gitignore', '01_module', '01_module.ipynb', '02_module', '02_module.ipynb', 'client', 'README.md', 'requirements.txt', 'venv']\n",
      "Cambiamo il percorso della directory: C:\\Users\\gabriele.greco\\OneDrive - AGM Solutions\\Documenti\\Github\\agm-academy\\02_module\n"
     ]
    }
   ],
   "source": [
    "import os\n",
    "\n",
    "print(\"Cartella corrente:\", os.getcwd()) # Visualizzazione della directory corrente\n",
    "\n",
    "print(\"Vediamo i file nella cartella:\", os.listdir()) # Elenco dei file nella directory corrente\n",
    "\n",
    "# Cambio della directory corrente\n",
    "os.chdir('C:\\\\Users\\\\gabriele.greco\\\\OneDrive - AGM Solutions\\\\Documenti\\\\Github\\\\agm-academy\\\\02_module')\n",
    "print(\"Cambiamo il percorso della directory:\", os.getcwd()) # Creazione di una nuova directory\n",
    "\n",
    "# os.mkdir('Prova')\n",
    "# print(\"Ecco l’elenco dei file in Prova:\", os.listdir('Prova'))\n",
    "# # Ridenominazione di una directory\n",
    "# os.rename(\"Prova\", \"Altronome\")\n",
    "# # Rimozione di una directory vuota\n",
    "# os.rmdir(\"Altronome\")"
   ]
  },
  {
   "cell_type": "code",
   "execution_count": null,
   "id": "ba9ff5cd",
   "metadata": {},
   "outputs": [],
   "source": [
    "import pandas as pd\n",
    "import glob\n",
    "\n",
    "path = 'input'                          # L’utente indicherà la cartella da controllare\n",
    "files = glob.glob(path + '/*.csv')\n",
    "\n",
    "lista = []                              # Si crea una lista vuota dove andranno i dati dei file CSV\n",
    "\n",
    "for file in files:                      # Questo è un loop per acquisire i dati della lista\n",
    "    df = pd.read_csv(file)\n",
    "\n",
    "df['File'] = file                       # Aggiungiamo una colonna con il nome del file\n",
    "lista.append(df)\n",
    "print(f\"Lista di {file} creata con {df.shape[0]} righe\")\n",
    "\n",
    "dataframe = pd.concat(lista, axis=0)                                # Qui uniamo i dati\n",
    "print(f\"Dataframe creato con {dataframe.shape[0]} righe\")\n",
    "\n",
    "dataframe = dataframe.sort_values(by='Prezzo', ascending=False)     # Visualizziamo i dati in base al prezzo\n",
    "print(dataframe[['Prodotti', 'Prezzo', 'File']].head())"
   ]
  },
  {
   "cell_type": "code",
   "execution_count": 74,
   "id": "83ed9b71",
   "metadata": {},
   "outputs": [
    {
     "name": "stdout",
     "output_type": "stream",
     "text": [
      "L'ora è: martedì 22 aprile 2025, 14:40:11\n",
      "Giorno e mese: martedì 22 aprile\n",
      "Venticinque anni fa era 2000\n",
      "Tra dodici giorni sarà maggio\n"
     ]
    }
   ],
   "source": [
    "# ESEMPIO DATETIME\n",
    "import datetime\n",
    "from datetime import timedelta\n",
    "import locale\n",
    "\n",
    "locale.setlocale(locale.LC_TIME, \"it_IT\")   # Impostiamo la lingua italiana\n",
    "\n",
    "tempo = datetime.datetime.now()             # Otteniamo la data e l'ora attuali\n",
    "\n",
    "print(\"L'ora è:\", tempo.strftime(\"%A %d %B %Y, %H:%M:%S\")) # Possiamo poi modificare la data e visualizzarla in vari modi\n",
    "\n",
    "print(\"Giorno e mese:\", tempo.strftime(\"%A %d %B\"))\n",
    "print(\"Venticinque anni fa era\", tempo.year-25)\n",
    "\n",
    "nelfuturo = datetime.timedelta(days=12)# Aggiungiamo 12 giorni alla data corrente\n",
    "nelfuturo += tempo\n",
    "print(\"Tra dodici giorni sarà\", nelfuturo.strftime(\"%B\"))"
   ]
  },
  {
   "cell_type": "code",
   "execution_count": null,
   "id": "e23f5c0c",
   "metadata": {},
   "outputs": [],
   "source": [
    "# PROTOCOLLI \n",
    "from typing import Protocol\n",
    "class HasArea(Protocol):\n",
    "    def area(self) -> float:\n",
    "        pass\n",
    "\n",
    "def print_area(obj: HasArea) -> None:\n",
    "    print(obj.area())"
   ]
  },
  {
   "cell_type": "code",
   "execution_count": null,
   "id": "e87dd020",
   "metadata": {},
   "outputs": [],
   "source": [
    "from typing import Protocol\n",
    "class Drawable(Protocol):\n",
    "    def draw(self) -> None:\n",
    "        pass\n",
    "\n",
    "class Triangolo:\n",
    "    def draw(self):\n",
    "        print(\"Disegno un triangolo\")\n",
    "\n",
    "class Rettangolo:\n",
    "    def draw(self):\n",
    "        print(\"Disegno un rettangolo\")\n",
    "\n",
    "def draw_shape(shape: Drawable):\n",
    "    shape.draw()\n",
    "    \n",
    "t = Triangolo()\n",
    "r = Rettangolo()\n",
    "draw_shape(t)\n",
    "draw_shape(r)"
   ]
  },
  {
   "cell_type": "markdown",
   "id": "1d5099bd",
   "metadata": {},
   "source": [
    "# Esercizi"
   ]
  },
  {
   "cell_type": "code",
   "execution_count": 12,
   "id": "d97305f6",
   "metadata": {},
   "outputs": [
    {
     "data": {
      "text/plain": [
       "50"
      ]
     },
     "execution_count": 12,
     "metadata": {},
     "output_type": "execute_result"
    }
   ],
   "source": [
    "# Esercizio 1 Scrivere un'espressione che calcola il valore del prodotto tra due numeri interi.\n",
    "x = 10\n",
    "y = 5\n",
    "x * y"
   ]
  },
  {
   "cell_type": "code",
   "execution_count": 13,
   "id": "24de7932",
   "metadata": {},
   "outputs": [
    {
     "data": {
      "text/plain": [
       "16"
      ]
     },
     "execution_count": 13,
     "metadata": {},
     "output_type": "execute_result"
    }
   ],
   "source": [
    "# Esercizio 2 Scrivere un'espressione che calcola il valore dell'operazione di esponenziazione tra due numeri interi a e b.\n",
    "a = 2\n",
    "b = 4\n",
    "a ** b"
   ]
  },
  {
   "cell_type": "code",
   "execution_count": 14,
   "id": "76c61c4d",
   "metadata": {},
   "outputs": [
    {
     "data": {
      "text/plain": [
       "'Ciao Mondo'"
      ]
     },
     "execution_count": 14,
     "metadata": {},
     "output_type": "execute_result"
    }
   ],
   "source": [
    "# Esercizio 3 Scrivere un'espressione che concatena due stringhe s1 e s2.\n",
    "s1 = \"Ciao\"\n",
    "s2 = \" Mondo\"\n",
    "s1 + s2"
   ]
  },
  {
   "cell_type": "code",
   "execution_count": null,
   "id": "caf7b07f",
   "metadata": {},
   "outputs": [],
   "source": [
    "# Esercizio 4 Scrivere un'espressione che verifica se un numero intero x è pari o dispari.\n",
    "numero = 10\n",
    "print(\"numero pari\") if numero % 2 == 0 else print(\"numero dispari\")"
   ]
  },
  {
   "cell_type": "code",
   "execution_count": 30,
   "id": "c0318f75",
   "metadata": {},
   "outputs": [
    {
     "name": "stdout",
     "output_type": "stream",
     "text": [
      "56.52\n",
      "56.548667764616276\n"
     ]
    }
   ],
   "source": [
    "# Esercizio 5 Scrivere un'espressione che calcola il valore dell'area di un cerchio di raggio r.\n",
    "CONST_PI = 3.14\n",
    "r = 3\n",
    "print(2 * CONST_PI * r ** 2)\n",
    "# oppure\n",
    "import math\n",
    "print(2 * math.pi * r **2)"
   ]
  },
  {
   "cell_type": "code",
   "execution_count": 17,
   "id": "89df1cd7",
   "metadata": {},
   "outputs": [
    {
     "data": {
      "text/plain": [
       "41"
      ]
     },
     "execution_count": 17,
     "metadata": {},
     "output_type": "execute_result"
    }
   ],
   "source": [
    "# Esercizio 6 Scrivere un'espressione che calcola la somma dei quadrati di due numeri interi a e b.\n",
    "a = 5\n",
    "b = 4\n",
    "a ** 2 + b ** 2"
   ]
  },
  {
   "cell_type": "code",
   "execution_count": 18,
   "id": "d6975dd0",
   "metadata": {},
   "outputs": [
    {
     "data": {
      "text/plain": [
       "4.5"
      ]
     },
     "execution_count": 18,
     "metadata": {},
     "output_type": "execute_result"
    }
   ],
   "source": [
    "# Esercizio 7 Scrivere un'espressione che calcola il valore della media aritmetica di una lista di numeri n.\n",
    "numeri = [1, 2, 3, 4, 5, 6, 7, 8]\n",
    "sum(numeri) / len(numeri)"
   ]
  },
  {
   "cell_type": "code",
   "execution_count": 19,
   "id": "c0f810f0",
   "metadata": {},
   "outputs": [
    {
     "data": {
      "text/plain": [
       "8"
      ]
     },
     "execution_count": 19,
     "metadata": {},
     "output_type": "execute_result"
    }
   ],
   "source": [
    "# Esercizio 8 Scrivere un'espressione che restituisce il valore massimo di una lista di numeri\n",
    "numeri = [1, 2, 3, 4, 5, 6, 7, 8]\n",
    "max(numeri)"
   ]
  },
  {
   "cell_type": "code",
   "execution_count": 20,
   "id": "58ad753b",
   "metadata": {},
   "outputs": [],
   "source": [
    "# Esercizio 9 Scrivere un identificatore valido e uno non valido.\n",
    "# valido\n",
    "var = \"Marco\"\n",
    "# non valido\n",
    "Var = \"Marco\"\n",
    "def MARCO():\n",
    "    return var"
   ]
  },
  {
   "cell_type": "code",
   "execution_count": 34,
   "id": "e165b1d2",
   "metadata": {},
   "outputs": [
    {
     "name": "stdout",
     "output_type": "stream",
     "text": [
      "Il valore non è un intero:\n",
      " invalid literal for int() with base 10: 'e'\n"
     ]
    }
   ],
   "source": [
    "# Esercizio 12 Scrivere un programma che richiede all'utente d’inserire un numero intero e stampa il suo quadrato.\n",
    "# In caso d’inserimento di un valore non valido, il programma deve gestire l'eccezione e stampare un messaggio di errore.\n",
    "try:\n",
    "    numero = int(input(\"Inserisci un numero intero\"))\n",
    "    if isinstance(numero, int):\n",
    "        print(\"Il numero è intero, puoi continuare\\n\")\n",
    "    else:\n",
    "        raise ValueError(\"Il valore inserito non è valido!\")\n",
    "    print(f\"Il quadrato del numero è {numero**2}\")\n",
    "except ValueError as e:\n",
    "    print(f\"Il valore non è un intero:\\n {e}\")\n"
   ]
  },
  {
   "cell_type": "code",
   "execution_count": 36,
   "id": "1ee61321",
   "metadata": {},
   "outputs": [
    {
     "name": "stdout",
     "output_type": "stream",
     "text": [
      "Il file non è stato trovato\n",
      " [Errno 2] No such file or directory: '02_module/testo2.txt'\n"
     ]
    }
   ],
   "source": [
    "# Esercizio 13 Scrivere un programma che apre un file di testo e stampa il suo contenuto riga per riga.\n",
    "# In caso di errore nell'apertura del file, il programma deve gestire l'eccezione e stampare un messaggio di errore.\n",
    "try:\n",
    "    f = open(\"02_module/testo2.txt\", \"r\")\n",
    "    if f:\n",
    "        while True:\n",
    "            riga = f.readline()\n",
    "            if not riga:\n",
    "                break\n",
    "            print(riga)\n",
    "        f.close()\n",
    "    else:\n",
    "        raise FileNotFoundError(\"Il file non è stato trovato.\")\n",
    "except FileNotFoundError as fnf:\n",
    "    print(f\"Il file non è stato trovato\\n {fnf}\")\n",
    "\n",
    "# Altri errori\n",
    "except PermissionError as e:                        # non ho i permessi\n",
    "    print(f\"Errore di permesso: {e}\")\n",
    "except IsADirectoryError as e:                      # il file è una cartella\n",
    "    print(f\"Errore: {e}\")\n",
    "except OSError as e:                                # errore generico del SO\n",
    "    print(f\"Errore generico: {e}\")\n",
    "except FileExistsError as e:                        # quando si apre un file per la creazione ma esiste già\n",
    "    print(f\"Errore: {e}\")\n",
    "except ValueError as e:                             # modalità di apertura non valida\n",
    "    print(f\"Errore di valore: {e}\")\n",
    "except UnicodeDecodeError as e:                     # problemi nella lettura del file\n",
    "    print(f\"Errore di decodifica: {e}\")"
   ]
  },
  {
   "cell_type": "code",
   "execution_count": 38,
   "id": "45bf3e8e",
   "metadata": {},
   "outputs": [
    {
     "name": "stdout",
     "output_type": "stream",
     "text": [
      "Errore nel dividire per zero\n",
      "division by zero\n"
     ]
    }
   ],
   "source": [
    "# Esercizio 14 Scrivere una funzione che divide due numeri e gestisce l'eccezione di divisione per zero.\n",
    "def division(a, b):\n",
    "    try:\n",
    "        return a / b\n",
    "    except ZeroDivisionError as zde:\n",
    "        print(f\"Errore nel dividire per zero\\n{zde}\")\n",
    "\n",
    "division(25, 0)\n"
   ]
  },
  {
   "cell_type": "code",
   "execution_count": 56,
   "id": "1054ec42",
   "metadata": {},
   "outputs": [
    {
     "name": "stdout",
     "output_type": "stream",
     "text": [
      "Il numero inserito 1 è intero, puoi continuare\n",
      "\n",
      "Il numero inserito 23 è intero, puoi continuare\n",
      "\n",
      "Il numero inserito 235 è intero, puoi continuare\n",
      "\n",
      "Il numero inserito 42 è intero, puoi continuare\n",
      "\n",
      "Il numero massimo della lista [1, 23, 235, 42]\n",
      " è 235\n"
     ]
    }
   ],
   "source": [
    "# Esercizio 15 Scrivere un programma che richiede all'utente d’inserire una lista di numeri interi e ne stampa il valore massimo.\n",
    "# In caso d’inserimento di un valore non valido, il programma deve gestire l'eccezione e stampare un messaggio di errore.\n",
    "try:\n",
    "    n = int(input(\"Inserisci la lunghezza della lista dei numeri da 1 a 10\"))\n",
    "    if n < 0 or n > 10:\n",
    "        raise ValueError(\"Lunghezza della lista non valida!\")\n",
    "    numeri = []\n",
    "    for i in range(n):\n",
    "        num = int(input(\"Inserisci il numero intero\"))\n",
    "        if isinstance(num, int):\n",
    "            numeri.append(num)\n",
    "            print(f\"Il numero inserito {num} è intero, puoi continuare\\n\")\n",
    "        else:\n",
    "            raise ValueError(\"Il valore inserito non è valido!\")\n",
    "    \n",
    "    print(f\"Il numero massimo della lista {numeri}\\n è {max(numeri)}\")\n",
    "except ValueError as ve:\n",
    "    print(ve)"
   ]
  },
  {
   "cell_type": "code",
   "execution_count": 58,
   "id": "9ba278e3",
   "metadata": {},
   "outputs": [
    {
     "name": "stdout",
     "output_type": "stream",
     "text": [
      "Errore: divisione per zero\n",
      "Il reciproco del numero 0 è None\n"
     ]
    }
   ],
   "source": [
    "# Esercizio 16 Scrivere una funzione che calcoli il reciproco di un numero e che gestisca l'eccezione di divisione per zero usando ZeroDivisionError.\n",
    "\n",
    "def reciproco(numero):\n",
    "    try:\n",
    "        return 1 / numero\n",
    "    except ZeroDivisionError as zde:\n",
    "        print(\"Errore: divisione per zero\")\n",
    "\n",
    "numero = 0\n",
    "print(f\"Il reciproco del numero {numero} è {reciproco(numero)}\")\n"
   ]
  },
  {
   "cell_type": "code",
   "execution_count": null,
   "id": "d3f801dc",
   "metadata": {},
   "outputs": [],
   "source": [
    "# Esercizio 17 Scrivere un programma che crea un nuovo file di testo e che scriva una serie di righe in esso.\n",
    "import os\n",
    "\n",
    "nome_file = str(input(\"Inserisci il nome del nuovo file con il formato\"))\n",
    "path = os.path.join(\"02_module\", nome_file)  # uso os per unire i path\n",
    "\n",
    "file = open(path, 'a')              # struttura classica per aprire i file\n",
    "file.write(\"riga1 riga1\\n\")\n",
    "file.write(\"riga2 riga2\")\n",
    "file.close()"
   ]
  },
  {
   "cell_type": "code",
   "execution_count": 68,
   "id": "f3f657a5",
   "metadata": {},
   "outputs": [
    {
     "name": "stdout",
     "output_type": "stream",
     "text": [
      "riga1 riga1\n",
      "\n",
      "riga2 riga2\n",
      "\n",
      "ciao\n"
     ]
    }
   ],
   "source": [
    "# Esercizio 18 Scrivere un programma che apre un file di testo esistente, legga il suo contenuto e ne stampi ogni riga.\n",
    "\n",
    "path = \"02_module\\\\prova.txt\"\n",
    "with open(path, 'r') as f:      # metodo più compatto, fa in automatico apertura, chiusura e gestione errori\n",
    "    for riga in f:\n",
    "        print(riga)"
   ]
  },
  {
   "cell_type": "code",
   "execution_count": 71,
   "id": "c3a5eb5c",
   "metadata": {},
   "outputs": [
    {
     "name": "stdout",
     "output_type": "stream",
     "text": [
      "Copia dei file avvenuta con successo\n"
     ]
    }
   ],
   "source": [
    "# Esercizio 19 Scrivere un programma che copia il contenuto di un file di testo in un altro file.\n",
    "\n",
    "def copia_file_1():\n",
    "    path = \"02_module\\\\testo.txt\"\n",
    "    with open(path, 'r') as f1:\n",
    "\n",
    "        path_2 = \"02_module\\\\testo2.txt\"\n",
    "        with open(path_2, 'w') as f2:       # apro due file insieme\n",
    "            \n",
    "            for line in f1:\n",
    "                f2.write(line)\n",
    "    print(\"Copia dei file avvenuta con successo\")\n",
    "\n",
    "\n",
    "# version 2 di prova\n",
    "def copia_file_2():\n",
    "    path_1 = \"02_module\\\\testo.txt\"\n",
    "    path_2 = \"02_module\\\\testo2.txt\"\n",
    "    with open(path_1, 'r') as f1, open(path_2, 'w') as f2:\n",
    "        f2.writelines(f1)\n",
    "    print(\"Copia dei file avvenuta con successo\")\n",
    "\n",
    "copia_file_1()\n",
    "copia_file_2()"
   ]
  },
  {
   "cell_type": "code",
   "execution_count": null,
   "id": "62593eb6",
   "metadata": {},
   "outputs": [
    {
     "name": "stdout",
     "output_type": "stream",
     "text": [
      "La data del tuo compleanno è: 1996-05-09 00:00:00\n",
      "La data di oggi è: 2025-04-22 15:14:09.338276\n",
      "La tua età è:\n",
      "\tgiorni: 13\n",
      "\tmesi: 11\n",
      "\tanni: 28\n",
      "\n",
      "Sei nato il giorno Thursday\n"
     ]
    }
   ],
   "source": [
    "# Esercizio 20 Scrivere un programma che chiede all'utente d’inserire la propria\n",
    "# data di nascita (nel formato GG-MM-ANNO) e calcoli l'età in giorni, mesi e anni.\n",
    "# Il programma deve anche calcolare il giorno della settimana in cui l'utente è nato.\n",
    "\n",
    "from datetime import datetime\n",
    "\n",
    "data = input(\"Inserisci la tua data di nascita nel formato GG-MM-ANNO\")\n",
    "try:\n",
    "    compleanno = datetime.strptime(data, \"%d-%m-%Y\")\n",
    "except ValueError:\n",
    "    print(\"Formato non valido. Usa GG-MM-ANNO\")\n",
    "\n",
    "print(f\"La data del tuo compleanno è: {compleanno}\")\n",
    "\n",
    "oggi = datetime.today()\n",
    "print(f\"La data di oggi è: {oggi}\")\n",
    "\n",
    "a = oggi.year - compleanno.year\n",
    "m = oggi.month - compleanno.month\n",
    "g = oggi.day - compleanno.day\n",
    "\n",
    "if g < 0:\n",
    "    m -=1\n",
    "if m < 0:\n",
    "    a -= 1\n",
    "    m += 12\n",
    "\n",
    "print(f\"La tua età è:\\n\\tgiorni: {g}\\n\\tmesi: {m}\\n\\tanni: {a}\\n\")\n",
    "\n",
    "giorno_della_settimana = compleanno.strftime(\"%A\")\n",
    "\n",
    "print(f\"Sei nato il giorno {giorno_della_settimana}\")\n"
   ]
  },
  {
   "cell_type": "code",
   "execution_count": null,
   "id": "5dc9a7d3",
   "metadata": {},
   "outputs": [
    {
     "name": "stdout",
     "output_type": "stream",
     "text": [
      "Il numero è intero, puoi continuare.\n",
      "Il numero inserito 10 è pari.\n"
     ]
    }
   ],
   "source": [
    "# Esercizio 28 Scrivere un listato che richieda all'utente d’inserire un numero intero, e di stampare su schermo \"Il numero inserito è pari\" se il numero è pari, \"Il numero inserito è dispari\" se il numero è dispari.\n",
    "\n",
    "try:\n",
    "    num = int(input(\"Inserisci un numero intero.\"))\n",
    "    print(f\"Il numero inserito {num} è pari.\") if num % 2 == 0 else print(f\"Il numero inserito {num} è dispari.\")\n",
    "\n",
    "except ValueError as ve:\n",
    "    print(ve)\n",
    "\n"
   ]
  },
  {
   "cell_type": "code",
   "execution_count": 38,
   "id": "fd4fc66c",
   "metadata": {},
   "outputs": [
    {
     "name": "stdout",
     "output_type": "stream",
     "text": [
      "Il prezzo iniziale è: 10.00€\n",
      "Lo sconto del 9% da applicare sul prezzo equivale a 0.90€\n",
      "Il prezzo finale è: 9.10€\n"
     ]
    }
   ],
   "source": [
    "# Esercizio 29 Scrivere un programma che chieda all'utente d’inserire il prezzo di un prodotto e il tasso di sconto da applicare. Calcolarne poi il prezzo scontato e stamparlo su schermo.\n",
    "try:\n",
    "    prezzo_input = input(\"Inserisci il prezzo del prodotto.\")\n",
    "    prezzo = float(prezzo_input)\n",
    "\n",
    "    if prezzo < 0: \n",
    "        raise ValueError(\"Il numero non è valido, è negativo.\")\n",
    "    \n",
    "    sconto_input = input(\"Inserisci uno sconto da applicare da 0% a 90%\")\n",
    "    sconto = int(sconto_input)\n",
    "    if not (0 <= sconto <= 90):\n",
    "        raise ValueError(\"Lo sconto deve essere compreso tra 0% e 90%\") \n",
    "    \n",
    "    sconto_valore = (prezzo * sconto) / 100\n",
    "    prezzo_finale = prezzo - sconto_valore\n",
    "    print(f\"Il prezzo iniziale è: {prezzo:.2f}€\")\n",
    "    print(f\"Lo sconto del {sconto}% da applicare sul prezzo equivale a {sconto_valore:.2f}€\")\n",
    "    print(f\"Il prezzo finale è: {prezzo_finale:.2f}€\")\n",
    "    # :.2f per stampare solo 2 cifre dopo la virgola\n",
    "except ValueError as ve:\n",
    "    print(f\"Errore: {ve}\")\n",
    "\n",
    "\n",
    "# note:\n",
    "#int() e float() fanno già un controllo sul tipo, quindi non serve metterne uno in più\n",
    "#ma controllare solo se non sono negativo oppure se sono nel range\n"
   ]
  },
  {
   "cell_type": "code",
   "execution_count": null,
   "id": "9f2b2dd5",
   "metadata": {},
   "outputs": [],
   "source": [
    "# Esercizio 30 Scrivere un programma che richieda all'utente di inserire un numero intero\n",
    "# e di verificare se è pari o dispari. Stampare un messaggio appropriato, a seconda del caso.\n",
    "\n",
    "\n"
   ]
  },
  {
   "cell_type": "markdown",
   "id": "59614f7a",
   "metadata": {},
   "source": [
    "# Domande teoria\n",
    "10) Qual è la convenzione di naming per le variabili e per le costanti in Python?\n",
    "12) Qual è l'identificatore riservato in Python per indicare una funzione lambda?\n",
    "21) Qual è la funzione utilizzata per aprire un file in Python? \n",
    "22) Qual è il metodo utilizzato per creare una nuova directory in Python? \n",
    "24) Come si legge un file di testo riga per riga in Python? \n",
    "25) Qual è il metodo utilizzato per ottenere il percorso assoluto di un file? \n",
    "26) Qual è il metodo utilizzato per scrivere su un file di testo in Python? \n",
    "27) Come si calcola la differenza tra due date utilizzando il modulo datetime? \n",
    "28) Qual è il metodo utilizzato per ottenere il timestamp corrente in Python?"
   ]
  },
  {
   "cell_type": "markdown",
   "id": "3d63c838",
   "metadata": {},
   "source": [
    "### Risposte\n",
    "- le variabili devono iniziare con la lettera minuscola, se devo inserire più parole insieme utilizzo l'underscore (_). Le costanti devono essere indicate con tutte le lettere MAIUSCOLE.\n",
    "- una funzione lambda viene indicata con la parola \"lambda\" successivamente seguita dai suoi parametri e dopo i due puntini il corpo della funzione\n",
    "- per aprire un file in python possiamo usare la funzione open()\n",
    "- per creare una nuova directory possiamo usare la libreria os importandola (import os), e successivamente creando la cartella con os.mkdir(path_della_cartella) \n",
    "- per leggere un file di testo riga per riga bisogna innanzitutto aprirlo in modalità lettura ('r') e successivamente ciclare sul file con un for loop o while\n",
    "- per ricavare il percorso assolutio bisogna usare la libreria os e richiamare il metodo os.path.abspath(nome_del_file)\n",
    "- per scrivere su di un file di testo possiamo usare il metodo f.write(\"testo_da_aggiungere\") dove f è un file aperto. Possiamo scrivere anche più righe insieme con il metodo f.writelines(righe_da_scrivere)\n",
    "- per calcolare la differenza tra due date con datetime basta dichiarare le date con la libreria e poi sottrarle tra di loro, otterremo un nuovo oggetto timedelta che è un intervallo di tempo.\n",
    "- per ottenere il timestamp corrente possiamo usare il metodo datetime.today()"
   ]
  },
  {
   "cell_type": "markdown",
   "id": "abdbcb54",
   "metadata": {},
   "source": [
    "# Extra"
   ]
  },
  {
   "cell_type": "code",
   "execution_count": null,
   "id": "3c8198f6",
   "metadata": {},
   "outputs": [],
   "source": []
  }
 ],
 "metadata": {
  "kernelspec": {
   "display_name": "venv",
   "language": "python",
   "name": "python3"
  },
  "language_info": {
   "codemirror_mode": {
    "name": "ipython",
    "version": 3
   },
   "file_extension": ".py",
   "mimetype": "text/x-python",
   "name": "python",
   "nbconvert_exporter": "python",
   "pygments_lexer": "ipython3",
   "version": "3.13.3"
  }
 },
 "nbformat": 4,
 "nbformat_minor": 5
}
